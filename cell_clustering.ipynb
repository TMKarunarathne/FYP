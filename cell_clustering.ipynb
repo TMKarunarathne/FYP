{
  "nbformat": 4,
  "nbformat_minor": 0,
  "metadata": {
    "colab": {
      "provenance": [],
      "include_colab_link": true
    },
    "kernelspec": {
      "name": "python3",
      "display_name": "Python 3"
    },
    "language_info": {
      "name": "python"
    },
    "gpuClass": "standard"
  },
  "cells": [
    {
      "cell_type": "markdown",
      "metadata": {
        "id": "view-in-github",
        "colab_type": "text"
      },
      "source": [
        "<a href=\"https://colab.research.google.com/github/TMKarunarathne/FYP/blob/main/cell_clustering.ipynb\" target=\"_parent\"><img src=\"https://colab.research.google.com/assets/colab-badge.svg\" alt=\"Open In Colab\"/></a>"
      ]
    },
    {
      "cell_type": "code",
      "execution_count": null,
      "metadata": {
        "colab": {
          "base_uri": "https://localhost:8080/"
        },
        "id": "GbbewM1vYBDi",
        "outputId": "c88b29cf-d163-4bc1-d685-17ca9f4f4271"
      },
      "outputs": [
        {
          "output_type": "stream",
          "name": "stdout",
          "text": [
            "Mounted at /content/gdrive\n",
            "Mounted at /content/gdrive\n"
          ]
        }
      ],
      "source": [
        "import numpy as np\n",
        "import matplotlib.pyplot as plt\n",
        "import pandas as pd\n",
        "import math\n",
        "import scipy.io\n",
        "import warnings\n",
        "warnings.filterwarnings('ignore')\n",
        "\n",
        "from google.colab import drive\n",
        "drive.mount('/content/gdrive')\n",
        "drive.mount(\"/content/gdrive\", force_remount=True)"
      ]
    },
    {
      "cell_type": "code",
      "source": [
        "rand_state =1000\n",
        "mat_file = '/content/gdrive/MyDrive/Data_Set/FV_10000x8928_01.mat'\n",
        "mat = scipy.io.loadmat(mat_file)\n",
        "\n",
        "df1= pd.DataFrame(mat['df'])\n",
        "df1 = df1.drop(df1.columns[[0]], axis=1)\n",
        "df1=df1.iloc[:,1:]\n",
        "col = [i for i in range(1,10001)]\n",
        "df1 = df1.set_axis(col, axis=1)\n",
        "dates_x = pd.to_datetime(pd.DataFrame(mat['df'])[1], unit=\"s\")\n",
        "df1.set_index(dates_x,inplace=True)\n",
        "df1.index.freq = '10min'\n",
        "df1.head(5)"
      ],
      "metadata": {
        "colab": {
          "base_uri": "https://localhost:8080/",
          "height": 504
        },
        "id": "STc_GPRdYSL1",
        "outputId": "579eea5f-c398-4e1f-caa5-b6e1248f5c26"
      },
      "execution_count": null,
      "outputs": [
        {
          "output_type": "execute_result",
          "data": {
            "text/plain": [
              "                         1          2          3          4         5      \\\n",
              "1                                                                           \n",
              "2013-10-31 23:00:00  11.028366  11.058225  11.090008  10.941881  9.916548   \n",
              "2013-10-31 23:10:00  11.127101  11.167926  11.211383  11.008849  9.987806   \n",
              "2013-10-31 23:20:00  10.892771  10.915638  10.939979  10.826535  9.772990   \n",
              "2013-10-31 23:30:00   8.622425   8.626340   8.630509   8.611082  7.860796   \n",
              "2013-10-31 23:40:00   8.009927   8.020256   8.031251   7.980009  7.263837   \n",
              "\n",
              "                         6          7          8          9         10     \\\n",
              "1                                                                           \n",
              "2013-10-31 23:00:00  11.090008  11.090008  11.090008  11.090008  6.374815   \n",
              "2013-10-31 23:10:00  11.211383  11.211383  11.211383  11.211383  6.553571   \n",
              "2013-10-31 23:20:00  10.939979  10.939979  10.939979  10.939979  6.068525   \n",
              "2013-10-31 23:30:00   8.630509   8.630509   8.630509   8.630509  5.119293   \n",
              "2013-10-31 23:40:00   8.031251   8.031251   8.031251   8.031251  4.702058   \n",
              "\n",
              "                     ...      9991       9992       9993       9994   \\\n",
              "1                    ...                                               \n",
              "2013-10-31 23:00:00  ...  87.475471  62.583127  23.796852  20.001131   \n",
              "2013-10-31 23:10:00  ...  82.440390  57.532262  19.081251  15.228796   \n",
              "2013-10-31 23:20:00  ...  65.302247  51.335307  30.175465  27.837597   \n",
              "2013-10-31 23:30:00  ...  54.094600  44.974487  30.069374  26.188857   \n",
              "2013-10-31 23:40:00  ...  58.119518  43.981767  22.195527  19.334859   \n",
              "\n",
              "                         9995       9996       9997       9998       9999   \\\n",
              "1                                                                            \n",
              "2013-10-31 23:00:00  29.757764  37.990080  40.455439  40.051989  26.016274   \n",
              "2013-10-31 23:10:00  29.415636  39.170855  39.293431  39.382781  25.436478   \n",
              "2013-10-31 23:20:00  27.419090  29.319222  32.648722  31.970062  19.030127   \n",
              "2013-10-31 23:30:00  29.412667  34.141095  37.662177  36.984591  20.578716   \n",
              "2013-10-31 23:40:00  38.768943  51.147670  50.005736  50.398211  32.289851   \n",
              "\n",
              "                         10000  \n",
              "1                               \n",
              "2013-10-31 23:00:00  19.359289  \n",
              "2013-10-31 23:10:00  13.895724  \n",
              "2013-10-31 23:20:00  15.018573  \n",
              "2013-10-31 23:30:00  13.234179  \n",
              "2013-10-31 23:40:00  14.408410  \n",
              "\n",
              "[5 rows x 10000 columns]"
            ],
            "text/html": [
              "\n",
              "  <div id=\"df-87686d4a-2774-43ae-9d79-292dec7f35b5\">\n",
              "    <div class=\"colab-df-container\">\n",
              "      <div>\n",
              "<style scoped>\n",
              "    .dataframe tbody tr th:only-of-type {\n",
              "        vertical-align: middle;\n",
              "    }\n",
              "\n",
              "    .dataframe tbody tr th {\n",
              "        vertical-align: top;\n",
              "    }\n",
              "\n",
              "    .dataframe thead th {\n",
              "        text-align: right;\n",
              "    }\n",
              "</style>\n",
              "<table border=\"1\" class=\"dataframe\">\n",
              "  <thead>\n",
              "    <tr style=\"text-align: right;\">\n",
              "      <th></th>\n",
              "      <th>1</th>\n",
              "      <th>2</th>\n",
              "      <th>3</th>\n",
              "      <th>4</th>\n",
              "      <th>5</th>\n",
              "      <th>6</th>\n",
              "      <th>7</th>\n",
              "      <th>8</th>\n",
              "      <th>9</th>\n",
              "      <th>10</th>\n",
              "      <th>...</th>\n",
              "      <th>9991</th>\n",
              "      <th>9992</th>\n",
              "      <th>9993</th>\n",
              "      <th>9994</th>\n",
              "      <th>9995</th>\n",
              "      <th>9996</th>\n",
              "      <th>9997</th>\n",
              "      <th>9998</th>\n",
              "      <th>9999</th>\n",
              "      <th>10000</th>\n",
              "    </tr>\n",
              "    <tr>\n",
              "      <th>1</th>\n",
              "      <th></th>\n",
              "      <th></th>\n",
              "      <th></th>\n",
              "      <th></th>\n",
              "      <th></th>\n",
              "      <th></th>\n",
              "      <th></th>\n",
              "      <th></th>\n",
              "      <th></th>\n",
              "      <th></th>\n",
              "      <th></th>\n",
              "      <th></th>\n",
              "      <th></th>\n",
              "      <th></th>\n",
              "      <th></th>\n",
              "      <th></th>\n",
              "      <th></th>\n",
              "      <th></th>\n",
              "      <th></th>\n",
              "      <th></th>\n",
              "      <th></th>\n",
              "    </tr>\n",
              "  </thead>\n",
              "  <tbody>\n",
              "    <tr>\n",
              "      <th>2013-10-31 23:00:00</th>\n",
              "      <td>11.028366</td>\n",
              "      <td>11.058225</td>\n",
              "      <td>11.090008</td>\n",
              "      <td>10.941881</td>\n",
              "      <td>9.916548</td>\n",
              "      <td>11.090008</td>\n",
              "      <td>11.090008</td>\n",
              "      <td>11.090008</td>\n",
              "      <td>11.090008</td>\n",
              "      <td>6.374815</td>\n",
              "      <td>...</td>\n",
              "      <td>87.475471</td>\n",
              "      <td>62.583127</td>\n",
              "      <td>23.796852</td>\n",
              "      <td>20.001131</td>\n",
              "      <td>29.757764</td>\n",
              "      <td>37.990080</td>\n",
              "      <td>40.455439</td>\n",
              "      <td>40.051989</td>\n",
              "      <td>26.016274</td>\n",
              "      <td>19.359289</td>\n",
              "    </tr>\n",
              "    <tr>\n",
              "      <th>2013-10-31 23:10:00</th>\n",
              "      <td>11.127101</td>\n",
              "      <td>11.167926</td>\n",
              "      <td>11.211383</td>\n",
              "      <td>11.008849</td>\n",
              "      <td>9.987806</td>\n",
              "      <td>11.211383</td>\n",
              "      <td>11.211383</td>\n",
              "      <td>11.211383</td>\n",
              "      <td>11.211383</td>\n",
              "      <td>6.553571</td>\n",
              "      <td>...</td>\n",
              "      <td>82.440390</td>\n",
              "      <td>57.532262</td>\n",
              "      <td>19.081251</td>\n",
              "      <td>15.228796</td>\n",
              "      <td>29.415636</td>\n",
              "      <td>39.170855</td>\n",
              "      <td>39.293431</td>\n",
              "      <td>39.382781</td>\n",
              "      <td>25.436478</td>\n",
              "      <td>13.895724</td>\n",
              "    </tr>\n",
              "    <tr>\n",
              "      <th>2013-10-31 23:20:00</th>\n",
              "      <td>10.892771</td>\n",
              "      <td>10.915638</td>\n",
              "      <td>10.939979</td>\n",
              "      <td>10.826535</td>\n",
              "      <td>9.772990</td>\n",
              "      <td>10.939979</td>\n",
              "      <td>10.939979</td>\n",
              "      <td>10.939979</td>\n",
              "      <td>10.939979</td>\n",
              "      <td>6.068525</td>\n",
              "      <td>...</td>\n",
              "      <td>65.302247</td>\n",
              "      <td>51.335307</td>\n",
              "      <td>30.175465</td>\n",
              "      <td>27.837597</td>\n",
              "      <td>27.419090</td>\n",
              "      <td>29.319222</td>\n",
              "      <td>32.648722</td>\n",
              "      <td>31.970062</td>\n",
              "      <td>19.030127</td>\n",
              "      <td>15.018573</td>\n",
              "    </tr>\n",
              "    <tr>\n",
              "      <th>2013-10-31 23:30:00</th>\n",
              "      <td>8.622425</td>\n",
              "      <td>8.626340</td>\n",
              "      <td>8.630509</td>\n",
              "      <td>8.611082</td>\n",
              "      <td>7.860796</td>\n",
              "      <td>8.630509</td>\n",
              "      <td>8.630509</td>\n",
              "      <td>8.630509</td>\n",
              "      <td>8.630509</td>\n",
              "      <td>5.119293</td>\n",
              "      <td>...</td>\n",
              "      <td>54.094600</td>\n",
              "      <td>44.974487</td>\n",
              "      <td>30.069374</td>\n",
              "      <td>26.188857</td>\n",
              "      <td>29.412667</td>\n",
              "      <td>34.141095</td>\n",
              "      <td>37.662177</td>\n",
              "      <td>36.984591</td>\n",
              "      <td>20.578716</td>\n",
              "      <td>13.234179</td>\n",
              "    </tr>\n",
              "    <tr>\n",
              "      <th>2013-10-31 23:40:00</th>\n",
              "      <td>8.009927</td>\n",
              "      <td>8.020256</td>\n",
              "      <td>8.031251</td>\n",
              "      <td>7.980009</td>\n",
              "      <td>7.263837</td>\n",
              "      <td>8.031251</td>\n",
              "      <td>8.031251</td>\n",
              "      <td>8.031251</td>\n",
              "      <td>8.031251</td>\n",
              "      <td>4.702058</td>\n",
              "      <td>...</td>\n",
              "      <td>58.119518</td>\n",
              "      <td>43.981767</td>\n",
              "      <td>22.195527</td>\n",
              "      <td>19.334859</td>\n",
              "      <td>38.768943</td>\n",
              "      <td>51.147670</td>\n",
              "      <td>50.005736</td>\n",
              "      <td>50.398211</td>\n",
              "      <td>32.289851</td>\n",
              "      <td>14.408410</td>\n",
              "    </tr>\n",
              "  </tbody>\n",
              "</table>\n",
              "<p>5 rows × 10000 columns</p>\n",
              "</div>\n",
              "      <button class=\"colab-df-convert\" onclick=\"convertToInteractive('df-87686d4a-2774-43ae-9d79-292dec7f35b5')\"\n",
              "              title=\"Convert this dataframe to an interactive table.\"\n",
              "              style=\"display:none;\">\n",
              "        \n",
              "  <svg xmlns=\"http://www.w3.org/2000/svg\" height=\"24px\"viewBox=\"0 0 24 24\"\n",
              "       width=\"24px\">\n",
              "    <path d=\"M0 0h24v24H0V0z\" fill=\"none\"/>\n",
              "    <path d=\"M18.56 5.44l.94 2.06.94-2.06 2.06-.94-2.06-.94-.94-2.06-.94 2.06-2.06.94zm-11 1L8.5 8.5l.94-2.06 2.06-.94-2.06-.94L8.5 2.5l-.94 2.06-2.06.94zm10 10l.94 2.06.94-2.06 2.06-.94-2.06-.94-.94-2.06-.94 2.06-2.06.94z\"/><path d=\"M17.41 7.96l-1.37-1.37c-.4-.4-.92-.59-1.43-.59-.52 0-1.04.2-1.43.59L10.3 9.45l-7.72 7.72c-.78.78-.78 2.05 0 2.83L4 21.41c.39.39.9.59 1.41.59.51 0 1.02-.2 1.41-.59l7.78-7.78 2.81-2.81c.8-.78.8-2.07 0-2.86zM5.41 20L4 18.59l7.72-7.72 1.47 1.35L5.41 20z\"/>\n",
              "  </svg>\n",
              "      </button>\n",
              "      \n",
              "  <style>\n",
              "    .colab-df-container {\n",
              "      display:flex;\n",
              "      flex-wrap:wrap;\n",
              "      gap: 12px;\n",
              "    }\n",
              "\n",
              "    .colab-df-convert {\n",
              "      background-color: #E8F0FE;\n",
              "      border: none;\n",
              "      border-radius: 50%;\n",
              "      cursor: pointer;\n",
              "      display: none;\n",
              "      fill: #1967D2;\n",
              "      height: 32px;\n",
              "      padding: 0 0 0 0;\n",
              "      width: 32px;\n",
              "    }\n",
              "\n",
              "    .colab-df-convert:hover {\n",
              "      background-color: #E2EBFA;\n",
              "      box-shadow: 0px 1px 2px rgba(60, 64, 67, 0.3), 0px 1px 3px 1px rgba(60, 64, 67, 0.15);\n",
              "      fill: #174EA6;\n",
              "    }\n",
              "\n",
              "    [theme=dark] .colab-df-convert {\n",
              "      background-color: #3B4455;\n",
              "      fill: #D2E3FC;\n",
              "    }\n",
              "\n",
              "    [theme=dark] .colab-df-convert:hover {\n",
              "      background-color: #434B5C;\n",
              "      box-shadow: 0px 1px 3px 1px rgba(0, 0, 0, 0.15);\n",
              "      filter: drop-shadow(0px 1px 2px rgba(0, 0, 0, 0.3));\n",
              "      fill: #FFFFFF;\n",
              "    }\n",
              "  </style>\n",
              "\n",
              "      <script>\n",
              "        const buttonEl =\n",
              "          document.querySelector('#df-87686d4a-2774-43ae-9d79-292dec7f35b5 button.colab-df-convert');\n",
              "        buttonEl.style.display =\n",
              "          google.colab.kernel.accessAllowed ? 'block' : 'none';\n",
              "\n",
              "        async function convertToInteractive(key) {\n",
              "          const element = document.querySelector('#df-87686d4a-2774-43ae-9d79-292dec7f35b5');\n",
              "          const dataTable =\n",
              "            await google.colab.kernel.invokeFunction('convertToInteractive',\n",
              "                                                     [key], {});\n",
              "          if (!dataTable) return;\n",
              "\n",
              "          const docLinkHtml = 'Like what you see? Visit the ' +\n",
              "            '<a target=\"_blank\" href=https://colab.research.google.com/notebooks/data_table.ipynb>data table notebook</a>'\n",
              "            + ' to learn more about interactive tables.';\n",
              "          element.innerHTML = '';\n",
              "          dataTable['output_type'] = 'display_data';\n",
              "          await google.colab.output.renderOutput(dataTable, element);\n",
              "          const docLink = document.createElement('div');\n",
              "          docLink.innerHTML = docLinkHtml;\n",
              "          element.appendChild(docLink);\n",
              "        }\n",
              "      </script>\n",
              "    </div>\n",
              "  </div>\n",
              "  "
            ]
          },
          "metadata": {},
          "execution_count": 2
        }
      ]
    },
    {
      "cell_type": "markdown",
      "source": [
        "# **K-MEANS CLUSTERING**"
      ],
      "metadata": {
        "id": "S7Byb1npCgnO"
      }
    },
    {
      "cell_type": "code",
      "source": [
        "mean=[]\n",
        "std=[]\n",
        "\n",
        "for i in range(10000):\n",
        "  temp_df = df1[i+1].values\n",
        "  temp_mean = np.mean(temp_df) \n",
        "  temp_std = np.std(temp_df)\n",
        "  mean.append(temp_mean)\n",
        "  std.append(temp_std)"
      ],
      "metadata": {
        "id": "W5xI4peoY5Lr"
      },
      "execution_count": null,
      "outputs": []
    },
    {
      "cell_type": "code",
      "source": [
        "index = [i+1 for i in range(10000)]\n",
        "df_ms= pd.DataFrame(list(zip(mean, std)),index=index,columns=['mean','std'])\n",
        "df_ms"
      ],
      "metadata": {
        "colab": {
          "base_uri": "https://localhost:8080/",
          "height": 424
        },
        "id": "eS2t_O4xZ99M",
        "outputId": "45892818-f833-441d-8385-5a42f45a13f2"
      },
      "execution_count": null,
      "outputs": [
        {
          "output_type": "execute_result",
          "data": {
            "text/plain": [
              "            mean        std\n",
              "1      10.415845   3.370539\n",
              "2      10.457929   3.386785\n",
              "3      10.502725   3.404287\n",
              "4      10.293950   3.324584\n",
              "5       9.367238   2.992896\n",
              "...          ...        ...\n",
              "9996   37.476699  12.583810\n",
              "9997   41.404020  13.331453\n",
              "9998   40.672262  13.120893\n",
              "9999   25.163609   8.984312\n",
              "10000  19.876424   7.947948\n",
              "\n",
              "[10000 rows x 2 columns]"
            ],
            "text/html": [
              "\n",
              "  <div id=\"df-040d704d-7be7-43e6-b019-7ff360cbe715\">\n",
              "    <div class=\"colab-df-container\">\n",
              "      <div>\n",
              "<style scoped>\n",
              "    .dataframe tbody tr th:only-of-type {\n",
              "        vertical-align: middle;\n",
              "    }\n",
              "\n",
              "    .dataframe tbody tr th {\n",
              "        vertical-align: top;\n",
              "    }\n",
              "\n",
              "    .dataframe thead th {\n",
              "        text-align: right;\n",
              "    }\n",
              "</style>\n",
              "<table border=\"1\" class=\"dataframe\">\n",
              "  <thead>\n",
              "    <tr style=\"text-align: right;\">\n",
              "      <th></th>\n",
              "      <th>mean</th>\n",
              "      <th>std</th>\n",
              "    </tr>\n",
              "  </thead>\n",
              "  <tbody>\n",
              "    <tr>\n",
              "      <th>1</th>\n",
              "      <td>10.415845</td>\n",
              "      <td>3.370539</td>\n",
              "    </tr>\n",
              "    <tr>\n",
              "      <th>2</th>\n",
              "      <td>10.457929</td>\n",
              "      <td>3.386785</td>\n",
              "    </tr>\n",
              "    <tr>\n",
              "      <th>3</th>\n",
              "      <td>10.502725</td>\n",
              "      <td>3.404287</td>\n",
              "    </tr>\n",
              "    <tr>\n",
              "      <th>4</th>\n",
              "      <td>10.293950</td>\n",
              "      <td>3.324584</td>\n",
              "    </tr>\n",
              "    <tr>\n",
              "      <th>5</th>\n",
              "      <td>9.367238</td>\n",
              "      <td>2.992896</td>\n",
              "    </tr>\n",
              "    <tr>\n",
              "      <th>...</th>\n",
              "      <td>...</td>\n",
              "      <td>...</td>\n",
              "    </tr>\n",
              "    <tr>\n",
              "      <th>9996</th>\n",
              "      <td>37.476699</td>\n",
              "      <td>12.583810</td>\n",
              "    </tr>\n",
              "    <tr>\n",
              "      <th>9997</th>\n",
              "      <td>41.404020</td>\n",
              "      <td>13.331453</td>\n",
              "    </tr>\n",
              "    <tr>\n",
              "      <th>9998</th>\n",
              "      <td>40.672262</td>\n",
              "      <td>13.120893</td>\n",
              "    </tr>\n",
              "    <tr>\n",
              "      <th>9999</th>\n",
              "      <td>25.163609</td>\n",
              "      <td>8.984312</td>\n",
              "    </tr>\n",
              "    <tr>\n",
              "      <th>10000</th>\n",
              "      <td>19.876424</td>\n",
              "      <td>7.947948</td>\n",
              "    </tr>\n",
              "  </tbody>\n",
              "</table>\n",
              "<p>10000 rows × 2 columns</p>\n",
              "</div>\n",
              "      <button class=\"colab-df-convert\" onclick=\"convertToInteractive('df-040d704d-7be7-43e6-b019-7ff360cbe715')\"\n",
              "              title=\"Convert this dataframe to an interactive table.\"\n",
              "              style=\"display:none;\">\n",
              "        \n",
              "  <svg xmlns=\"http://www.w3.org/2000/svg\" height=\"24px\"viewBox=\"0 0 24 24\"\n",
              "       width=\"24px\">\n",
              "    <path d=\"M0 0h24v24H0V0z\" fill=\"none\"/>\n",
              "    <path d=\"M18.56 5.44l.94 2.06.94-2.06 2.06-.94-2.06-.94-.94-2.06-.94 2.06-2.06.94zm-11 1L8.5 8.5l.94-2.06 2.06-.94-2.06-.94L8.5 2.5l-.94 2.06-2.06.94zm10 10l.94 2.06.94-2.06 2.06-.94-2.06-.94-.94-2.06-.94 2.06-2.06.94z\"/><path d=\"M17.41 7.96l-1.37-1.37c-.4-.4-.92-.59-1.43-.59-.52 0-1.04.2-1.43.59L10.3 9.45l-7.72 7.72c-.78.78-.78 2.05 0 2.83L4 21.41c.39.39.9.59 1.41.59.51 0 1.02-.2 1.41-.59l7.78-7.78 2.81-2.81c.8-.78.8-2.07 0-2.86zM5.41 20L4 18.59l7.72-7.72 1.47 1.35L5.41 20z\"/>\n",
              "  </svg>\n",
              "      </button>\n",
              "      \n",
              "  <style>\n",
              "    .colab-df-container {\n",
              "      display:flex;\n",
              "      flex-wrap:wrap;\n",
              "      gap: 12px;\n",
              "    }\n",
              "\n",
              "    .colab-df-convert {\n",
              "      background-color: #E8F0FE;\n",
              "      border: none;\n",
              "      border-radius: 50%;\n",
              "      cursor: pointer;\n",
              "      display: none;\n",
              "      fill: #1967D2;\n",
              "      height: 32px;\n",
              "      padding: 0 0 0 0;\n",
              "      width: 32px;\n",
              "    }\n",
              "\n",
              "    .colab-df-convert:hover {\n",
              "      background-color: #E2EBFA;\n",
              "      box-shadow: 0px 1px 2px rgba(60, 64, 67, 0.3), 0px 1px 3px 1px rgba(60, 64, 67, 0.15);\n",
              "      fill: #174EA6;\n",
              "    }\n",
              "\n",
              "    [theme=dark] .colab-df-convert {\n",
              "      background-color: #3B4455;\n",
              "      fill: #D2E3FC;\n",
              "    }\n",
              "\n",
              "    [theme=dark] .colab-df-convert:hover {\n",
              "      background-color: #434B5C;\n",
              "      box-shadow: 0px 1px 3px 1px rgba(0, 0, 0, 0.15);\n",
              "      filter: drop-shadow(0px 1px 2px rgba(0, 0, 0, 0.3));\n",
              "      fill: #FFFFFF;\n",
              "    }\n",
              "  </style>\n",
              "\n",
              "      <script>\n",
              "        const buttonEl =\n",
              "          document.querySelector('#df-040d704d-7be7-43e6-b019-7ff360cbe715 button.colab-df-convert');\n",
              "        buttonEl.style.display =\n",
              "          google.colab.kernel.accessAllowed ? 'block' : 'none';\n",
              "\n",
              "        async function convertToInteractive(key) {\n",
              "          const element = document.querySelector('#df-040d704d-7be7-43e6-b019-7ff360cbe715');\n",
              "          const dataTable =\n",
              "            await google.colab.kernel.invokeFunction('convertToInteractive',\n",
              "                                                     [key], {});\n",
              "          if (!dataTable) return;\n",
              "\n",
              "          const docLinkHtml = 'Like what you see? Visit the ' +\n",
              "            '<a target=\"_blank\" href=https://colab.research.google.com/notebooks/data_table.ipynb>data table notebook</a>'\n",
              "            + ' to learn more about interactive tables.';\n",
              "          element.innerHTML = '';\n",
              "          dataTable['output_type'] = 'display_data';\n",
              "          await google.colab.output.renderOutput(dataTable, element);\n",
              "          const docLink = document.createElement('div');\n",
              "          docLink.innerHTML = docLinkHtml;\n",
              "          element.appendChild(docLink);\n",
              "        }\n",
              "      </script>\n",
              "    </div>\n",
              "  </div>\n",
              "  "
            ]
          },
          "metadata": {},
          "execution_count": 5
        }
      ]
    },
    {
      "cell_type": "code",
      "source": [
        "df_ms.describe()"
      ],
      "metadata": {
        "colab": {
          "base_uri": "https://localhost:8080/",
          "height": 300
        },
        "id": "dNuiFK9CeZd5",
        "outputId": "e8704372-9768-4c3c-e1ef-6f0f9887e5fe"
      },
      "execution_count": null,
      "outputs": [
        {
          "output_type": "execute_result",
          "data": {
            "text/plain": [
              "               mean           std\n",
              "count  10000.000000  10000.000000\n",
              "mean      62.196412     30.753813\n",
              "std       99.977110     61.775247\n",
              "min        0.077420      0.111975\n",
              "25%       13.228269      5.505114\n",
              "50%       31.123555     13.446846\n",
              "75%       64.728452     28.854024\n",
              "max     1426.978085   1381.571829"
            ],
            "text/html": [
              "\n",
              "  <div id=\"df-6302196d-444a-4b9a-bd81-e5617c1fb450\">\n",
              "    <div class=\"colab-df-container\">\n",
              "      <div>\n",
              "<style scoped>\n",
              "    .dataframe tbody tr th:only-of-type {\n",
              "        vertical-align: middle;\n",
              "    }\n",
              "\n",
              "    .dataframe tbody tr th {\n",
              "        vertical-align: top;\n",
              "    }\n",
              "\n",
              "    .dataframe thead th {\n",
              "        text-align: right;\n",
              "    }\n",
              "</style>\n",
              "<table border=\"1\" class=\"dataframe\">\n",
              "  <thead>\n",
              "    <tr style=\"text-align: right;\">\n",
              "      <th></th>\n",
              "      <th>mean</th>\n",
              "      <th>std</th>\n",
              "    </tr>\n",
              "  </thead>\n",
              "  <tbody>\n",
              "    <tr>\n",
              "      <th>count</th>\n",
              "      <td>10000.000000</td>\n",
              "      <td>10000.000000</td>\n",
              "    </tr>\n",
              "    <tr>\n",
              "      <th>mean</th>\n",
              "      <td>62.196412</td>\n",
              "      <td>30.753813</td>\n",
              "    </tr>\n",
              "    <tr>\n",
              "      <th>std</th>\n",
              "      <td>99.977110</td>\n",
              "      <td>61.775247</td>\n",
              "    </tr>\n",
              "    <tr>\n",
              "      <th>min</th>\n",
              "      <td>0.077420</td>\n",
              "      <td>0.111975</td>\n",
              "    </tr>\n",
              "    <tr>\n",
              "      <th>25%</th>\n",
              "      <td>13.228269</td>\n",
              "      <td>5.505114</td>\n",
              "    </tr>\n",
              "    <tr>\n",
              "      <th>50%</th>\n",
              "      <td>31.123555</td>\n",
              "      <td>13.446846</td>\n",
              "    </tr>\n",
              "    <tr>\n",
              "      <th>75%</th>\n",
              "      <td>64.728452</td>\n",
              "      <td>28.854024</td>\n",
              "    </tr>\n",
              "    <tr>\n",
              "      <th>max</th>\n",
              "      <td>1426.978085</td>\n",
              "      <td>1381.571829</td>\n",
              "    </tr>\n",
              "  </tbody>\n",
              "</table>\n",
              "</div>\n",
              "      <button class=\"colab-df-convert\" onclick=\"convertToInteractive('df-6302196d-444a-4b9a-bd81-e5617c1fb450')\"\n",
              "              title=\"Convert this dataframe to an interactive table.\"\n",
              "              style=\"display:none;\">\n",
              "        \n",
              "  <svg xmlns=\"http://www.w3.org/2000/svg\" height=\"24px\"viewBox=\"0 0 24 24\"\n",
              "       width=\"24px\">\n",
              "    <path d=\"M0 0h24v24H0V0z\" fill=\"none\"/>\n",
              "    <path d=\"M18.56 5.44l.94 2.06.94-2.06 2.06-.94-2.06-.94-.94-2.06-.94 2.06-2.06.94zm-11 1L8.5 8.5l.94-2.06 2.06-.94-2.06-.94L8.5 2.5l-.94 2.06-2.06.94zm10 10l.94 2.06.94-2.06 2.06-.94-2.06-.94-.94-2.06-.94 2.06-2.06.94z\"/><path d=\"M17.41 7.96l-1.37-1.37c-.4-.4-.92-.59-1.43-.59-.52 0-1.04.2-1.43.59L10.3 9.45l-7.72 7.72c-.78.78-.78 2.05 0 2.83L4 21.41c.39.39.9.59 1.41.59.51 0 1.02-.2 1.41-.59l7.78-7.78 2.81-2.81c.8-.78.8-2.07 0-2.86zM5.41 20L4 18.59l7.72-7.72 1.47 1.35L5.41 20z\"/>\n",
              "  </svg>\n",
              "      </button>\n",
              "      \n",
              "  <style>\n",
              "    .colab-df-container {\n",
              "      display:flex;\n",
              "      flex-wrap:wrap;\n",
              "      gap: 12px;\n",
              "    }\n",
              "\n",
              "    .colab-df-convert {\n",
              "      background-color: #E8F0FE;\n",
              "      border: none;\n",
              "      border-radius: 50%;\n",
              "      cursor: pointer;\n",
              "      display: none;\n",
              "      fill: #1967D2;\n",
              "      height: 32px;\n",
              "      padding: 0 0 0 0;\n",
              "      width: 32px;\n",
              "    }\n",
              "\n",
              "    .colab-df-convert:hover {\n",
              "      background-color: #E2EBFA;\n",
              "      box-shadow: 0px 1px 2px rgba(60, 64, 67, 0.3), 0px 1px 3px 1px rgba(60, 64, 67, 0.15);\n",
              "      fill: #174EA6;\n",
              "    }\n",
              "\n",
              "    [theme=dark] .colab-df-convert {\n",
              "      background-color: #3B4455;\n",
              "      fill: #D2E3FC;\n",
              "    }\n",
              "\n",
              "    [theme=dark] .colab-df-convert:hover {\n",
              "      background-color: #434B5C;\n",
              "      box-shadow: 0px 1px 3px 1px rgba(0, 0, 0, 0.15);\n",
              "      filter: drop-shadow(0px 1px 2px rgba(0, 0, 0, 0.3));\n",
              "      fill: #FFFFFF;\n",
              "    }\n",
              "  </style>\n",
              "\n",
              "      <script>\n",
              "        const buttonEl =\n",
              "          document.querySelector('#df-6302196d-444a-4b9a-bd81-e5617c1fb450 button.colab-df-convert');\n",
              "        buttonEl.style.display =\n",
              "          google.colab.kernel.accessAllowed ? 'block' : 'none';\n",
              "\n",
              "        async function convertToInteractive(key) {\n",
              "          const element = document.querySelector('#df-6302196d-444a-4b9a-bd81-e5617c1fb450');\n",
              "          const dataTable =\n",
              "            await google.colab.kernel.invokeFunction('convertToInteractive',\n",
              "                                                     [key], {});\n",
              "          if (!dataTable) return;\n",
              "\n",
              "          const docLinkHtml = 'Like what you see? Visit the ' +\n",
              "            '<a target=\"_blank\" href=https://colab.research.google.com/notebooks/data_table.ipynb>data table notebook</a>'\n",
              "            + ' to learn more about interactive tables.';\n",
              "          element.innerHTML = '';\n",
              "          dataTable['output_type'] = 'display_data';\n",
              "          await google.colab.output.renderOutput(dataTable, element);\n",
              "          const docLink = document.createElement('div');\n",
              "          docLink.innerHTML = docLinkHtml;\n",
              "          element.appendChild(docLink);\n",
              "        }\n",
              "      </script>\n",
              "    </div>\n",
              "  </div>\n",
              "  "
            ]
          },
          "metadata": {},
          "execution_count": 70
        }
      ]
    },
    {
      "cell_type": "code",
      "source": [
        "X = df_ms.iloc[:, [0,1]].values"
      ],
      "metadata": {
        "id": "aH0UubRpc8TI"
      },
      "execution_count": null,
      "outputs": []
    },
    {
      "cell_type": "code",
      "source": [
        "from sklearn.cluster import KMeans\n",
        "wcss = []\n",
        "for i in range(1, 11):\n",
        "    kmeans = KMeans(n_clusters = i, init = 'k-means++', random_state = 42)\n",
        "    kmeans.fit(X)\n",
        "    wcss.append(kmeans.inertia_)\n",
        "plt.plot(range(1, 11), wcss)\n",
        "plt.title('The Elbow Method')\n",
        "plt.xlabel('Number of clusters')\n",
        "plt.ylabel('WCSS')\n",
        "plt.show()"
      ],
      "metadata": {
        "colab": {
          "base_uri": "https://localhost:8080/",
          "height": 295
        },
        "id": "N0ArwpFsc4Mw",
        "outputId": "d928977a-af23-47d3-e2eb-e46f89d18bc2"
      },
      "execution_count": null,
      "outputs": [
        {
          "output_type": "display_data",
          "data": {
            "text/plain": [
              "<Figure size 432x288 with 1 Axes>"
            ],
            "image/png": "[encoded data removed]"
          },
          "metadata": {
            "needs_background": "light"
          }
        }
      ]
    },
    {
      "cell_type": "code",
      "source": [
        "kmeans = KMeans(n_clusters = 4, init = 'k-means++', random_state = 42)\n",
        "y_kmeans = kmeans.fit_predict(X)"
      ],
      "metadata": {
        "id": "gdrYv-Uydrdr"
      },
      "execution_count": null,
      "outputs": []
    },
    {
      "cell_type": "code",
      "source": [
        "plt.scatter(X[y_kmeans == 0, 0], X[y_kmeans == 0, 1], s = 10, c = 'red', label = 'Cluster 1')\n",
        "plt.scatter(X[y_kmeans == 1, 0], X[y_kmeans == 1, 1], s = 10, c = 'blue', label = 'Cluster 2')\n",
        "plt.scatter(X[y_kmeans == 2, 0], X[y_kmeans == 2, 1], s = 10, c = 'green', label = 'Cluster 3')\n",
        "plt.scatter(X[y_kmeans == 3, 0], X[y_kmeans == 3, 1], s = 10, c = 'yellow', label = 'Cluster 4')\n",
        "#plt.scatter(X[y_kmeans == 4, 0], X[y_kmeans == 4, 1], s = 10, c = 'yellow', label = 'Cluster 5')\n",
        "plt.title('Clusters of cells')\n",
        "plt.xlabel('mean')\n",
        "plt.ylabel('std')\n",
        "plt.legend()\n",
        "plt.show()"
      ],
      "metadata": {
        "colab": {
          "base_uri": "https://localhost:8080/",
          "height": 295
        },
        "id": "h2B_3Mtvdug4",
        "outputId": "bff9c50e-84ea-4c57-e40d-14272b3d3a9a"
      },
      "execution_count": null,
      "outputs": [
        {
          "output_type": "display_data",
          "data": {
            "text/plain": [
              "<Figure size 432x288 with 1 Axes>"
            ],
            "image/png": "[encoded data removed]"
          },
          "metadata": {
            "needs_background": "light"
          }
        }
      ]
    },
    {
      "cell_type": "code",
      "source": [
        "clusters=pd.DataFrame(list(zip(y_kmeans, index)),index=index,columns=['cluster','cell_NO'])\n",
        "clusters"
      ],
      "metadata": {
        "colab": {
          "base_uri": "https://localhost:8080/",
          "height": 424
        },
        "id": "8t0VTjdGfGju",
        "outputId": "33ff1352-abc0-4a27-e7d1-6abeb648cb80"
      },
      "execution_count": null,
      "outputs": [
        {
          "output_type": "execute_result",
          "data": {
            "text/plain": [
              "       cluster  cell_NO\n",
              "1            0        1\n",
              "2            0        2\n",
              "3            0        3\n",
              "4            0        4\n",
              "5            0        5\n",
              "...        ...      ...\n",
              "9996         0     9996\n",
              "9997         0     9997\n",
              "9998         0     9998\n",
              "9999         0     9999\n",
              "10000        0    10000\n",
              "\n",
              "[10000 rows x 2 columns]"
            ],
            "text/html": [
              "\n",
              "  <div id=\"df-54f021cc-5de8-42bc-8bda-def8a2ee9d5a\">\n",
              "    <div class=\"colab-df-container\">\n",
              "      <div>\n",
              "<style scoped>\n",
              "    .dataframe tbody tr th:only-of-type {\n",
              "        vertical-align: middle;\n",
              "    }\n",
              "\n",
              "    .dataframe tbody tr th {\n",
              "        vertical-align: top;\n",
              "    }\n",
              "\n",
              "    .dataframe thead th {\n",
              "        text-align: right;\n",
              "    }\n",
              "</style>\n",
              "<table border=\"1\" class=\"dataframe\">\n",
              "  <thead>\n",
              "    <tr style=\"text-align: right;\">\n",
              "      <th></th>\n",
              "      <th>cluster</th>\n",
              "      <th>cell_NO</th>\n",
              "    </tr>\n",
              "  </thead>\n",
              "  <tbody>\n",
              "    <tr>\n",
              "      <th>1</th>\n",
              "      <td>0</td>\n",
              "      <td>1</td>\n",
              "    </tr>\n",
              "    <tr>\n",
              "      <th>2</th>\n",
              "      <td>0</td>\n",
              "      <td>2</td>\n",
              "    </tr>\n",
              "    <tr>\n",
              "      <th>3</th>\n",
              "      <td>0</td>\n",
              "      <td>3</td>\n",
              "    </tr>\n",
              "    <tr>\n",
              "      <th>4</th>\n",
              "      <td>0</td>\n",
              "      <td>4</td>\n",
              "    </tr>\n",
              "    <tr>\n",
              "      <th>5</th>\n",
              "      <td>0</td>\n",
              "      <td>5</td>\n",
              "    </tr>\n",
              "    <tr>\n",
              "      <th>...</th>\n",
              "      <td>...</td>\n",
              "      <td>...</td>\n",
              "    </tr>\n",
              "    <tr>\n",
              "      <th>9996</th>\n",
              "      <td>0</td>\n",
              "      <td>9996</td>\n",
              "    </tr>\n",
              "    <tr>\n",
              "      <th>9997</th>\n",
              "      <td>0</td>\n",
              "      <td>9997</td>\n",
              "    </tr>\n",
              "    <tr>\n",
              "      <th>9998</th>\n",
              "      <td>0</td>\n",
              "      <td>9998</td>\n",
              "    </tr>\n",
              "    <tr>\n",
              "      <th>9999</th>\n",
              "      <td>0</td>\n",
              "      <td>9999</td>\n",
              "    </tr>\n",
              "    <tr>\n",
              "      <th>10000</th>\n",
              "      <td>0</td>\n",
              "      <td>10000</td>\n",
              "    </tr>\n",
              "  </tbody>\n",
              "</table>\n",
              "<p>10000 rows × 2 columns</p>\n",
              "</div>\n",
              "      <button class=\"colab-df-convert\" onclick=\"convertToInteractive('df-54f021cc-5de8-42bc-8bda-def8a2ee9d5a')\"\n",
              "              title=\"Convert this dataframe to an interactive table.\"\n",
              "              style=\"display:none;\">\n",
              "        \n",
              "  <svg xmlns=\"http://www.w3.org/2000/svg\" height=\"24px\"viewBox=\"0 0 24 24\"\n",
              "       width=\"24px\">\n",
              "    <path d=\"M0 0h24v24H0V0z\" fill=\"none\"/>\n",
              "    <path d=\"M18.56 5.44l.94 2.06.94-2.06 2.06-.94-2.06-.94-.94-2.06-.94 2.06-2.06.94zm-11 1L8.5 8.5l.94-2.06 2.06-.94-2.06-.94L8.5 2.5l-.94 2.06-2.06.94zm10 10l.94 2.06.94-2.06 2.06-.94-2.06-.94-.94-2.06-.94 2.06-2.06.94z\"/><path d=\"M17.41 7.96l-1.37-1.37c-.4-.4-.92-.59-1.43-.59-.52 0-1.04.2-1.43.59L10.3 9.45l-7.72 7.72c-.78.78-.78 2.05 0 2.83L4 21.41c.39.39.9.59 1.41.59.51 0 1.02-.2 1.41-.59l7.78-7.78 2.81-2.81c.8-.78.8-2.07 0-2.86zM5.41 20L4 18.59l7.72-7.72 1.47 1.35L5.41 20z\"/>\n",
              "  </svg>\n",
              "      </button>\n",
              "      \n",
              "  <style>\n",
              "    .colab-df-container {\n",
              "      display:flex;\n",
              "      flex-wrap:wrap;\n",
              "      gap: 12px;\n",
              "    }\n",
              "\n",
              "    .colab-df-convert {\n",
              "      background-color: #E8F0FE;\n",
              "      border: none;\n",
              "      border-radius: 50%;\n",
              "      cursor: pointer;\n",
              "      display: none;\n",
              "      fill: #1967D2;\n",
              "      height: 32px;\n",
              "      padding: 0 0 0 0;\n",
              "      width: 32px;\n",
              "    }\n",
              "\n",
              "    .colab-df-convert:hover {\n",
              "      background-color: #E2EBFA;\n",
              "      box-shadow: 0px 1px 2px rgba(60, 64, 67, 0.3), 0px 1px 3px 1px rgba(60, 64, 67, 0.15);\n",
              "      fill: #174EA6;\n",
              "    }\n",
              "\n",
              "    [theme=dark] .colab-df-convert {\n",
              "      background-color: #3B4455;\n",
              "      fill: #D2E3FC;\n",
              "    }\n",
              "\n",
              "    [theme=dark] .colab-df-convert:hover {\n",
              "      background-color: #434B5C;\n",
              "      box-shadow: 0px 1px 3px 1px rgba(0, 0, 0, 0.15);\n",
              "      filter: drop-shadow(0px 1px 2px rgba(0, 0, 0, 0.3));\n",
              "      fill: #FFFFFF;\n",
              "    }\n",
              "  </style>\n",
              "\n",
              "      <script>\n",
              "        const buttonEl =\n",
              "          document.querySelector('#df-54f021cc-5de8-42bc-8bda-def8a2ee9d5a button.colab-df-convert');\n",
              "        buttonEl.style.display =\n",
              "          google.colab.kernel.accessAllowed ? 'block' : 'none';\n",
              "\n",
              "        async function convertToInteractive(key) {\n",
              "          const element = document.querySelector('#df-54f021cc-5de8-42bc-8bda-def8a2ee9d5a');\n",
              "          const dataTable =\n",
              "            await google.colab.kernel.invokeFunction('convertToInteractive',\n",
              "                                                     [key], {});\n",
              "          if (!dataTable) return;\n",
              "\n",
              "          const docLinkHtml = 'Like what you see? Visit the ' +\n",
              "            '<a target=\"_blank\" href=https://colab.research.google.com/notebooks/data_table.ipynb>data table notebook</a>'\n",
              "            + ' to learn more about interactive tables.';\n",
              "          element.innerHTML = '';\n",
              "          dataTable['output_type'] = 'display_data';\n",
              "          await google.colab.output.renderOutput(dataTable, element);\n",
              "          const docLink = document.createElement('div');\n",
              "          docLink.innerHTML = docLinkHtml;\n",
              "          element.appendChild(docLink);\n",
              "        }\n",
              "      </script>\n",
              "    </div>\n",
              "  </div>\n",
              "  "
            ]
          },
          "metadata": {},
          "execution_count": 75
        }
      ]
    },
    {
      "cell_type": "code",
      "source": [
        "cluster0=clusters[clusters['cluster']==0]['cell_NO']\n",
        "cluster1=clusters[clusters['cluster']==1]['cell_NO']\n",
        "cluster2=clusters[clusters['cluster']==2]['cell_NO']"
      ],
      "metadata": {
        "id": "x3lTO7GEghUK"
      },
      "execution_count": null,
      "outputs": []
    },
    {
      "cell_type": "code",
      "source": [
        "# Make a 100x100 grid...\n",
        "nrows, ncols = 100,100\n",
        "image = np.zeros(nrows*ncols,dtype = float)\n",
        "image.shape"
      ],
      "metadata": {
        "colab": {
          "base_uri": "https://localhost:8080/"
        },
        "id": "Ec8RU1mwj00Q",
        "outputId": "82d05e65-ab92-43ce-f90d-d5902a0f50a8"
      },
      "execution_count": null,
      "outputs": [
        {
          "output_type": "execute_result",
          "data": {
            "text/plain": [
              "(10000,)"
            ]
          },
          "metadata": {},
          "execution_count": 77
        }
      ]
    },
    {
      "cell_type": "code",
      "source": [
        "for i in range(100):\n",
        "    for j in range(100):\n",
        "      if int(clusters.loc[10000-(100*(i+1))+j+1]['cluster']) == 0:\n",
        "        image[(100*i)+j]=200\n",
        "      elif int(clusters.loc[10000-(100*(i+1))+j+1]['cluster']) == 1:\n",
        "        image[(100*i)+j]=400\n",
        "      elif int(clusters.loc[10000-(100*(i+1))+j+1]['cluster']) == 2:\n",
        "        image[(100*i)+j]=800\n",
        "      elif int(clusters.loc[10000-(100*(i+1))+j+1]['cluster']) == 3:\n",
        "        image[(100*i)+j]=1000\n",
        "      #elif int(clusters.loc[10000-(100*(i+1))+j+1]['cluster']) == 4:\n",
        "        #image[(100*i)+j]=1200"
      ],
      "metadata": {
        "id": "EsoQlCFjj3Xf"
      },
      "execution_count": null,
      "outputs": []
    },
    {
      "cell_type": "code",
      "source": [
        "image = image.reshape((nrows, ncols))\n",
        "image"
      ],
      "metadata": {
        "colab": {
          "base_uri": "https://localhost:8080/"
        },
        "id": "x9e5-2Kcpbo5",
        "outputId": "05d5620a-7015-444d-8613-7f055ab53fd1"
      },
      "execution_count": null,
      "outputs": [
        {
          "output_type": "execute_result",
          "data": {
            "text/plain": [
              "array([[200., 200., 200., ..., 200., 200., 200.],\n",
              "       [200., 200., 200., ..., 200., 200., 200.],\n",
              "       [200., 200., 200., ..., 200., 200., 200.],\n",
              "       ...,\n",
              "       [200., 200., 200., ..., 200., 200., 200.],\n",
              "       [200., 200., 200., ..., 200., 200., 200.],\n",
              "       [200., 200., 200., ..., 200., 200., 200.]])"
            ]
          },
          "metadata": {},
          "execution_count": 79
        }
      ]
    },
    {
      "cell_type": "code",
      "source": [
        "f=plt.figure(figsize=(10,8))\n",
        "plt.imshow(image,cmap='hot')\n",
        "plt.show()"
      ],
      "metadata": {
        "colab": {
          "base_uri": "https://localhost:8080/",
          "height": 485
        },
        "id": "-2fswZEmp3Q9",
        "outputId": "81196b95-1024-45d9-afdf-bbf4bbde2551"
      },
      "execution_count": null,
      "outputs": [
        {
          "output_type": "display_data",
          "data": {
            "text/plain": [
              "<Figure size 720x576 with 1 Axes>"
            ],
            "image/png": "[encoded data removed]"
          },
          "metadata": {
            "needs_background": "light"
          }
        }
      ]
    },
    {
      "cell_type": "code",
      "source": [
        "fig, ax = plt.subplots(figsize=(10,8))\n",
        "c = ax.matshow(image,interpolation ='nearest',cmap='hot')\n",
        "fig.colorbar(c, ax = ax)\n",
        "ax.set_xticks(np.arange(0,99,20))\n",
        "ax.xaxis.set_ticks_position(\"bottom\")\n",
        "ax.set_yticks(np.arange(0,99,10))"
      ],
      "metadata": {
        "colab": {
          "base_uri": "https://localhost:8080/",
          "height": 669
        },
        "id": "IwQHY3pCq8R2",
        "outputId": "ae25ddc7-e261-4048-a2ce-087e5115c3c9"
      },
      "execution_count": null,
      "outputs": [
        {
          "output_type": "execute_result",
          "data": {
            "text/plain": [
              "[<matplotlib.axis.YTick at 0x7fda5c884d50>,\n",
              " <matplotlib.axis.YTick at 0x7fda5c62c910>,\n",
              " <matplotlib.axis.YTick at 0x7fda5c62bc10>,\n",
              " <matplotlib.axis.YTick at 0x7fda5c666290>,\n",
              " <matplotlib.axis.YTick at 0x7fda5c6668d0>,\n",
              " <matplotlib.axis.YTick at 0x7fda5c666e10>,\n",
              " <matplotlib.axis.YTick at 0x7fda5c66b3d0>,\n",
              " <matplotlib.axis.YTick at 0x7fda5c66b910>,\n",
              " <matplotlib.axis.YTick at 0x7fda5c66be50>,\n",
              " <matplotlib.axis.YTick at 0x7fda5c6733d0>]"
            ]
          },
          "metadata": {},
          "execution_count": 81
        },
        {
          "output_type": "display_data",
          "data": {
            "text/plain": [
              "<Figure size 720x576 with 2 Axes>"
            ],
            "image/png": "[encoded data removed]"
          },
          "metadata": {
            "needs_background": "light"
          }
        }
      ]
    },
    {
      "cell_type": "code",
      "source": [
        "#finding what cluster\n",
        "cellno = 3189\n",
        "clusters.loc[cellno]['cluster']"
      ],
      "metadata": {
        "colab": {
          "base_uri": "https://localhost:8080/"
        },
        "id": "EskRSwGCtW7z",
        "outputId": "61673289-5aa5-41d6-ef1f-a4e506b7c2b6"
      },
      "execution_count": null,
      "outputs": [
        {
          "output_type": "execute_result",
          "data": {
            "text/plain": [
              "0"
            ]
          },
          "metadata": {},
          "execution_count": 82
        }
      ]
    },
    {
      "cell_type": "markdown",
      "source": [
        "# **GAUSIAN MIXTURE MODEL CLUSTERING**"
      ],
      "metadata": {
        "id": "oPqeS7uq3gv6"
      }
    },
    {
      "cell_type": "code",
      "source": [
        "# training gaussian mixture model \n",
        "from sklearn.mixture import GaussianMixture\n",
        "gmm = GaussianMixture(n_components=6)\n",
        "gmm.fit(X)"
      ],
      "metadata": {
        "colab": {
          "base_uri": "https://localhost:8080/"
        },
        "id": "gDsnmxtq3nC0",
        "outputId": "fe1d56dc-6571-4534-eeab-1e75dca50eb2"
      },
      "execution_count": null,
      "outputs": [
        {
          "output_type": "execute_result",
          "data": {
            "text/plain": [
              "GaussianMixture(n_components=6)"
            ]
          },
          "metadata": {},
          "execution_count": 7
        }
      ]
    },
    {
      "cell_type": "code",
      "source": [
        "#predictions from kmeans\n",
        "pred = gmm.predict(X)\n",
        "frame = pd.DataFrame(list(zip(pred, index)),index=index,columns=['cluster','cell_NO'])"
      ],
      "metadata": {
        "id": "U58fV2Ra6KCy"
      },
      "execution_count": null,
      "outputs": []
    },
    {
      "cell_type": "code",
      "source": [
        "frame"
      ],
      "metadata": {
        "colab": {
          "base_uri": "https://localhost:8080/",
          "height": 424
        },
        "id": "HyYk5nT67pW-",
        "outputId": "bf3ac442-89db-4723-ee2a-d2339c9ed9a7"
      },
      "execution_count": null,
      "outputs": [
        {
          "output_type": "execute_result",
          "data": {
            "text/plain": [
              "       cluster  cell_NO\n",
              "1            0        1\n",
              "2            0        2\n",
              "3            0        3\n",
              "4            0        4\n",
              "5            0        5\n",
              "...        ...      ...\n",
              "9996         4     9996\n",
              "9997         4     9997\n",
              "9998         4     9998\n",
              "9999         4     9999\n",
              "10000        4    10000\n",
              "\n",
              "[10000 rows x 2 columns]"
            ],
            "text/html": [
              "\n",
              "  <div id=\"df-ddb6b931-b898-4807-9e08-d4bcc5b83572\">\n",
              "    <div class=\"colab-df-container\">\n",
              "      <div>\n",
              "<style scoped>\n",
              "    .dataframe tbody tr th:only-of-type {\n",
              "        vertical-align: middle;\n",
              "    }\n",
              "\n",
              "    .dataframe tbody tr th {\n",
              "        vertical-align: top;\n",
              "    }\n",
              "\n",
              "    .dataframe thead th {\n",
              "        text-align: right;\n",
              "    }\n",
              "</style>\n",
              "<table border=\"1\" class=\"dataframe\">\n",
              "  <thead>\n",
              "    <tr style=\"text-align: right;\">\n",
              "      <th></th>\n",
              "      <th>cluster</th>\n",
              "      <th>cell_NO</th>\n",
              "    </tr>\n",
              "  </thead>\n",
              "  <tbody>\n",
              "    <tr>\n",
              "      <th>1</th>\n",
              "      <td>0</td>\n",
              "      <td>1</td>\n",
              "    </tr>\n",
              "    <tr>\n",
              "      <th>2</th>\n",
              "      <td>0</td>\n",
              "      <td>2</td>\n",
              "    </tr>\n",
              "    <tr>\n",
              "      <th>3</th>\n",
              "      <td>0</td>\n",
              "      <td>3</td>\n",
              "    </tr>\n",
              "    <tr>\n",
              "      <th>4</th>\n",
              "      <td>0</td>\n",
              "      <td>4</td>\n",
              "    </tr>\n",
              "    <tr>\n",
              "      <th>5</th>\n",
              "      <td>0</td>\n",
              "      <td>5</td>\n",
              "    </tr>\n",
              "    <tr>\n",
              "      <th>...</th>\n",
              "      <td>...</td>\n",
              "      <td>...</td>\n",
              "    </tr>\n",
              "    <tr>\n",
              "      <th>9996</th>\n",
              "      <td>4</td>\n",
              "      <td>9996</td>\n",
              "    </tr>\n",
              "    <tr>\n",
              "      <th>9997</th>\n",
              "      <td>4</td>\n",
              "      <td>9997</td>\n",
              "    </tr>\n",
              "    <tr>\n",
              "      <th>9998</th>\n",
              "      <td>4</td>\n",
              "      <td>9998</td>\n",
              "    </tr>\n",
              "    <tr>\n",
              "      <th>9999</th>\n",
              "      <td>4</td>\n",
              "      <td>9999</td>\n",
              "    </tr>\n",
              "    <tr>\n",
              "      <th>10000</th>\n",
              "      <td>4</td>\n",
              "      <td>10000</td>\n",
              "    </tr>\n",
              "  </tbody>\n",
              "</table>\n",
              "<p>10000 rows × 2 columns</p>\n",
              "</div>\n",
              "      <button class=\"colab-df-convert\" onclick=\"convertToInteractive('df-ddb6b931-b898-4807-9e08-d4bcc5b83572')\"\n",
              "              title=\"Convert this dataframe to an interactive table.\"\n",
              "              style=\"display:none;\">\n",
              "        \n",
              "  <svg xmlns=\"http://www.w3.org/2000/svg\" height=\"24px\"viewBox=\"0 0 24 24\"\n",
              "       width=\"24px\">\n",
              "    <path d=\"M0 0h24v24H0V0z\" fill=\"none\"/>\n",
              "    <path d=\"M18.56 5.44l.94 2.06.94-2.06 2.06-.94-2.06-.94-.94-2.06-.94 2.06-2.06.94zm-11 1L8.5 8.5l.94-2.06 2.06-.94-2.06-.94L8.5 2.5l-.94 2.06-2.06.94zm10 10l.94 2.06.94-2.06 2.06-.94-2.06-.94-.94-2.06-.94 2.06-2.06.94z\"/><path d=\"M17.41 7.96l-1.37-1.37c-.4-.4-.92-.59-1.43-.59-.52 0-1.04.2-1.43.59L10.3 9.45l-7.72 7.72c-.78.78-.78 2.05 0 2.83L4 21.41c.39.39.9.59 1.41.59.51 0 1.02-.2 1.41-.59l7.78-7.78 2.81-2.81c.8-.78.8-2.07 0-2.86zM5.41 20L4 18.59l7.72-7.72 1.47 1.35L5.41 20z\"/>\n",
              "  </svg>\n",
              "      </button>\n",
              "      \n",
              "  <style>\n",
              "    .colab-df-container {\n",
              "      display:flex;\n",
              "      flex-wrap:wrap;\n",
              "      gap: 12px;\n",
              "    }\n",
              "\n",
              "    .colab-df-convert {\n",
              "      background-color: #E8F0FE;\n",
              "      border: none;\n",
              "      border-radius: 50%;\n",
              "      cursor: pointer;\n",
              "      display: none;\n",
              "      fill: #1967D2;\n",
              "      height: 32px;\n",
              "      padding: 0 0 0 0;\n",
              "      width: 32px;\n",
              "    }\n",
              "\n",
              "    .colab-df-convert:hover {\n",
              "      background-color: #E2EBFA;\n",
              "      box-shadow: 0px 1px 2px rgba(60, 64, 67, 0.3), 0px 1px 3px 1px rgba(60, 64, 67, 0.15);\n",
              "      fill: #174EA6;\n",
              "    }\n",
              "\n",
              "    [theme=dark] .colab-df-convert {\n",
              "      background-color: #3B4455;\n",
              "      fill: #D2E3FC;\n",
              "    }\n",
              "\n",
              "    [theme=dark] .colab-df-convert:hover {\n",
              "      background-color: #434B5C;\n",
              "      box-shadow: 0px 1px 3px 1px rgba(0, 0, 0, 0.15);\n",
              "      filter: drop-shadow(0px 1px 2px rgba(0, 0, 0, 0.3));\n",
              "      fill: #FFFFFF;\n",
              "    }\n",
              "  </style>\n",
              "\n",
              "      <script>\n",
              "        const buttonEl =\n",
              "          document.querySelector('#df-ddb6b931-b898-4807-9e08-d4bcc5b83572 button.colab-df-convert');\n",
              "        buttonEl.style.display =\n",
              "          google.colab.kernel.accessAllowed ? 'block' : 'none';\n",
              "\n",
              "        async function convertToInteractive(key) {\n",
              "          const element = document.querySelector('#df-ddb6b931-b898-4807-9e08-d4bcc5b83572');\n",
              "          const dataTable =\n",
              "            await google.colab.kernel.invokeFunction('convertToInteractive',\n",
              "                                                     [key], {});\n",
              "          if (!dataTable) return;\n",
              "\n",
              "          const docLinkHtml = 'Like what you see? Visit the ' +\n",
              "            '<a target=\"_blank\" href=https://colab.research.google.com/notebooks/data_table.ipynb>data table notebook</a>'\n",
              "            + ' to learn more about interactive tables.';\n",
              "          element.innerHTML = '';\n",
              "          dataTable['output_type'] = 'display_data';\n",
              "          await google.colab.output.renderOutput(dataTable, element);\n",
              "          const docLink = document.createElement('div');\n",
              "          docLink.innerHTML = docLinkHtml;\n",
              "          element.appendChild(docLink);\n",
              "        }\n",
              "      </script>\n",
              "    </div>\n",
              "  </div>\n",
              "  "
            ]
          },
          "metadata": {},
          "execution_count": 105
        }
      ]
    },
    {
      "cell_type": "code",
      "source": [
        "frame[frame['cluster']==4]['cell_NO']"
      ],
      "metadata": {
        "colab": {
          "base_uri": "https://localhost:8080/"
        },
        "id": "pJRME94ROyF9",
        "outputId": "2e4febfb-32e8-4fca-a88c-e7d23e8540e0"
      },
      "execution_count": null,
      "outputs": [
        {
          "output_type": "execute_result",
          "data": {
            "text/plain": [
              "49          49\n",
              "54          54\n",
              "55          55\n",
              "61          61\n",
              "62          62\n",
              "         ...  \n",
              "9996      9996\n",
              "9997      9997\n",
              "9998      9998\n",
              "9999      9999\n",
              "10000    10000\n",
              "Name: cell_NO, Length: 3486, dtype: int64"
            ]
          },
          "metadata": {},
          "execution_count": 106
        }
      ]
    },
    {
      "cell_type": "code",
      "source": [
        "# Make a 100x100 grid...\n",
        "nrows, ncols = 100,100\n",
        "image = np.zeros(nrows*ncols,dtype = float)\n",
        "image.shape"
      ],
      "metadata": {
        "colab": {
          "base_uri": "https://localhost:8080/"
        },
        "id": "S0w1KtDh7v2b",
        "outputId": "d117a85a-8b3b-4a67-ab63-6d3f10c58f8e"
      },
      "execution_count": null,
      "outputs": [
        {
          "output_type": "execute_result",
          "data": {
            "text/plain": [
              "(10000,)"
            ]
          },
          "metadata": {},
          "execution_count": 9
        }
      ]
    },
    {
      "cell_type": "code",
      "source": [
        "for i in range(100):\n",
        "    for j in range(100):\n",
        "      if int(frame.loc[10000-(100*(i+1))+j+1]['cluster']) == 0:\n",
        "        image[(100*i)+j]=0\n",
        "      elif int(frame.loc[10000-(100*(i+1))+j+1]['cluster']) == 1:\n",
        "        image[(100*i)+j]=200\n",
        "      elif int(frame.loc[10000-(100*(i+1))+j+1]['cluster']) == 2:\n",
        "        image[(100*i)+j]=400\n",
        "      elif int(frame.loc[10000-(100*(i+1))+j+1]['cluster']) == 3:\n",
        "        image[(100*i)+j]=600\n",
        "      elif int(frame.loc[10000-(100*(i+1))+j+1]['cluster']) == 4:\n",
        "        image[(100*i)+j]=800\n",
        "      elif int(frame.loc[10000-(100*(i+1))+j+1]['cluster']) == 5:\n",
        "        image[(100*i)+j]=1000"
      ],
      "metadata": {
        "id": "65iqQb0M7zDA"
      },
      "execution_count": null,
      "outputs": []
    },
    {
      "cell_type": "code",
      "source": [
        "image = image.reshape((nrows, ncols))\n",
        "\n",
        "fig, ax = plt.subplots(figsize=(10,8))\n",
        "c = ax.matshow(image,interpolation ='nearest',cmap='hot')\n",
        "fig.colorbar(c, ax = ax)\n",
        "ax.set_xticks(np.arange(0,99,20))\n",
        "ax.xaxis.set_ticks_position(\"bottom\")\n",
        "ax.set_yticks(np.arange(0,99,10))"
      ],
      "metadata": {
        "colab": {
          "base_uri": "https://localhost:8080/",
          "height": 661
        },
        "id": "QJ7L_fYW8jSt",
        "outputId": "efbecaf1-af41-4c86-d69e-e4dd987bdec3"
      },
      "execution_count": null,
      "outputs": [
        {
          "output_type": "execute_result",
          "data": {
            "text/plain": [
              "[<matplotlib.axis.YTick at 0x7f4012921b50>,\n",
              " <matplotlib.axis.YTick at 0x7f40129213d0>,\n",
              " <matplotlib.axis.YTick at 0x7f40129c2c90>,\n",
              " <matplotlib.axis.YTick at 0x7f400d8c2110>,\n",
              " <matplotlib.axis.YTick at 0x7f400d8c2b90>,\n",
              " <matplotlib.axis.YTick at 0x7f400d8c2750>,\n",
              " <matplotlib.axis.YTick at 0x7f400d8cc690>,\n",
              " <matplotlib.axis.YTick at 0x7f400d8ccbd0>,\n",
              " <matplotlib.axis.YTick at 0x7f400d8d2090>,\n",
              " <matplotlib.axis.YTick at 0x7f400d8d2690>]"
            ]
          },
          "metadata": {},
          "execution_count": 11
        },
        {
          "output_type": "display_data",
          "data": {
            "text/plain": [
              "<Figure size 720x576 with 2 Axes>"
            ],
            "image/png": "[encoded data removed]"
          },
          "metadata": {
            "needs_background": "light"
          }
        }
      ]
    },
    {
      "cell_type": "code",
      "source": [
        "#finding what cluster\n",
        "cellno = 7382\n",
        "frame.loc[cellno]['cluster']"
      ],
      "metadata": {
        "colab": {
          "base_uri": "https://localhost:8080/"
        },
        "id": "_N0YLtz19IF5",
        "outputId": "2c2a3954-40ec-4e5e-95cb-85ccecd40215"
      },
      "execution_count": null,
      "outputs": [
        {
          "output_type": "execute_result",
          "data": {
            "text/plain": [
              "1"
            ]
          },
          "metadata": {},
          "execution_count": 110
        }
      ]
    },
    {
      "cell_type": "code",
      "source": [
        "#frame.to_csv('/content/gdrive/MyDrive/Data_Set/clusters_GMM.csv')"
      ],
      "metadata": {
        "id": "-m3iJ82b-DAn"
      },
      "execution_count": null,
      "outputs": []
    }
  ]
}