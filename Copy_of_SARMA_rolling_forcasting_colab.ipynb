{
  "cells": [
    {
      "cell_type": "markdown",
      "metadata": {
        "id": "view-in-github",
        "colab_type": "text"
      },
      "source": [
        "<a href=\"https://colab.research.google.com/github/TMKarunarathne/FYP/blob/main/Copy_of_SARMA_rolling_forcasting_colab.ipynb\" target=\"_parent\"><img src=\"https://colab.research.google.com/assets/colab-badge.svg\" alt=\"Open In Colab\"/></a>"
      ]
    },
    {
      "cell_type": "code",
      "execution_count": null,
      "metadata": {
        "colab": {
          "base_uri": "https://localhost:8080/"
        },
        "id": "4IVlpKHgjbC4",
        "outputId": "e7b2872b-75ba-40db-aa2e-81b5a20347b0"
      },
      "outputs": [
        {
          "output_type": "stream",
          "name": "stderr",
          "text": [
            "/usr/local/lib/python3.7/dist-packages/ipykernel_launcher.py:4: FutureWarning: The pandas.datetime class is deprecated and will be removed from pandas in a future version. Import from datetime module instead.\n",
            "  after removing the cwd from sys.path.\n",
            "/usr/local/lib/python3.7/dist-packages/statsmodels/tools/_testing.py:19: FutureWarning: pandas.util.testing is deprecated. Use the functions in the public API at pandas.testing instead.\n",
            "  import pandas.util.testing as tm\n"
          ]
        }
      ],
      "source": [
        "import pandas as pd\n",
        "import numpy as np\n",
        "import matplotlib.pyplot as plt\n",
        "from pandas import datetime\n",
        "from datetime import timedelta\n",
        "from pandas.plotting import register_matplotlib_converters\n",
        "from statsmodels.tsa.arima_model import ARMA,ARIMA\n",
        "from statsmodels.tsa.statespace.sarimax import SARIMAX\n",
        "from statsmodels.graphics.tsaplots import plot_acf, plot_pacf\n",
        "register_matplotlib_converters()\n",
        "from time import time\n",
        "from sklearn.metrics import mean_squared_error,mean_absolute_error"
      ]
    },
    {
      "cell_type": "code",
      "source": [
        "from google.colab import drive\n",
        "drive.mount('/content/gdrive')\n",
        "drive.mount(\"/content/gdrive\", force_remount=True)\n"
      ],
      "metadata": {
        "colab": {
          "base_uri": "https://localhost:8080/"
        },
        "id": "B2TlD2BaSjPF",
        "outputId": "aa6473b4-0e3a-4a80-dc7c-5cd29d62076f"
      },
      "execution_count": null,
      "outputs": [
        {
          "output_type": "stream",
          "name": "stdout",
          "text": [
            "Mounted at /content/gdrive\n",
            "Mounted at /content/gdrive\n"
          ]
        }
      ]
    },
    {
      "cell_type": "code",
      "source": [
        "Cell_num=4613\n",
        "csv_file = '/content/gdrive/MyDrive/Data_Set/Cell_'+str(Cell_num)+'_new_0002.csv'\n",
        "df = pd.read_csv(csv_file,index_col='datetime',parse_dates=True)"
      ],
      "metadata": {
        "id": "Fto0OTkuSjZz"
      },
      "execution_count": null,
      "outputs": []
    },
    {
      "cell_type": "code",
      "execution_count": null,
      "metadata": {
        "id": "aBehLXs7Rjn-"
      },
      "outputs": [],
      "source": [
        "# Cell_num=5045\n",
        "# csv_file = '../Cell_'+str(Cell_num)+'_new_0002.csv'\n",
        "# df = pd.read_csv(csv_file,index_col='datetime',parse_dates=True)\n",
        "# df.index.freq = '10min'\n",
        "# df"
      ]
    },
    {
      "cell_type": "code",
      "execution_count": null,
      "metadata": {
        "id": "sSILMhvakUCx"
      },
      "outputs": [],
      "source": [
        "# The feature we observed\n",
        "FEA='Internet'\n",
        "df1 = df[FEA]\n",
        "#df1"
      ]
    },
    {
      "cell_type": "code",
      "execution_count": null,
      "metadata": {
        "id": "SkZgg_-4k8Qo"
      },
      "outputs": [],
      "source": [
        "# plt.figure(figsize=(10,5))\n",
        "# plt.plot(df1)\n",
        "# plt.title(FEA, fontsize=10)\n",
        "# #for year in range(2011,2021):\n",
        "# #   plt.axvline(pd.to_datetime(str(year)+'-01-01'), color='k', linestyle='--', linewidth=0.8)"
      ]
    },
    {
      "cell_type": "code",
      "execution_count": null,
      "metadata": {
        "colab": {
          "base_uri": "https://localhost:8080/"
        },
        "id": "Ms30x5v5mFpA",
        "outputId": "0b295085-3f49-4b8b-9b7d-47aa0571c38a"
      },
      "outputs": [
        {
          "output_type": "execute_result",
          "data": {
            "text/plain": [
              "8928"
            ]
          },
          "metadata": {},
          "execution_count": 62
        }
      ],
      "source": [
        "len(df1.index)"
      ]
    },
    {
      "cell_type": "markdown",
      "metadata": {
        "id": "S5q2qhs7g4jE"
      },
      "source": [
        "# Hours"
      ]
    },
    {
      "cell_type": "code",
      "execution_count": null,
      "metadata": {
        "id": "hkqD7yhualnr"
      },
      "outputs": [],
      "source": [
        "df_new=df[FEA].resample('H').sum()\n",
        "df_h=pd.DataFrame(df_new)\n",
        "df_h.index.freq = 'H'\n",
        "#df_h"
      ]
    },
    {
      "cell_type": "code",
      "execution_count": null,
      "metadata": {
        "id": "uE1ZlTo4iphf"
      },
      "outputs": [],
      "source": []
    },
    {
      "cell_type": "markdown",
      "metadata": {
        "id": "OHr1SnBF2hIu"
      },
      "source": [
        "# Rolling"
      ]
    },
    {
      "cell_type": "code",
      "execution_count": null,
      "metadata": {
        "id": "ZNv03c-d2hLu",
        "colab": {
          "base_uri": "https://localhost:8080/"
        },
        "outputId": "057ece3d-2e8c-468e-d625-af8255999cdd"
      },
      "outputs": [
        {
          "output_type": "stream",
          "name": "stderr",
          "text": [
            "/usr/local/lib/python3.7/dist-packages/statsmodels/base/model.py:512: ConvergenceWarning: Maximum Likelihood optimization failed to converge. Check mle_retvals\n",
            "  \"Check mle_retvals\", ConvergenceWarning)\n"
          ]
        },
        {
          "output_type": "stream",
          "name": "stdout",
          "text": [
            "0 168 171\n"
          ]
        },
        {
          "output_type": "stream",
          "name": "stderr",
          "text": [
            "/usr/local/lib/python3.7/dist-packages/statsmodels/base/model.py:512: ConvergenceWarning: Maximum Likelihood optimization failed to converge. Check mle_retvals\n",
            "  \"Check mle_retvals\", ConvergenceWarning)\n"
          ]
        },
        {
          "output_type": "stream",
          "name": "stdout",
          "text": [
            "1 168 171\n"
          ]
        },
        {
          "output_type": "stream",
          "name": "stderr",
          "text": [
            "/usr/local/lib/python3.7/dist-packages/statsmodels/base/model.py:512: ConvergenceWarning: Maximum Likelihood optimization failed to converge. Check mle_retvals\n",
            "  \"Check mle_retvals\", ConvergenceWarning)\n"
          ]
        },
        {
          "output_type": "stream",
          "name": "stdout",
          "text": [
            "2 168 171\n"
          ]
        },
        {
          "output_type": "stream",
          "name": "stderr",
          "text": [
            "/usr/local/lib/python3.7/dist-packages/statsmodels/base/model.py:512: ConvergenceWarning: Maximum Likelihood optimization failed to converge. Check mle_retvals\n",
            "  \"Check mle_retvals\", ConvergenceWarning)\n"
          ]
        },
        {
          "output_type": "stream",
          "name": "stdout",
          "text": [
            "3 168 171\n",
            "4 168 171\n",
            "5 168 171\n"
          ]
        },
        {
          "output_type": "stream",
          "name": "stderr",
          "text": [
            "/usr/local/lib/python3.7/dist-packages/statsmodels/base/model.py:512: ConvergenceWarning: Maximum Likelihood optimization failed to converge. Check mle_retvals\n",
            "  \"Check mle_retvals\", ConvergenceWarning)\n"
          ]
        },
        {
          "output_type": "stream",
          "name": "stdout",
          "text": [
            "6 168 171\n",
            "7 168 171\n",
            "8 168 171\n"
          ]
        },
        {
          "output_type": "stream",
          "name": "stderr",
          "text": [
            "/usr/local/lib/python3.7/dist-packages/statsmodels/base/model.py:512: ConvergenceWarning: Maximum Likelihood optimization failed to converge. Check mle_retvals\n",
            "  \"Check mle_retvals\", ConvergenceWarning)\n"
          ]
        },
        {
          "output_type": "stream",
          "name": "stdout",
          "text": [
            "9 168 171\n"
          ]
        },
        {
          "output_type": "stream",
          "name": "stderr",
          "text": [
            "/usr/local/lib/python3.7/dist-packages/statsmodels/base/model.py:512: ConvergenceWarning: Maximum Likelihood optimization failed to converge. Check mle_retvals\n",
            "  \"Check mle_retvals\", ConvergenceWarning)\n"
          ]
        },
        {
          "output_type": "stream",
          "name": "stdout",
          "text": [
            "10 168 171\n",
            "11 168 171\n"
          ]
        }
      ],
      "source": [
        "OD =(4,0,1)\n",
        "SOD=(1,1,1,24)\n",
        "\n",
        "for i in range(0,12):\n",
        "        \n",
        "    train_data = df_h[i*4:24*7+i*4]              # 07days\n",
        "    test_data = df_h[24*7+i*4:24*7+i*4+4]           # 01 day\n",
        "    test_data.index.freq='H'\n",
        "    train_data.index.freq ='H'\n",
        "    #train_data\n",
        "\n",
        "    #model = ARIMA(train_data,order=our_mode)\n",
        "    model = SARIMAX(train_data,order=OD,seasonal_order=SOD)\n",
        "    results = model.fit()\n",
        "    #results.summary()\n",
        "\n",
        "    start=len(train_data)\n",
        "    end=len(train_data)+len(test_data)-1\n",
        "    print(i,start,end)\n",
        "    predict = results.predict(start=start, end=end, dynamic=False).rename('SARIMA Predictions')\n",
        "    pred1=predict.to_frame()\n",
        "    \n",
        "    if i==0:\n",
        "        predictions=pred1\n",
        "    else:\n",
        "        predictions=[predictions , pred1]\n",
        "        predictions = pd.concat(predictions)\n",
        "        "
      ]
    },
    {
      "cell_type": "code",
      "execution_count": null,
      "metadata": {
        "id": "mj6zjpbIRjoM"
      },
      "outputs": [],
      "source": [
        "#predictions"
      ]
    },
    {
      "cell_type": "code",
      "execution_count": null,
      "metadata": {
        "scrolled": true,
        "colab": {
          "base_uri": "https://localhost:8080/",
          "height": 417
        },
        "id": "l-SPF-k_RjoM",
        "outputId": "590d2c34-f04e-46b9-899e-6e34bd99ec3d"
      },
      "outputs": [
        {
          "output_type": "display_data",
          "data": {
            "image/png": "[encoded data removed]",
            "text/plain": [
              "<Figure size 864x432 with 1 Axes>"
            ]
          },
          "metadata": {
            "needs_background": "light"
          }
        }
      ],
      "source": [
        "plt.figure(figsize=(12, 6))\n",
        "plt.plot(df_h[:24*9] , color='b', label='Internet')\n",
        "plt.plot(predictions, color='r', label='Prediction')\n",
        "plt.suptitle(FEA+' - Cell '+str(Cell_num) );\n",
        "plt.legend()\n",
        "#plt.tight_layout()\n",
        "\n",
        " \n",
        "figname = str(Cell_num) + '_SARIMA_Rol_4sam_' + FEA\n",
        "images_dir = '/content/gdrive/My Drive/FYP_saved_plots'\n",
        "plt.savefig(f\"{images_dir}/\"+figname+\".png\")\n"
      ]
    },
    {
      "cell_type": "code",
      "execution_count": null,
      "metadata": {
        "id": "OmJCN70wRjoM",
        "outputId": "00456223-a20d-46e6-e78c-2a921c9f1aa8",
        "colab": {
          "base_uri": "https://localhost:8080/"
        }
      },
      "outputs": [
        {
          "output_type": "stream",
          "name": "stdout",
          "text": [
            "4613(4, 0, 1)(1, 1, 1, 24)\n",
            "mae = 6.519758041195519\n",
            "mse = 68.92997096348556\n",
            "rmse = 8.302407540194926\n"
          ]
        }
      ],
      "source": [
        "test_data = df_h[24*(7):24*9]\n",
        "mae=mean_absolute_error(test_data,predictions)\n",
        "mse=mean_squared_error(test_data,predictions)\n",
        "rmse=np.sqrt(mean_squared_error(test_data,predictions))\n",
        "print(str(Cell_num)+str(OD)+str(SOD))\n",
        "print('mae =',mae) #mean absolute error\n",
        "print('mse =',mse) #mean square error\n",
        "print('rmse =',rmse)"
      ]
    },
    {
      "cell_type": "code",
      "execution_count": null,
      "metadata": {
        "id": "2wP8Lj4cRjoM"
      },
      "outputs": [],
      "source": []
    }
  ],
  "metadata": {
    "colab": {
      "provenance": [],
      "include_colab_link": true
    },
    "kernelspec": {
      "display_name": "Python 3",
      "language": "python",
      "name": "python3"
    },
    "language_info": {
      "codemirror_mode": {
        "name": "ipython",
        "version": 3
      },
      "file_extension": ".py",
      "mimetype": "text/x-python",
      "name": "python",
      "nbconvert_exporter": "python",
      "pygments_lexer": "ipython3",
      "version": "3.8.8"
    }
  },
  "nbformat": 4,
  "nbformat_minor": 0
}