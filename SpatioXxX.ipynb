{
  "nbformat": 4,
  "nbformat_minor": 0,
  "metadata": {
    "colab": {
      "provenance": [],
      "authorship_tag": "ABX9TyNxPSjSU1tsu8UAad1cErO5",
      "include_colab_link": true
    },
    "kernelspec": {
      "name": "python3",
      "display_name": "Python 3"
    },
    "language_info": {
      "name": "python"
    }
  },
  "cells": [
    {
      "cell_type": "markdown",
      "metadata": {
        "id": "view-in-github",
        "colab_type": "text"
      },
      "source": [
        "<a href=\"https://colab.research.google.com/github/TMKarunarathne/FYP/blob/main/SpatioXxX.ipynb\" target=\"_parent\"><img src=\"https://colab.research.google.com/assets/colab-badge.svg\" alt=\"Open In Colab\"/></a>"
      ]
    },
    {
      "cell_type": "markdown",
      "source": [
        "#**Spatio-temporal 15x15**\n"
      ],
      "metadata": {
        "id": "kXN8HbhFKzXX"
      }
    },
    {
      "cell_type": "code",
      "execution_count": null,
      "metadata": {
        "id": "C1UKCwB9KKOV"
      },
      "outputs": [],
      "source": [
        "import pandas as pd\n",
        "import numpy as np\n",
        "import tensorflow as tf\n",
        "import scipy.io\n",
        "import warnings\n",
        "from keras.models import Sequential\n",
        "from keras.layers import LSTM, Input, Dropout, Flatten\n",
        "from keras.layers import Dense\n",
        "from keras.layers import RepeatVector\n",
        "from keras.layers import TimeDistributed\n",
        "from matplotlib import pyplot as plt\n",
        "from sklearn.preprocessing import MinMaxScaler, StandardScaler\n",
        "from keras.models import Model\n",
        "from tensorflow.keras.layers import Conv2D,ConvLSTM2D,BatchNormalization,Conv3D, Conv1D\n",
        "from tensorflow.keras.layers import MaxPooling2D\n",
        "from tensorflow.keras.layers import Conv2DTranspose\n",
        "from tensorflow.keras.layers import concatenate,Reshape\n",
        "from tensorflow.keras.initializers import random_uniform, glorot_uniform, constant, identity\n",
        "from tensorflow.keras.layers import Input, Add, Dense, Activation, ZeroPadding2D, BatchNormalization, Flatten, Conv2D, AveragePooling2D, MaxPooling2D, GlobalMaxPooling2D\n",
        "from tensorflow.keras.models import Model, load_model\n",
        "#from test_utils import summary, comparator\n",
        "import seaborn as sns\n",
        "warnings.filterwarnings('ignore')"
      ]
    },
    {
      "cell_type": "code",
      "source": [
        "import io\n",
        "import imageio\n",
        "from IPython.display import Image, display\n",
        "from ipywidgets import widgets, Layout, HBox"
      ],
      "metadata": {
        "id": "AlzuBUZxn3N0"
      },
      "execution_count": null,
      "outputs": []
    },
    {
      "cell_type": "code",
      "source": [
        "from google.colab import drive\n",
        "drive.mount('/content/gdrive')\n",
        "drive.mount(\"/content/gdrive\", force_remount=True)\n",
        "\n",
        "rand_state =1000"
      ],
      "metadata": {
        "colab": {
          "base_uri": "https://localhost:8080/"
        },
        "id": "jT0WajF0KyM-",
        "outputId": "ed13accd-d7e5-4522-893e-283eaa326544"
      },
      "execution_count": null,
      "outputs": [
        {
          "output_type": "stream",
          "name": "stdout",
          "text": [
            "Mounted at /content/gdrive\n",
            "Mounted at /content/gdrive\n"
          ]
        }
      ]
    },
    {
      "cell_type": "code",
      "source": [
        "#mat_file = '/content/gdrive/MyDrive/Data_Set/FV_10000x8928_01.mat'\n",
        "#mat = scipy.io.loadmat(mat_file)"
      ],
      "metadata": {
        "id": "DuODzfq2L4ML"
      },
      "execution_count": null,
      "outputs": []
    },
    {
      "cell_type": "code",
      "source": [
        "#mat"
      ],
      "metadata": {
        "id": "4_0X6IE0MGbh"
      },
      "execution_count": null,
      "outputs": []
    },
    {
      "cell_type": "code",
      "source": [
        "#mat('df')"
      ],
      "metadata": {
        "id": "GY_JKFocMGc6"
      },
      "execution_count": null,
      "outputs": []
    },
    {
      "cell_type": "code",
      "source": [
        "path = '/content/gdrive/MyDrive/Data_Set/FV_all_in_one.csv'\n",
        "df = pd.read_csv(path)\n",
        "df = df.drop(df.columns[[0]], axis=1)\n"
      ],
      "metadata": {
        "id": "d3gxvPbSMGeY"
      },
      "execution_count": null,
      "outputs": []
    },
    {
      "cell_type": "code",
      "source": [
        "df['Datetime'] = pd.to_datetime(df['Datetime'] , unit=\"s\")\n",
        "#df.set_index(df['Datetime'] ,inplace=True)\n",
        "#df = df.drop(df.columns[[0]], axis=1)\n",
        "#df.head()"
      ],
      "metadata": {
        "id": "kDt4y1RgNm_P"
      },
      "execution_count": null,
      "outputs": []
    },
    {
      "cell_type": "code",
      "source": [
        "cell_no = 4098 # select a cell\n",
        "cell_data = df.iloc[:,cell_no]\n",
        "plt.plot( df['Datetime'],cell_data ,color = 'blue', linewidth=0.8)"
      ],
      "metadata": {
        "colab": {
          "base_uri": "https://localhost:8080/",
          "height": 282
        },
        "id": "yPEGVKSnMGfd",
        "outputId": "aa0044ea-e08c-43dd-f621-fbf6b43bea08"
      },
      "execution_count": null,
      "outputs": [
        {
          "output_type": "execute_result",
          "data": {
            "text/plain": [
              "[<matplotlib.lines.Line2D at 0x7f4998df70a0>]"
            ]
          },
          "metadata": {},
          "execution_count": 6
        },
        {
          "output_type": "display_data",
          "data": {
            "text/plain": [
              "<Figure size 432x288 with 1 Axes>"
            ],
            "image/png": "[encoded data removed]"
          },
          "metadata": {
            "needs_background": "light"
          }
        }
      ]
    },
    {
      "cell_type": "code",
      "source": [
        "dfdata = df.iloc[:,1:10001].to_numpy()\n",
        "dfdata.shape"
      ],
      "metadata": {
        "colab": {
          "base_uri": "https://localhost:8080/"
        },
        "id": "8WMwJP-cQLpU",
        "outputId": "695dfb41-caa0-4aa2-df46-961a906c795e"
      },
      "execution_count": null,
      "outputs": [
        {
          "output_type": "execute_result",
          "data": {
            "text/plain": [
              "(8928, 10000)"
            ]
          },
          "metadata": {},
          "execution_count": 8
        }
      ]
    },
    {
      "cell_type": "code",
      "source": [
        "dd = dfdata[0:3,0:3]"
      ],
      "metadata": {
        "id": "bhQ3p2JTRccm"
      },
      "execution_count": null,
      "outputs": []
    },
    {
      "cell_type": "code",
      "source": [
        "dd.reshape(-1)\n",
        "dd"
      ],
      "metadata": {
        "colab": {
          "base_uri": "https://localhost:8080/"
        },
        "id": "ZVwbj4bDTufC",
        "outputId": "c0a0c889-2ab4-4707-be4b-68faacdab13e"
      },
      "execution_count": null,
      "outputs": [
        {
          "output_type": "execute_result",
          "data": {
            "text/plain": [
              "array([[11.02836638, 11.05822481, 11.09000792],\n",
              "       [11.12710088, 11.16792632, 11.21138339],\n",
              "       [10.8927706 , 10.91563796, 10.93997935]])"
            ]
          },
          "metadata": {},
          "execution_count": 9
        }
      ]
    },
    {
      "cell_type": "code",
      "source": [
        "arr3d = dfdata.reshape(8928, 100, 100)\n",
        "#arr3d"
      ],
      "metadata": {
        "id": "HUx-0DW2PgZ4"
      },
      "execution_count": null,
      "outputs": []
    },
    {
      "cell_type": "code",
      "source": [
        "shapeData = arr3d.shape"
      ],
      "metadata": {
        "id": "JwWuaDicU0R0"
      },
      "execution_count": null,
      "outputs": []
    },
    {
      "cell_type": "code",
      "source": [
        "arr3d[1,0,0]"
      ],
      "metadata": {
        "colab": {
          "base_uri": "https://localhost:8080/"
        },
        "id": "YxQ97AupVmKm",
        "outputId": "ecf1dec7-61ae-4994-ee3e-4d9d31752839"
      },
      "execution_count": null,
      "outputs": [
        {
          "output_type": "execute_result",
          "data": {
            "text/plain": [
              "11.1271008756737"
            ]
          },
          "metadata": {},
          "execution_count": 12
        }
      ]
    },
    {
      "cell_type": "code",
      "source": [
        "numInps = 5\n",
        "length = shapeData[0]"
      ],
      "metadata": {
        "id": "q-vXBrgEuIyu"
      },
      "execution_count": null,
      "outputs": []
    },
    {
      "cell_type": "code",
      "source": [
        "ss = np.zeros((2,2))\n",
        "ss[1,1]  = arr3d[1,0,0]\n",
        "ss[1,1]"
      ],
      "metadata": {
        "colab": {
          "base_uri": "https://localhost:8080/"
        },
        "id": "5cbS0qqYwyc1",
        "outputId": "3502029e-3f33-41db-d446-1706c9f3be8b"
      },
      "execution_count": null,
      "outputs": [
        {
          "output_type": "execute_result",
          "data": {
            "text/plain": [
              "11.1271008756737"
            ]
          },
          "metadata": {},
          "execution_count": 14
        }
      ]
    },
    {
      "cell_type": "code",
      "source": [
        "def shapingInputs( arr3d , numInps ):\n",
        "  shapeData = arr3d.shape\n",
        "  X = np.zeros(( shapeData[0]-numInps , numInps , shapeData[1] , shapeData[2] ))\n",
        "  Y = arr3d[numInps :]\n",
        "\n",
        "  for i in range(0,shapeData[0]-numInps):\n",
        "    X[i] = arr3d[i:i+numInps]\n",
        "\n",
        "  return X/2000 , Y/2000"
      ],
      "metadata": {
        "id": "6AZ2zhPkv3ow"
      },
      "execution_count": null,
      "outputs": []
    },
    {
      "cell_type": "code",
      "source": [
        "stx = 0 # start\n",
        "sty = 0 # start \n",
        "w  = 100 # width\n",
        "X ,Y = shapingInputs( arr3d[:144*20,stx:stx+w,sty:sty+w] , numInps )"
      ],
      "metadata": {
        "id": "C4EHFO8Ht6ou"
      },
      "execution_count": null,
      "outputs": []
    },
    {
      "cell_type": "code",
      "source": [
        "X.shape"
      ],
      "metadata": {
        "id": "z4y39Tpgs2cU",
        "colab": {
          "base_uri": "https://localhost:8080/"
        },
        "outputId": "2c10c920-dff0-42db-84f9-4d352eff613b"
      },
      "execution_count": null,
      "outputs": [
        {
          "output_type": "execute_result",
          "data": {
            "text/plain": [
              "(2875, 5, 100, 100)"
            ]
          },
          "metadata": {},
          "execution_count": 17
        }
      ]
    },
    {
      "cell_type": "code",
      "source": [
        "Y.shape"
      ],
      "metadata": {
        "id": "f2ZIowAl0Gmo",
        "colab": {
          "base_uri": "https://localhost:8080/"
        },
        "outputId": "01ebef0d-7600-468d-e64c-56ed958a4a50"
      },
      "execution_count": null,
      "outputs": [
        {
          "output_type": "execute_result",
          "data": {
            "text/plain": [
              "(2875, 100, 100)"
            ]
          },
          "metadata": {},
          "execution_count": 18
        }
      ]
    },
    {
      "cell_type": "code",
      "source": [
        "Y1 = Y.reshape(-1, w, w,1)\n",
        "Y1.shape"
      ],
      "metadata": {
        "colab": {
          "base_uri": "https://localhost:8080/"
        },
        "id": "__n-wrDe4tqt",
        "outputId": "ed2ecce1-c7f1-439c-ee0b-5d589c3c9190"
      },
      "execution_count": null,
      "outputs": [
        {
          "output_type": "execute_result",
          "data": {
            "text/plain": [
              "(2875, 100, 100, 1)"
            ]
          },
          "metadata": {},
          "execution_count": 14
        }
      ]
    },
    {
      "cell_type": "markdown",
      "source": [
        "## **3D array was created...**"
      ],
      "metadata": {
        "id": "QEXjd1mRZH8B"
      }
    },
    {
      "cell_type": "code",
      "source": [
        "# Make sure images have shape (28, 28, 1)\n",
        "x_train = X.transpose((0,2,1,3))\n",
        "#x_test = np.expand_dims(x_test, -1)\n",
        "print(\"x_train shape:\", x_train.shape)\n",
        "print(x_train.shape[0], \"train samples\")\n",
        "#print(x_test.shape[0], \"test samples\")\n"
      ],
      "metadata": {
        "colab": {
          "base_uri": "https://localhost:8080/"
        },
        "id": "jTQZoe1iHxux",
        "outputId": "74038547-de0c-4d81-fcd5-824b762937ad"
      },
      "execution_count": null,
      "outputs": [
        {
          "output_type": "stream",
          "name": "stdout",
          "text": [
            "x_train shape: (2875, 100, 5, 100)\n",
            "2875 train samples\n"
          ]
        }
      ]
    },
    {
      "cell_type": "code",
      "source": [],
      "metadata": {
        "id": "ezpt7T6sZFVC"
      },
      "execution_count": null,
      "outputs": []
    },
    {
      "cell_type": "code",
      "source": [
        "#Z = arr3d[1,:,:]\n",
        "Z = x_train[1,:,4,:]"
      ],
      "metadata": {
        "id": "YOeT-3LSb629"
      },
      "execution_count": null,
      "outputs": []
    },
    {
      "cell_type": "code",
      "source": [
        "import matplotlib.pyplot as plt\n",
        "plt.imshow(Z,cmap=\"hot\")\n",
        "plt.title(\"Internet Traffic\")\n",
        "plt.clim( 0,.5)\n",
        "plt.colorbar()\n",
        "plt.show()"
      ],
      "metadata": {
        "colab": {
          "base_uri": "https://localhost:8080/",
          "height": 281
        },
        "id": "kfD9Sb0DbrFo",
        "outputId": "7a5e4cb8-0ccb-4dd8-b1b5-4d6bfcc780b2"
      },
      "execution_count": null,
      "outputs": [
        {
          "output_type": "display_data",
          "data": {
            "text/plain": [
              "<Figure size 432x288 with 2 Axes>"
            ],
            "image/png": "[encoded data removed]"
          },
          "metadata": {
            "needs_background": "light"
          }
        }
      ]
    },
    {
      "cell_type": "code",
      "source": [
        "Z1 = Y1[0,:,:,0]\n",
        "plt.imshow(Z1,cmap=\"hot\")\n",
        "plt.title(\"Internet Traffic\")\n",
        "plt.clim( 0,.5)\n",
        "plt.colorbar()\n",
        "plt.show()"
      ],
      "metadata": {
        "id": "ul_r-yoI4D2i",
        "colab": {
          "base_uri": "https://localhost:8080/",
          "height": 281
        },
        "outputId": "041bd156-8e1f-4b90-e823-93971d0d2fb5"
      },
      "execution_count": null,
      "outputs": [
        {
          "output_type": "display_data",
          "data": {
            "text/plain": [
              "<Figure size 432x288 with 2 Axes>"
            ],
            "image/png": "[encoded data removed]"
          },
          "metadata": {
            "needs_background": "light"
          }
        }
      ]
    },
    {
      "cell_type": "markdown",
      "source": [
        "## **Move to CNN**"
      ],
      "metadata": {
        "id": "P5buMNGygb0a"
      }
    },
    {
      "cell_type": "code",
      "source": [
        "def convBlock(X, f, filters, w,training=True, initializer=random_uniform):\n",
        "    \n",
        "    F1, F2 = filters\n",
        "    \n",
        "    # First component of main path\n",
        "    X = Reshape((w,w,1))(X)\n",
        "\n",
        "    X = Conv2D(filters = F1, kernel_size = 3, strides = 2, padding = 'valid', kernel_initializer = initializer(seed=0))(X) #7x7\n",
        "    X = BatchNormalization(axis = 3)(X, training = training) # Default axis\n",
        "    X = Activation('relu')(X)\n",
        "\n",
        "    X = Conv2D(filters = F2, kernel_size = 3, strides = 2, padding = 'valid', kernel_initializer = initializer(seed=0))(X)  #3x3\n",
        "    X = BatchNormalization(axis = 3)(X, training = training) # Default axis\n",
        "    X = Activation('relu')(X)\n",
        "\n",
        "    return X"
      ],
      "metadata": {
        "id": "Ihtk3KhZQyGW"
      },
      "execution_count": null,
      "outputs": []
    },
    {
      "cell_type": "code",
      "source": [
        "def MySpatio(input_shape = (w, 5, w)):\n",
        "\n",
        "    X_input = Input(input_shape)\n",
        "    X1 = X_input[:,:,0]\n",
        "    X2 = X_input[:,:,1]\n",
        "    X3 = X_input[:,:,2]\n",
        "    X4 = X_input[:,:,3]\n",
        "    X5 = X_input[:,:,4]\n",
        "\n",
        "    X1 = convBlock(X1, 3, [8, 8],w)\n",
        "    X2 = convBlock(X2, 3, [8, 8],w)\n",
        "    X3 = convBlock(X3, 3, [8, 8],w)\n",
        "    X4 = convBlock(X4, 3, [8, 8],w)\n",
        "    X5 = convBlock(X5, 3, [8, 8],w)\n",
        "\n",
        "    X1 = Flatten()(X1)\n",
        "    X2 = Flatten()(X2)\n",
        "    X3 = Flatten()(X3)\n",
        "    X4 = Flatten()(X4)\n",
        "    X5 = Flatten()(X5)\n",
        "    #print(X1.shape)\n",
        "\n",
        "    X = concatenate([X1, X2, X3, X4, X5], axis=1 )\n",
        "    #print(X.shape)\n",
        "\n",
        "    X = Reshape((-1,5))(X)\n",
        "    #print(X.shape)\n",
        "\n",
        "    X = LSTM(100, return_sequences=True)(X) \n",
        "    #print('Hi 1')\n",
        "    #print(X.shape)\n",
        "    X = LSTM(w*w)(X)\n",
        "    #print('Hi 2')\n",
        "    #print(X.shape)\n",
        "    X = Reshape((w,w))(X)\n",
        "\n",
        "    # The Fully Connected (Dense) layer reduces its input to the number of classes using a softmax activation.\n",
        "    model = Model(inputs = X_input, outputs = X)\n",
        "\n",
        "    return model"
      ],
      "metadata": {
        "id": "9J75EzG3glFl",
        "cellView": "code"
      },
      "execution_count": null,
      "outputs": []
    },
    {
      "cell_type": "code",
      "source": [
        "#model = MySpatio(input_shape = (w,5,w))\n",
        "model.summary()"
      ],
      "metadata": {
        "id": "lXNIFn0u32qs",
        "colab": {
          "base_uri": "https://localhost:8080/"
        },
        "outputId": "6f0485be-7eb7-4ca8-e690-1343de5184c0"
      },
      "execution_count": null,
      "outputs": [
        {
          "output_type": "stream",
          "name": "stdout",
          "text": [
            "Model: \"model\"\n",
            "__________________________________________________________________________________________________\n",
            " Layer (type)                   Output Shape         Param #     Connected to                     \n",
            "==================================================================================================\n",
            " input_1 (InputLayer)           [(None, 25, 5, 25)]  0           []                               \n",
            "                                                                                                  \n",
            " tf.__operators__.getitem (Slic  (None, 25, 25)      0           ['input_1[0][0]']                \n",
            " ingOpLambda)                                                                                     \n",
            "                                                                                                  \n",
            " tf.__operators__.getitem_1 (Sl  (None, 25, 25)      0           ['input_1[0][0]']                \n",
            " icingOpLambda)                                                                                   \n",
            "                                                                                                  \n",
            " tf.__operators__.getitem_2 (Sl  (None, 25, 25)      0           ['input_1[0][0]']                \n",
            " icingOpLambda)                                                                                   \n",
            "                                                                                                  \n",
            " tf.__operators__.getitem_3 (Sl  (None, 25, 25)      0           ['input_1[0][0]']                \n",
            " icingOpLambda)                                                                                   \n",
            "                                                                                                  \n",
            " tf.__operators__.getitem_4 (Sl  (None, 25, 25)      0           ['input_1[0][0]']                \n",
            " icingOpLambda)                                                                                   \n",
            "                                                                                                  \n",
            " reshape (Reshape)              (None, 25, 25, 1)    0           ['tf.__operators__.getitem[0][0]'\n",
            "                                                                 ]                                \n",
            "                                                                                                  \n",
            " reshape_1 (Reshape)            (None, 25, 25, 1)    0           ['tf.__operators__.getitem_1[0][0\n",
            "                                                                 ]']                              \n",
            "                                                                                                  \n",
            " reshape_2 (Reshape)            (None, 25, 25, 1)    0           ['tf.__operators__.getitem_2[0][0\n",
            "                                                                 ]']                              \n",
            "                                                                                                  \n",
            " reshape_3 (Reshape)            (None, 25, 25, 1)    0           ['tf.__operators__.getitem_3[0][0\n",
            "                                                                 ]']                              \n",
            "                                                                                                  \n",
            " reshape_4 (Reshape)            (None, 25, 25, 1)    0           ['tf.__operators__.getitem_4[0][0\n",
            "                                                                 ]']                              \n",
            "                                                                                                  \n",
            " conv2d (Conv2D)                (None, 12, 12, 8)    80          ['reshape[0][0]']                \n",
            "                                                                                                  \n",
            " conv2d_2 (Conv2D)              (None, 12, 12, 8)    80          ['reshape_1[0][0]']              \n",
            "                                                                                                  \n",
            " conv2d_4 (Conv2D)              (None, 12, 12, 8)    80          ['reshape_2[0][0]']              \n",
            "                                                                                                  \n",
            " conv2d_6 (Conv2D)              (None, 12, 12, 8)    80          ['reshape_3[0][0]']              \n",
            "                                                                                                  \n",
            " conv2d_8 (Conv2D)              (None, 12, 12, 8)    80          ['reshape_4[0][0]']              \n",
            "                                                                                                  \n",
            " batch_normalization (BatchNorm  (None, 12, 12, 8)   32          ['conv2d[0][0]']                 \n",
            " alization)                                                                                       \n",
            "                                                                                                  \n",
            " batch_normalization_2 (BatchNo  (None, 12, 12, 8)   32          ['conv2d_2[0][0]']               \n",
            " rmalization)                                                                                     \n",
            "                                                                                                  \n",
            " batch_normalization_4 (BatchNo  (None, 12, 12, 8)   32          ['conv2d_4[0][0]']               \n",
            " rmalization)                                                                                     \n",
            "                                                                                                  \n",
            " batch_normalization_6 (BatchNo  (None, 12, 12, 8)   32          ['conv2d_6[0][0]']               \n",
            " rmalization)                                                                                     \n",
            "                                                                                                  \n",
            " batch_normalization_8 (BatchNo  (None, 12, 12, 8)   32          ['conv2d_8[0][0]']               \n",
            " rmalization)                                                                                     \n",
            "                                                                                                  \n",
            " activation (Activation)        (None, 12, 12, 8)    0           ['batch_normalization[0][0]']    \n",
            "                                                                                                  \n",
            " activation_2 (Activation)      (None, 12, 12, 8)    0           ['batch_normalization_2[0][0]']  \n",
            "                                                                                                  \n",
            " activation_4 (Activation)      (None, 12, 12, 8)    0           ['batch_normalization_4[0][0]']  \n",
            "                                                                                                  \n",
            " activation_6 (Activation)      (None, 12, 12, 8)    0           ['batch_normalization_6[0][0]']  \n",
            "                                                                                                  \n",
            " activation_8 (Activation)      (None, 12, 12, 8)    0           ['batch_normalization_8[0][0]']  \n",
            "                                                                                                  \n",
            " conv2d_1 (Conv2D)              (None, 5, 5, 8)      584         ['activation[0][0]']             \n",
            "                                                                                                  \n",
            " conv2d_3 (Conv2D)              (None, 5, 5, 8)      584         ['activation_2[0][0]']           \n",
            "                                                                                                  \n",
            " conv2d_5 (Conv2D)              (None, 5, 5, 8)      584         ['activation_4[0][0]']           \n",
            "                                                                                                  \n",
            " conv2d_7 (Conv2D)              (None, 5, 5, 8)      584         ['activation_6[0][0]']           \n",
            "                                                                                                  \n",
            " conv2d_9 (Conv2D)              (None, 5, 5, 8)      584         ['activation_8[0][0]']           \n",
            "                                                                                                  \n",
            " batch_normalization_1 (BatchNo  (None, 5, 5, 8)     32          ['conv2d_1[0][0]']               \n",
            " rmalization)                                                                                     \n",
            "                                                                                                  \n",
            " batch_normalization_3 (BatchNo  (None, 5, 5, 8)     32          ['conv2d_3[0][0]']               \n",
            " rmalization)                                                                                     \n",
            "                                                                                                  \n",
            " batch_normalization_5 (BatchNo  (None, 5, 5, 8)     32          ['conv2d_5[0][0]']               \n",
            " rmalization)                                                                                     \n",
            "                                                                                                  \n",
            " batch_normalization_7 (BatchNo  (None, 5, 5, 8)     32          ['conv2d_7[0][0]']               \n",
            " rmalization)                                                                                     \n",
            "                                                                                                  \n",
            " batch_normalization_9 (BatchNo  (None, 5, 5, 8)     32          ['conv2d_9[0][0]']               \n",
            " rmalization)                                                                                     \n",
            "                                                                                                  \n",
            " activation_1 (Activation)      (None, 5, 5, 8)      0           ['batch_normalization_1[0][0]']  \n",
            "                                                                                                  \n",
            " activation_3 (Activation)      (None, 5, 5, 8)      0           ['batch_normalization_3[0][0]']  \n",
            "                                                                                                  \n",
            " activation_5 (Activation)      (None, 5, 5, 8)      0           ['batch_normalization_5[0][0]']  \n",
            "                                                                                                  \n",
            " activation_7 (Activation)      (None, 5, 5, 8)      0           ['batch_normalization_7[0][0]']  \n",
            "                                                                                                  \n",
            " activation_9 (Activation)      (None, 5, 5, 8)      0           ['batch_normalization_9[0][0]']  \n",
            "                                                                                                  \n",
            " flatten (Flatten)              (None, 200)          0           ['activation_1[0][0]']           \n",
            "                                                                                                  \n",
            " flatten_1 (Flatten)            (None, 200)          0           ['activation_3[0][0]']           \n",
            "                                                                                                  \n",
            " flatten_2 (Flatten)            (None, 200)          0           ['activation_5[0][0]']           \n",
            "                                                                                                  \n",
            " flatten_3 (Flatten)            (None, 200)          0           ['activation_7[0][0]']           \n",
            "                                                                                                  \n",
            " flatten_4 (Flatten)            (None, 200)          0           ['activation_9[0][0]']           \n",
            "                                                                                                  \n",
            " concatenate (Concatenate)      (None, 1000)         0           ['flatten[0][0]',                \n",
            "                                                                  'flatten_1[0][0]',              \n",
            "                                                                  'flatten_2[0][0]',              \n",
            "                                                                  'flatten_3[0][0]',              \n",
            "                                                                  'flatten_4[0][0]']              \n",
            "                                                                                                  \n",
            " reshape_5 (Reshape)            (None, 200, 5)       0           ['concatenate[0][0]']            \n",
            "                                                                                                  \n",
            " lstm (LSTM)                    (None, 200, 100)     42400       ['reshape_5[0][0]']              \n",
            "                                                                                                  \n",
            " lstm_1 (LSTM)                  (None, 625)          1815000     ['lstm[0][0]']                   \n",
            "                                                                                                  \n",
            " reshape_6 (Reshape)            (None, 25, 25)       0           ['lstm_1[0][0]']                 \n",
            "                                                                                                  \n",
            "==================================================================================================\n",
            "Total params: 1,861,040\n",
            "Trainable params: 1,860,880\n",
            "Non-trainable params: 160\n",
            "__________________________________________________________________________________________________\n"
          ]
        }
      ]
    },
    {
      "cell_type": "code",
      "source": [
        "x_train.shape"
      ],
      "metadata": {
        "colab": {
          "base_uri": "https://localhost:8080/"
        },
        "id": "wsAL_z7N3Skp",
        "outputId": "5d462bdc-a69e-4342-be6b-a25a936bcca5"
      },
      "execution_count": null,
      "outputs": [
        {
          "output_type": "execute_result",
          "data": {
            "text/plain": [
              "(8923, 100, 5, 100)"
            ]
          },
          "metadata": {},
          "execution_count": 30
        }
      ]
    },
    {
      "cell_type": "code",
      "source": [
        "#model.compile(loss=\"mse\", optimizer=\"adam\", metrics=[\"MeanAbsolutePercentageError\"])\n",
        "model.compile(loss=\"mse\", optimizer=\"adam\", metrics=[\"MeanSquaredError\"])"
      ],
      "metadata": {
        "id": "4WNu9-hK7QOU"
      },
      "execution_count": null,
      "outputs": []
    },
    {
      "cell_type": "code",
      "source": [
        "batch_size = 16\n",
        "epochs = 3"
      ],
      "metadata": {
        "id": "uZI5ZZ3AGJMM"
      },
      "execution_count": null,
      "outputs": []
    },
    {
      "cell_type": "code",
      "source": [
        "#model_cnn.fit( x_train, Y, batch_size=batch_size, epochs=epochs, validation_split=0.4)\n",
        "#model_cnn.fit( x_train , Y1, batch_size=batch_size, epochs=epochs, validation_split=0.4)\n",
        "model.fit( x_train[0:8000] , Y[0:8000], batch_size=batch_size, epochs=epochs, validation_split=0.2)"
      ],
      "metadata": {
        "id": "eplX-fEdGJPZ",
        "colab": {
          "base_uri": "https://localhost:8080/"
        },
        "outputId": "4b2a28cb-1b6f-4c02-e6f3-6e6332a9912e"
      },
      "execution_count": null,
      "outputs": [
        {
          "output_type": "stream",
          "name": "stdout",
          "text": [
            "Epoch 1/3\n",
            "400/400 [==============================] - 1005s 2s/step - loss: 0.0014 - mean_squared_error: 0.0014 - val_loss: 0.0034 - val_mean_squared_error: 0.0034\n",
            "Epoch 2/3\n",
            "400/400 [==============================] - 1073s 3s/step - loss: 0.0013 - mean_squared_error: 0.0013 - val_loss: 0.0028 - val_mean_squared_error: 0.0028\n",
            "Epoch 3/3\n",
            "400/400 [==============================] - 1073s 3s/step - loss: 0.0013 - mean_squared_error: 0.0013 - val_loss: 0.0025 - val_mean_squared_error: 0.0025\n"
          ]
        },
        {
          "output_type": "execute_result",
          "data": {
            "text/plain": [
              "<keras.callbacks.History at 0x7ff5ff50dc70>"
            ]
          },
          "metadata": {},
          "execution_count": 34
        }
      ]
    },
    {
      "cell_type": "code",
      "source": [
        "model.save('/content/gdrive/MyDrive/Data_Set/Spatio1XxX_0224_01.model')\n",
        "#model = tf.keras.models.load_model(\"/content/gdrive/MyDrive/Data_Set/Spatio1XxX_0216_03.model\")"
      ],
      "metadata": {
        "id": "kztmIowNvTMx",
        "colab": {
          "base_uri": "https://localhost:8080/"
        },
        "outputId": "589b327b-2cd1-481f-de83-e2b25e30609a"
      },
      "execution_count": null,
      "outputs": [
        {
          "output_type": "stream",
          "name": "stderr",
          "text": [
            "WARNING:absl:Found untraced functions such as _jit_compiled_convolution_op, _jit_compiled_convolution_op, _jit_compiled_convolution_op, _jit_compiled_convolution_op, _jit_compiled_convolution_op while saving (showing 5 of 15). These functions will not be directly callable after loading.\n"
          ]
        }
      ]
    },
    {
      "cell_type": "code",
      "source": [
        "start = 144*14\n",
        "stx = 40\n",
        "sty = 40\n",
        "w = 25\n",
        "le = 144*6\n",
        "i = 60\n",
        "model.fit( x_train[start:start+le,stx:stx+w , :, sty:sty+w] , Y[start:start+le,stx:stx+w , sty:sty+w], batch_size=16, epochs=10, validation_split=0.2)\n",
        "\n",
        "start = 144*15\n",
        "le =144*5\n",
        "valPredict = model.predict(x_train[start:start+le,stx:stx+w , :, sty:sty+w]) #stx:stx+w,sty:sty+w\n",
        "yout = Y[start : start + valPredict.shape[0],stx:stx+w , sty:sty+w]\n",
        "\n",
        "fig = plt.figure(figsize=(16, 4))\n",
        "plt.subplot(1, 3, 1)\n",
        "Z1 = yout[i,:,:]\n",
        "plt.imshow(Z1,cmap=\"hot\")\n",
        "plt.title(\"Original Internet Traffic\")\n",
        "plt.clim( 0,.5)\n",
        "plt.colorbar()\n",
        "# #plt.show()\n",
        "\n",
        "plt.subplot(1, 3, 2)\n",
        "Z2 = valPredict[i,:,:]\n",
        "plt.imshow(Z2,cmap=\"hot\")\n",
        "plt.title(\"Predicted Internet Traffic\")\n",
        "plt.clim( 0,.5)\n",
        "plt.colorbar()\n",
        "\n",
        "plt.subplot(1, 3, 3)\n",
        "Z3 = abs(Z2-Z1)\n",
        "plt.imshow(Z3,cmap=\"hot\")\n",
        "plt.title(\"Error of The Predicted Internet Traffic\")\n",
        "plt.clim( 0,.5)\n",
        "plt.colorbar()\n",
        "plt.savefig('/content/gdrive/MyDrive/Data_Set/plots_mid_2/Spatio_25x25/Spatio25x25_'+ str(stx) + '_' + str(sty) +'_comp.png',transparent=True)\n",
        "# #plt.show()\n",
        "\n",
        "fig = plt.figure(figsize=(6, 4))    \n",
        "Z1 = yout[i,:,:]\n",
        "plt.imshow(Z1,cmap=\"hot\")\n",
        "plt.title(\"Original Internet Traffic\")\n",
        "plt.clim( 0,.5)\n",
        "plt.colorbar()\n",
        "plt.savefig('/content/gdrive/MyDrive/Data_Set/plots_mid_2/Spatio_25x25/Spatio25x25_on_'+ str(stx) + '_' + str(sty) +'_comp.png',transparent=True)\n",
        "\n",
        "\n"
      ],
      "metadata": {
        "colab": {
          "base_uri": "https://localhost:8080/",
          "height": 902
        },
        "id": "wbzmae-1IgY-",
        "outputId": "709f0176-9284-4aca-c2fb-fc785a221229"
      },
      "execution_count": null,
      "outputs": [
        {
          "output_type": "stream",
          "name": "stdout",
          "text": [
            "Epoch 1/10\n",
            "43/43 [==============================] - 72s 2s/step - loss: 0.0022 - mean_squared_error: 0.0022 - val_loss: 0.0055 - val_mean_squared_error: 0.0055\n",
            "Epoch 2/10\n",
            "43/43 [==============================] - 71s 2s/step - loss: 0.0020 - mean_squared_error: 0.0020 - val_loss: 0.0051 - val_mean_squared_error: 0.0051\n",
            "Epoch 3/10\n",
            "43/43 [==============================] - 70s 2s/step - loss: 0.0021 - mean_squared_error: 0.0021 - val_loss: 0.0051 - val_mean_squared_error: 0.0051\n",
            "Epoch 4/10\n",
            "43/43 [==============================] - 69s 2s/step - loss: 0.0021 - mean_squared_error: 0.0021 - val_loss: 0.0051 - val_mean_squared_error: 0.0051\n",
            "Epoch 5/10\n",
            "43/43 [==============================] - 70s 2s/step - loss: 0.0020 - mean_squared_error: 0.0020 - val_loss: 0.0048 - val_mean_squared_error: 0.0048\n",
            "Epoch 6/10\n",
            "43/43 [==============================] - 70s 2s/step - loss: 0.0020 - mean_squared_error: 0.0020 - val_loss: 0.0048 - val_mean_squared_error: 0.0048\n",
            "Epoch 7/10\n",
            "43/43 [==============================] - 68s 2s/step - loss: 0.0019 - mean_squared_error: 0.0019 - val_loss: 0.0049 - val_mean_squared_error: 0.0049\n",
            "Epoch 8/10\n",
            "43/43 [==============================] - 71s 2s/step - loss: 0.0019 - mean_squared_error: 0.0019 - val_loss: 0.0048 - val_mean_squared_error: 0.0048\n",
            "Epoch 9/10\n",
            "43/43 [==============================] - 70s 2s/step - loss: 0.0018 - mean_squared_error: 0.0018 - val_loss: 0.0047 - val_mean_squared_error: 0.0047\n",
            "Epoch 10/10\n",
            "43/43 [==============================] - 68s 2s/step - loss: 0.0018 - mean_squared_error: 0.0018 - val_loss: 0.0047 - val_mean_squared_error: 0.0047\n",
            "23/23 [==============================] - 12s 527ms/step\n"
          ]
        },
        {
          "output_type": "display_data",
          "data": {
            "text/plain": [
              "<Figure size 1152x288 with 6 Axes>"
            ],
            "image/png": "[encoded data removed]"
          },
          "metadata": {
            "needs_background": "light"
          }
        },
        {
          "output_type": "display_data",
          "data": {
            "text/plain": [
              "<Figure size 432x288 with 2 Axes>"
            ],
            "image/png": "[encoded data removed]"
          },
          "metadata": {
            "needs_background": "light"
          }
        }
      ]
    },
    {
      "cell_type": "code",
      "source": [
        "# for i in [0,25,50,75]:\n",
        "#   for j in [0,25,50,75]:\n",
        "#     #print('y :',i,'  x :',j)\n",
        "#     start = 0\n",
        "#     stx = i\n",
        "#     sty = j\n",
        "#     w = 25\n",
        "#     le = 144\n",
        "#     model.fit( x_train[start:start+le,stx:stx+w , :, sty:sty+w] , Y[start:start+le,stx:stx+w , sty:sty+w], batch_size=16, epochs=1, validation_split=0.2)\n",
        "\n",
        "#     start = 144*0\n",
        "#     le = 25\n",
        "#     valPredict = model.predict(x_train[start:start+le,stx:stx+w , :, sty:sty+w]) #stx:stx+w,sty:sty+w\n",
        "#     yout = Y[start : start + valPredict.shape[0],stx:stx+w , sty:sty+w]\n",
        "#     # print('pred shape = ',valPredict.shape)\n",
        "#     # print('yout shape = ',yout.shape)\n",
        "\n",
        "#     i = 20\n",
        "#     fig = plt.figure(figsize=(6, 4))\n",
        "#     # plt.subplot(1, 3, 1)\n",
        "#     Z1 = yout[i,:,:]\n",
        "#     plt.imshow(Z1,cmap=\"hot\")\n",
        "#     plt.title(\"Original Internet Traffic\")\n",
        "#     plt.clim( 0,.5)\n",
        "#     plt.colorbar()\n",
        "#     # #plt.show()\n",
        "\n",
        "#     # plt.subplot(1, 3, 2)\n",
        "#     # Z2 = valPredict[i,:,:]\n",
        "#     # plt.imshow(Z2,cmap=\"hot\")\n",
        "#     # plt.title(\"Predicted Internet Traffic\")\n",
        "#     # plt.clim( 0,.5)\n",
        "#     # plt.colorbar()\n",
        "\n",
        "#     # plt.subplot(1, 3, 3)\n",
        "#     # Z3 = abs(Z2-Z1)\n",
        "#     # plt.imshow(Z3,cmap=\"hot\")\n",
        "#     # plt.title(\"Error of The Predicted Internet Traffic\")\n",
        "#     # plt.clim( 0,.5)\n",
        "#     # plt.colorbar()\n",
        "#     plt.savefig('/content/gdrive/MyDrive/Data_Set/plots_mid_2/Spatio_25x25/Spatio25x25_'+ str(stx) + '_' + str(sty) +'_comp.png',transparent=True)\n",
        "#     # #plt.show()\n",
        "\n",
        "#     fig = plt.figure(figsize=(6, 4))    \n",
        "#     Z1 = yout[i,:,:]\n",
        "#     plt.imshow(Z1,cmap=\"hot\")\n",
        "#     plt.title(\"Original Internet Traffic\")\n",
        "#     plt.clim( 0,.5)\n",
        "#     plt.colorbar()\n",
        "#     plt.savefig('/content/gdrive/MyDrive/Data_Set/plots_mid_2/Spatio_25x25/Spatio25x25_on_'+ str(stx) + '_' + str(sty) +'_comp.png',transparent=True)\n",
        "\n",
        "\n",
        "\n",
        "\n",
        "  "
      ],
      "metadata": {
        "id": "tVK_KP2zTHSe"
      },
      "execution_count": null,
      "outputs": []
    },
    {
      "cell_type": "code",
      "source": [
        "X.shape"
      ],
      "metadata": {
        "colab": {
          "base_uri": "https://localhost:8080/"
        },
        "id": "zxYM_rcKGJUj",
        "outputId": "e6129ddc-294e-4b37-c448-0ea3d5bbdf0f"
      },
      "execution_count": null,
      "outputs": [
        {
          "output_type": "execute_result",
          "data": {
            "text/plain": [
              "(8923, 5, 25, 25)"
            ]
          },
          "metadata": {},
          "execution_count": 35
        }
      ]
    },
    {
      "cell_type": "code",
      "source": [
        "x_train.shape"
      ],
      "metadata": {
        "colab": {
          "base_uri": "https://localhost:8080/"
        },
        "id": "7lXzpcYz78HO",
        "outputId": "7a10b44f-a765-422f-e283-19a19c34da88"
      },
      "execution_count": null,
      "outputs": [
        {
          "output_type": "execute_result",
          "data": {
            "text/plain": [
              "(8923, 100, 5, 100)"
            ]
          },
          "metadata": {},
          "execution_count": 31
        }
      ]
    },
    {
      "cell_type": "code",
      "source": [
        "Y.shape"
      ],
      "metadata": {
        "colab": {
          "base_uri": "https://localhost:8080/"
        },
        "id": "-VesEkOAjvW0",
        "outputId": "78f6e8a4-e889-4f7d-944d-0b6961cd0b15"
      },
      "execution_count": null,
      "outputs": [
        {
          "output_type": "execute_result",
          "data": {
            "text/plain": [
              "(8923, 25, 25)"
            ]
          },
          "metadata": {},
          "execution_count": 36
        }
      ]
    },
    {
      "cell_type": "code",
      "source": [
        "start = 144*13\n",
        "stx = 40\n",
        "sty = 40\n",
        "w = 25\n",
        "le = 144*5\n",
        "valPredict = model.predict(x_train[start:start+le,stx:stx+w , :, sty:sty+w]) #stx:stx+w,sty:sty+w\n",
        "yout = Y[start : start + valPredict.shape[0],stx:stx+w , sty:sty+w]\n",
        "print('pred shape = ',valPredict.shape)\n",
        "print('yout shape = ',yout.shape)"
      ],
      "metadata": {
        "id": "o9Tg-SJgi7tf",
        "colab": {
          "base_uri": "https://localhost:8080/"
        },
        "outputId": "ceae5a55-c775-488a-c99c-dafb259364a3"
      },
      "execution_count": null,
      "outputs": [
        {
          "output_type": "stream",
          "name": "stdout",
          "text": [
            "23/23 [==============================] - 13s 558ms/step\n",
            "pred shape =  (720, 25, 25)\n",
            "yout shape =  (720, 25, 25)\n"
          ]
        }
      ]
    },
    {
      "cell_type": "code",
      "source": [
        "i = 60\n",
        "fig = plt.figure(figsize=(16, 4))\n",
        "plt.subplot(1, 3, 1)\n",
        "Z1 = yout[i,:,:]\n",
        "plt.imshow(Z1,cmap=\"hot\")\n",
        "plt.title(\"Original Internet Traffic\")\n",
        "plt.clim( 0,.5)\n",
        "plt.colorbar()\n",
        "#plt.show()\n",
        "\n",
        "plt.subplot(1, 3, 2)\n",
        "Z2 = valPredict[i,:,:]\n",
        "plt.imshow(Z2,cmap=\"hot\")\n",
        "plt.title(\"Predicted Internet Traffic\")\n",
        "plt.clim( 0,.5)\n",
        "plt.colorbar()\n",
        "\n",
        "plt.subplot(1, 3, 3)\n",
        "Z3 = abs(Z2-Z1)\n",
        "plt.imshow(Z3,cmap=\"hot\")\n",
        "plt.title(\"Error of The Predicted Internet Traffic\")\n",
        "plt.clim( 0,.5)\n",
        "plt.colorbar()\n",
        "#plt.savefig('/content/gdrive/MyDrive/Data_Set/plots_mid_2/Spatio_25x25/Spatio25x25_'+ str(stx) + '_' + str(sty) +'_comp.png',transparent=True)\n",
        "plt.show()\n",
        "\n"
      ],
      "metadata": {
        "colab": {
          "base_uri": "https://localhost:8080/",
          "height": 274
        },
        "id": "iByb91eisluq",
        "outputId": "e270a604-78dd-4198-f4ff-abecc08a8388"
      },
      "execution_count": null,
      "outputs": [
        {
          "output_type": "display_data",
          "data": {
            "text/plain": [
              "<Figure size 1152x288 with 6 Axes>"
            ],
            "image/png": "[encoded data removed]"
          },
          "metadata": {
            "needs_background": "light"
          }
        }
      ]
    },
    {
      "cell_type": "code",
      "source": [
        "print(Z3.max())\n",
        "print(Z3.min())"
      ],
      "metadata": {
        "colab": {
          "base_uri": "https://localhost:8080/"
        },
        "id": "l0E0XttI5ADx",
        "outputId": "3668d348-57a4-46a8-a0f2-439f02455192"
      },
      "execution_count": null,
      "outputs": [
        {
          "output_type": "stream",
          "name": "stdout",
          "text": [
            "0.4956175777805325\n",
            "4.230741240278391e-06\n"
          ]
        }
      ]
    },
    {
      "cell_type": "code",
      "source": [
        "def absError(y , ypred):\n",
        "  i = 1\n",
        "  y[np.where(y<0.0005*i)] = 0.0005*i\n",
        "  dif = (np.divide( np.absolute(ypred - y) , y))/(ypred.shape[1] * ypred.shape[2])/ypred.shape[0]\n",
        "  return np.sum(dif)\n",
        "\n",
        "\n",
        "def msep(y , ypred):\n",
        "  i = 1\n",
        "  y[np.where(y<0.0005*i)] = 0.0005*i\n",
        "  dif = (np.divide( np.square(ypred - y) , np.square(y) ))/(ypred.shape[1] * ypred.shape[2])/ypred.shape[0]\n",
        "  return np.sum(dif)"
      ],
      "metadata": {
        "id": "hlRIcGGYqFb_"
      },
      "execution_count": null,
      "outputs": []
    },
    {
      "cell_type": "code",
      "source": [
        "print('Absolute percentage error is = ' , absError(yout , valPredict))\n",
        "print('Absolute percentage mse is = ' , msep(yout , valPredict))"
      ],
      "metadata": {
        "colab": {
          "base_uri": "https://localhost:8080/"
        },
        "id": "K7EPCAEcqFfc",
        "outputId": "56be968f-5320-4d8f-8406-433968d9554d"
      },
      "execution_count": null,
      "outputs": [
        {
          "output_type": "stream",
          "name": "stdout",
          "text": [
            "Absolute percentage error is =  0.29148177112041207\n",
            "Absolute percentage mse is =  0.22090587229102365\n"
          ]
        }
      ]
    },
    {
      "cell_type": "code",
      "source": [
        "fig = plt.figure(figsize=(10, 4)) #xx=10 yy=20\n",
        "xx = 10\n",
        "yy = 5\n",
        "plt.plot( yout[0:720,xx,yy] ,color = 'blue', linewidth=0.8)\n",
        "plt.plot( valPredict[0:720,xx,yy] ,color = 'red', linewidth=0.8)"
      ],
      "metadata": {
        "colab": {
          "base_uri": "https://localhost:8080/",
          "height": 282
        },
        "id": "Qpnqx3NS15JX",
        "outputId": "d03ab7e0-2fa2-451f-8a8e-574b9d46aadc"
      },
      "execution_count": null,
      "outputs": [
        {
          "output_type": "execute_result",
          "data": {
            "text/plain": [
              "[<matplotlib.lines.Line2D at 0x7fe07bad7040>]"
            ]
          },
          "metadata": {},
          "execution_count": 41
        },
        {
          "output_type": "display_data",
          "data": {
            "text/plain": [
              "<Figure size 720x288 with 1 Axes>"
            ],
            "image/png": "[encoded data removed]"
          },
          "metadata": {
            "needs_background": "light"
          }
        }
      ]
    }
  ]
}