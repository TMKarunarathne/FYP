{
  "nbformat": 4,
  "nbformat_minor": 0,
  "metadata": {
    "colab": {
      "provenance": [],
      "include_colab_link": true
    },
    "kernelspec": {
      "name": "python3",
      "display_name": "Python 3"
    },
    "language_info": {
      "name": "python"
    },
    "accelerator": "GPU"
  },
  "cells": [
    {
      "cell_type": "markdown",
      "metadata": {
        "id": "view-in-github",
        "colab_type": "text"
      },
      "source": [
        "<a href=\"https://colab.research.google.com/github/TMKarunarathne/FYP/blob/main/(10min)svr_with_mean.ipynb\" target=\"_parent\"><img src=\"https://colab.research.google.com/assets/colab-badge.svg\" alt=\"Open In Colab\"/></a>"
      ]
    },
    {
      "cell_type": "code",
      "execution_count": null,
      "metadata": {
        "colab": {
          "base_uri": "https://localhost:8080/"
        },
        "id": "bSI4Ph8me-cJ",
        "outputId": "428d83f6-1264-44a8-c5f8-fc80ef9e2289"
      },
      "outputs": [
        {
          "output_type": "stream",
          "name": "stdout",
          "text": [
            "Mounted at /content/gdrive\n",
            "Mounted at /content/gdrive\n"
          ]
        }
      ],
      "source": [
        "import pandas as pd\n",
        "import numpy as np\n",
        "import matplotlib.pyplot as plt\n",
        "import scipy.io\n",
        "import warnings\n",
        "warnings.filterwarnings('ignore')\n",
        "\n",
        "from google.colab import drive\n",
        "drive.mount('/content/gdrive')\n",
        "drive.mount(\"/content/gdrive\", force_remount=True)\n",
        "\n",
        "rand_state =1000\n",
        "mat_file = '/content/gdrive/MyDrive/Data_Set/FV_10000x8928_01.mat'\n",
        "\n",
        "mat = scipy.io.loadmat(mat_file)"
      ]
    },
    {
      "cell_type": "code",
      "source": [
        "df1= pd.DataFrame(mat['df'])\n",
        "df1 = df1.drop(df1.columns[[0]], axis=1)\n",
        "df1=df1.iloc[:,1:]\n",
        "col = [i for i in range(1,10001)]\n",
        "df1 = df1.set_axis(col, axis=1)\n",
        "dates_x = pd.to_datetime(pd.DataFrame(mat['df'])[1], unit=\"s\")\n",
        "df1.set_index(dates_x,inplace=True)"
      ],
      "metadata": {
        "id": "uN-VntrjfM9L",
        "colab": {
          "base_uri": "https://localhost:8080/",
          "height": 235
        },
        "outputId": "a9a68589-36b9-47a3-a0df-18f27f5e43c5"
      },
      "execution_count": null,
      "outputs": [
        {
          "output_type": "error",
          "ename": "NameError",
          "evalue": "ignored",
          "traceback": [
            "\u001b[0;31m---------------------------------------------------------------------------\u001b[0m",
            "\u001b[0;31mNameError\u001b[0m                                 Traceback (most recent call last)",
            "\u001b[0;32m<ipython-input-1-08e17a19d3af>\u001b[0m in \u001b[0;36m<module>\u001b[0;34m()\u001b[0m\n\u001b[0;32m----> 1\u001b[0;31m \u001b[0mdf1\u001b[0m\u001b[0;34m=\u001b[0m \u001b[0mpd\u001b[0m\u001b[0;34m.\u001b[0m\u001b[0mDataFrame\u001b[0m\u001b[0;34m(\u001b[0m\u001b[0mmat\u001b[0m\u001b[0;34m[\u001b[0m\u001b[0;34m'df'\u001b[0m\u001b[0;34m]\u001b[0m\u001b[0;34m)\u001b[0m\u001b[0;34m\u001b[0m\u001b[0;34m\u001b[0m\u001b[0m\n\u001b[0m\u001b[1;32m      2\u001b[0m \u001b[0mdf1\u001b[0m \u001b[0;34m=\u001b[0m \u001b[0mdf1\u001b[0m\u001b[0;34m.\u001b[0m\u001b[0mdrop\u001b[0m\u001b[0;34m(\u001b[0m\u001b[0mdf1\u001b[0m\u001b[0;34m.\u001b[0m\u001b[0mcolumns\u001b[0m\u001b[0;34m[\u001b[0m\u001b[0;34m[\u001b[0m\u001b[0;36m0\u001b[0m\u001b[0;34m]\u001b[0m\u001b[0;34m]\u001b[0m\u001b[0;34m,\u001b[0m \u001b[0maxis\u001b[0m\u001b[0;34m=\u001b[0m\u001b[0;36m1\u001b[0m\u001b[0;34m)\u001b[0m\u001b[0;34m\u001b[0m\u001b[0;34m\u001b[0m\u001b[0m\n\u001b[1;32m      3\u001b[0m \u001b[0mdf1\u001b[0m\u001b[0;34m=\u001b[0m\u001b[0mdf1\u001b[0m\u001b[0;34m.\u001b[0m\u001b[0miloc\u001b[0m\u001b[0;34m[\u001b[0m\u001b[0;34m:\u001b[0m\u001b[0;34m,\u001b[0m\u001b[0;36m1\u001b[0m\u001b[0;34m:\u001b[0m\u001b[0;34m]\u001b[0m\u001b[0;34m\u001b[0m\u001b[0;34m\u001b[0m\u001b[0m\n\u001b[1;32m      4\u001b[0m \u001b[0mcol\u001b[0m \u001b[0;34m=\u001b[0m \u001b[0;34m[\u001b[0m\u001b[0mi\u001b[0m \u001b[0;32mfor\u001b[0m \u001b[0mi\u001b[0m \u001b[0;32min\u001b[0m \u001b[0mrange\u001b[0m\u001b[0;34m(\u001b[0m\u001b[0;36m1\u001b[0m\u001b[0;34m,\u001b[0m\u001b[0;36m10001\u001b[0m\u001b[0;34m)\u001b[0m\u001b[0;34m]\u001b[0m\u001b[0;34m\u001b[0m\u001b[0;34m\u001b[0m\u001b[0m\n\u001b[1;32m      5\u001b[0m \u001b[0mdf1\u001b[0m \u001b[0;34m=\u001b[0m \u001b[0mdf1\u001b[0m\u001b[0;34m.\u001b[0m\u001b[0mset_axis\u001b[0m\u001b[0;34m(\u001b[0m\u001b[0mcol\u001b[0m\u001b[0;34m,\u001b[0m \u001b[0maxis\u001b[0m\u001b[0;34m=\u001b[0m\u001b[0;36m1\u001b[0m\u001b[0;34m)\u001b[0m\u001b[0;34m\u001b[0m\u001b[0;34m\u001b[0m\u001b[0m\n",
            "\u001b[0;31mNameError\u001b[0m: name 'pd' is not defined"
          ]
        }
      ]
    },
    {
      "cell_type": "markdown",
      "source": [
        "## **model 1**"
      ],
      "metadata": {
        "id": "7CIbXArMkeVh"
      }
    },
    {
      "cell_type": "code",
      "source": [
        "b = pd.DataFrame(df1[438:8502])\n",
        "what_day = []\n",
        "for i in range(8):\n",
        "  for j in range (7):\n",
        "    for k in range(144):\n",
        "      what_day.append(j+1)           #  [1=monday,2=tuesday,3=wednesday,4=thurseday,5=friday,6=saturday,7=sunday]\n"
      ],
      "metadata": {
        "id": "HVj5-GcGfgzD"
      },
      "execution_count": null,
      "outputs": []
    },
    {
      "cell_type": "code",
      "source": [
        "len(what_day)"
      ],
      "metadata": {
        "colab": {
          "base_uri": "https://localhost:8080/"
        },
        "id": "7aDCAYRXODop",
        "outputId": "3b47daee-271d-4225-8856-6ef87f0cd27d"
      },
      "execution_count": null,
      "outputs": [
        {
          "output_type": "execute_result",
          "data": {
            "text/plain": [
              "8064"
            ]
          },
          "metadata": {},
          "execution_count": 13
        }
      ]
    },
    {
      "cell_type": "code",
      "source": [
        "\n",
        "b['date_no'] = what_day \n",
        "v = 89              #___________________________________________________________________cell selection\n",
        "df4 = b[[v , 'date_no']]\n",
        "df4"
      ],
      "metadata": {
        "colab": {
          "base_uri": "https://localhost:8080/",
          "height": 455
        },
        "id": "xua8kn8GOADx",
        "outputId": "77081e2f-640c-4fd3-acda-27746adfe5e7"
      },
      "execution_count": null,
      "outputs": [
        {
          "output_type": "execute_result",
          "data": {
            "text/plain": [
              "                           89  date_no\n",
              "1                                     \n",
              "2013-11-04 00:00:00  2.078370        1\n",
              "2013-11-04 00:10:00  1.875145        1\n",
              "2013-11-04 00:20:00  2.041676        1\n",
              "2013-11-04 00:30:00  1.905123        1\n",
              "2013-11-04 00:40:00  1.695281        1\n",
              "...                       ...      ...\n",
              "2013-12-29 23:10:00  2.001673        7\n",
              "2013-12-29 23:20:00  1.855094        7\n",
              "2013-12-29 23:30:00  1.895097        7\n",
              "2013-12-29 23:40:00  2.114866        7\n",
              "2013-12-29 23:50:00  1.288931        7\n",
              "\n",
              "[8064 rows x 2 columns]"
            ],
            "text/html": [
              "\n",
              "  <div id=\"df-6b3b212c-f59e-4704-95c8-be1a16c4b521\">\n",
              "    <div class=\"colab-df-container\">\n",
              "      <div>\n",
              "<style scoped>\n",
              "    .dataframe tbody tr th:only-of-type {\n",
              "        vertical-align: middle;\n",
              "    }\n",
              "\n",
              "    .dataframe tbody tr th {\n",
              "        vertical-align: top;\n",
              "    }\n",
              "\n",
              "    .dataframe thead th {\n",
              "        text-align: right;\n",
              "    }\n",
              "</style>\n",
              "<table border=\"1\" class=\"dataframe\">\n",
              "  <thead>\n",
              "    <tr style=\"text-align: right;\">\n",
              "      <th></th>\n",
              "      <th>89</th>\n",
              "      <th>date_no</th>\n",
              "    </tr>\n",
              "    <tr>\n",
              "      <th>1</th>\n",
              "      <th></th>\n",
              "      <th></th>\n",
              "    </tr>\n",
              "  </thead>\n",
              "  <tbody>\n",
              "    <tr>\n",
              "      <th>2013-11-04 00:00:00</th>\n",
              "      <td>2.078370</td>\n",
              "      <td>1</td>\n",
              "    </tr>\n",
              "    <tr>\n",
              "      <th>2013-11-04 00:10:00</th>\n",
              "      <td>1.875145</td>\n",
              "      <td>1</td>\n",
              "    </tr>\n",
              "    <tr>\n",
              "      <th>2013-11-04 00:20:00</th>\n",
              "      <td>2.041676</td>\n",
              "      <td>1</td>\n",
              "    </tr>\n",
              "    <tr>\n",
              "      <th>2013-11-04 00:30:00</th>\n",
              "      <td>1.905123</td>\n",
              "      <td>1</td>\n",
              "    </tr>\n",
              "    <tr>\n",
              "      <th>2013-11-04 00:40:00</th>\n",
              "      <td>1.695281</td>\n",
              "      <td>1</td>\n",
              "    </tr>\n",
              "    <tr>\n",
              "      <th>...</th>\n",
              "      <td>...</td>\n",
              "      <td>...</td>\n",
              "    </tr>\n",
              "    <tr>\n",
              "      <th>2013-12-29 23:10:00</th>\n",
              "      <td>2.001673</td>\n",
              "      <td>7</td>\n",
              "    </tr>\n",
              "    <tr>\n",
              "      <th>2013-12-29 23:20:00</th>\n",
              "      <td>1.855094</td>\n",
              "      <td>7</td>\n",
              "    </tr>\n",
              "    <tr>\n",
              "      <th>2013-12-29 23:30:00</th>\n",
              "      <td>1.895097</td>\n",
              "      <td>7</td>\n",
              "    </tr>\n",
              "    <tr>\n",
              "      <th>2013-12-29 23:40:00</th>\n",
              "      <td>2.114866</td>\n",
              "      <td>7</td>\n",
              "    </tr>\n",
              "    <tr>\n",
              "      <th>2013-12-29 23:50:00</th>\n",
              "      <td>1.288931</td>\n",
              "      <td>7</td>\n",
              "    </tr>\n",
              "  </tbody>\n",
              "</table>\n",
              "<p>8064 rows × 2 columns</p>\n",
              "</div>\n",
              "      <button class=\"colab-df-convert\" onclick=\"convertToInteractive('df-6b3b212c-f59e-4704-95c8-be1a16c4b521')\"\n",
              "              title=\"Convert this dataframe to an interactive table.\"\n",
              "              style=\"display:none;\">\n",
              "        \n",
              "  <svg xmlns=\"http://www.w3.org/2000/svg\" height=\"24px\"viewBox=\"0 0 24 24\"\n",
              "       width=\"24px\">\n",
              "    <path d=\"M0 0h24v24H0V0z\" fill=\"none\"/>\n",
              "    <path d=\"M18.56 5.44l.94 2.06.94-2.06 2.06-.94-2.06-.94-.94-2.06-.94 2.06-2.06.94zm-11 1L8.5 8.5l.94-2.06 2.06-.94-2.06-.94L8.5 2.5l-.94 2.06-2.06.94zm10 10l.94 2.06.94-2.06 2.06-.94-2.06-.94-.94-2.06-.94 2.06-2.06.94z\"/><path d=\"M17.41 7.96l-1.37-1.37c-.4-.4-.92-.59-1.43-.59-.52 0-1.04.2-1.43.59L10.3 9.45l-7.72 7.72c-.78.78-.78 2.05 0 2.83L4 21.41c.39.39.9.59 1.41.59.51 0 1.02-.2 1.41-.59l7.78-7.78 2.81-2.81c.8-.78.8-2.07 0-2.86zM5.41 20L4 18.59l7.72-7.72 1.47 1.35L5.41 20z\"/>\n",
              "  </svg>\n",
              "      </button>\n",
              "      \n",
              "  <style>\n",
              "    .colab-df-container {\n",
              "      display:flex;\n",
              "      flex-wrap:wrap;\n",
              "      gap: 12px;\n",
              "    }\n",
              "\n",
              "    .colab-df-convert {\n",
              "      background-color: #E8F0FE;\n",
              "      border: none;\n",
              "      border-radius: 50%;\n",
              "      cursor: pointer;\n",
              "      display: none;\n",
              "      fill: #1967D2;\n",
              "      height: 32px;\n",
              "      padding: 0 0 0 0;\n",
              "      width: 32px;\n",
              "    }\n",
              "\n",
              "    .colab-df-convert:hover {\n",
              "      background-color: #E2EBFA;\n",
              "      box-shadow: 0px 1px 2px rgba(60, 64, 67, 0.3), 0px 1px 3px 1px rgba(60, 64, 67, 0.15);\n",
              "      fill: #174EA6;\n",
              "    }\n",
              "\n",
              "    [theme=dark] .colab-df-convert {\n",
              "      background-color: #3B4455;\n",
              "      fill: #D2E3FC;\n",
              "    }\n",
              "\n",
              "    [theme=dark] .colab-df-convert:hover {\n",
              "      background-color: #434B5C;\n",
              "      box-shadow: 0px 1px 3px 1px rgba(0, 0, 0, 0.15);\n",
              "      filter: drop-shadow(0px 1px 2px rgba(0, 0, 0, 0.3));\n",
              "      fill: #FFFFFF;\n",
              "    }\n",
              "  </style>\n",
              "\n",
              "      <script>\n",
              "        const buttonEl =\n",
              "          document.querySelector('#df-6b3b212c-f59e-4704-95c8-be1a16c4b521 button.colab-df-convert');\n",
              "        buttonEl.style.display =\n",
              "          google.colab.kernel.accessAllowed ? 'block' : 'none';\n",
              "\n",
              "        async function convertToInteractive(key) {\n",
              "          const element = document.querySelector('#df-6b3b212c-f59e-4704-95c8-be1a16c4b521');\n",
              "          const dataTable =\n",
              "            await google.colab.kernel.invokeFunction('convertToInteractive',\n",
              "                                                     [key], {});\n",
              "          if (!dataTable) return;\n",
              "\n",
              "          const docLinkHtml = 'Like what you see? Visit the ' +\n",
              "            '<a target=\"_blank\" href=https://colab.research.google.com/notebooks/data_table.ipynb>data table notebook</a>'\n",
              "            + ' to learn more about interactive tables.';\n",
              "          element.innerHTML = '';\n",
              "          dataTable['output_type'] = 'display_data';\n",
              "          await google.colab.output.renderOutput(dataTable, element);\n",
              "          const docLink = document.createElement('div');\n",
              "          docLink.innerHTML = docLinkHtml;\n",
              "          element.appendChild(docLink);\n",
              "        }\n",
              "      </script>\n",
              "    </div>\n",
              "  </div>\n",
              "  "
            ]
          },
          "metadata": {},
          "execution_count": 14
        }
      ]
    },
    {
      "cell_type": "code",
      "source": [
        "mean=[]\n",
        "for j in range(144):\n",
        "  sum=0\n",
        "  for i in range(56): # 56 days\n",
        "    sum = sum + df4[v][(i*144)+j:1+(i*144)+j][0]\n",
        "  mean.append(sum/56)\n",
        "\n",
        "mean_ts =[]\n",
        "\n",
        "for i in range(8):\n",
        "  for j in range (7):\n",
        "    for k in range(144):\n",
        "      mean_ts.append(mean[k])\n",
        "\n",
        "df4['mean'] = mean_ts\n",
        "df4"
      ],
      "metadata": {
        "colab": {
          "base_uri": "https://localhost:8080/",
          "height": 455
        },
        "id": "fnYUCC6igaYR",
        "outputId": "8ad73639-d605-46fd-92eb-e63f467452f4"
      },
      "execution_count": null,
      "outputs": [
        {
          "output_type": "execute_result",
          "data": {
            "text/plain": [
              "                           89  date_no      mean\n",
              "1                                               \n",
              "2013-11-04 00:00:00  2.078370        1  2.460124\n",
              "2013-11-04 00:10:00  1.875145        1  2.254538\n",
              "2013-11-04 00:20:00  2.041676        1  2.175672\n",
              "2013-11-04 00:30:00  1.905123        1  2.107950\n",
              "2013-11-04 00:40:00  1.695281        1  2.101959\n",
              "...                       ...      ...       ...\n",
              "2013-12-29 23:10:00  2.001673        7  2.812190\n",
              "2013-12-29 23:20:00  1.855094        7  2.815780\n",
              "2013-12-29 23:30:00  1.895097        7  2.690723\n",
              "2013-12-29 23:40:00  2.114866        7  2.585516\n",
              "2013-12-29 23:50:00  1.288931        7  2.471772\n",
              "\n",
              "[8064 rows x 3 columns]"
            ],
            "text/html": [
              "\n",
              "  <div id=\"df-d043927e-88ea-4fdf-9091-170f37f5824c\">\n",
              "    <div class=\"colab-df-container\">\n",
              "      <div>\n",
              "<style scoped>\n",
              "    .dataframe tbody tr th:only-of-type {\n",
              "        vertical-align: middle;\n",
              "    }\n",
              "\n",
              "    .dataframe tbody tr th {\n",
              "        vertical-align: top;\n",
              "    }\n",
              "\n",
              "    .dataframe thead th {\n",
              "        text-align: right;\n",
              "    }\n",
              "</style>\n",
              "<table border=\"1\" class=\"dataframe\">\n",
              "  <thead>\n",
              "    <tr style=\"text-align: right;\">\n",
              "      <th></th>\n",
              "      <th>89</th>\n",
              "      <th>date_no</th>\n",
              "      <th>mean</th>\n",
              "    </tr>\n",
              "    <tr>\n",
              "      <th>1</th>\n",
              "      <th></th>\n",
              "      <th></th>\n",
              "      <th></th>\n",
              "    </tr>\n",
              "  </thead>\n",
              "  <tbody>\n",
              "    <tr>\n",
              "      <th>2013-11-04 00:00:00</th>\n",
              "      <td>2.078370</td>\n",
              "      <td>1</td>\n",
              "      <td>2.460124</td>\n",
              "    </tr>\n",
              "    <tr>\n",
              "      <th>2013-11-04 00:10:00</th>\n",
              "      <td>1.875145</td>\n",
              "      <td>1</td>\n",
              "      <td>2.254538</td>\n",
              "    </tr>\n",
              "    <tr>\n",
              "      <th>2013-11-04 00:20:00</th>\n",
              "      <td>2.041676</td>\n",
              "      <td>1</td>\n",
              "      <td>2.175672</td>\n",
              "    </tr>\n",
              "    <tr>\n",
              "      <th>2013-11-04 00:30:00</th>\n",
              "      <td>1.905123</td>\n",
              "      <td>1</td>\n",
              "      <td>2.107950</td>\n",
              "    </tr>\n",
              "    <tr>\n",
              "      <th>2013-11-04 00:40:00</th>\n",
              "      <td>1.695281</td>\n",
              "      <td>1</td>\n",
              "      <td>2.101959</td>\n",
              "    </tr>\n",
              "    <tr>\n",
              "      <th>...</th>\n",
              "      <td>...</td>\n",
              "      <td>...</td>\n",
              "      <td>...</td>\n",
              "    </tr>\n",
              "    <tr>\n",
              "      <th>2013-12-29 23:10:00</th>\n",
              "      <td>2.001673</td>\n",
              "      <td>7</td>\n",
              "      <td>2.812190</td>\n",
              "    </tr>\n",
              "    <tr>\n",
              "      <th>2013-12-29 23:20:00</th>\n",
              "      <td>1.855094</td>\n",
              "      <td>7</td>\n",
              "      <td>2.815780</td>\n",
              "    </tr>\n",
              "    <tr>\n",
              "      <th>2013-12-29 23:30:00</th>\n",
              "      <td>1.895097</td>\n",
              "      <td>7</td>\n",
              "      <td>2.690723</td>\n",
              "    </tr>\n",
              "    <tr>\n",
              "      <th>2013-12-29 23:40:00</th>\n",
              "      <td>2.114866</td>\n",
              "      <td>7</td>\n",
              "      <td>2.585516</td>\n",
              "    </tr>\n",
              "    <tr>\n",
              "      <th>2013-12-29 23:50:00</th>\n",
              "      <td>1.288931</td>\n",
              "      <td>7</td>\n",
              "      <td>2.471772</td>\n",
              "    </tr>\n",
              "  </tbody>\n",
              "</table>\n",
              "<p>8064 rows × 3 columns</p>\n",
              "</div>\n",
              "      <button class=\"colab-df-convert\" onclick=\"convertToInteractive('df-d043927e-88ea-4fdf-9091-170f37f5824c')\"\n",
              "              title=\"Convert this dataframe to an interactive table.\"\n",
              "              style=\"display:none;\">\n",
              "        \n",
              "  <svg xmlns=\"http://www.w3.org/2000/svg\" height=\"24px\"viewBox=\"0 0 24 24\"\n",
              "       width=\"24px\">\n",
              "    <path d=\"M0 0h24v24H0V0z\" fill=\"none\"/>\n",
              "    <path d=\"M18.56 5.44l.94 2.06.94-2.06 2.06-.94-2.06-.94-.94-2.06-.94 2.06-2.06.94zm-11 1L8.5 8.5l.94-2.06 2.06-.94-2.06-.94L8.5 2.5l-.94 2.06-2.06.94zm10 10l.94 2.06.94-2.06 2.06-.94-2.06-.94-.94-2.06-.94 2.06-2.06.94z\"/><path d=\"M17.41 7.96l-1.37-1.37c-.4-.4-.92-.59-1.43-.59-.52 0-1.04.2-1.43.59L10.3 9.45l-7.72 7.72c-.78.78-.78 2.05 0 2.83L4 21.41c.39.39.9.59 1.41.59.51 0 1.02-.2 1.41-.59l7.78-7.78 2.81-2.81c.8-.78.8-2.07 0-2.86zM5.41 20L4 18.59l7.72-7.72 1.47 1.35L5.41 20z\"/>\n",
              "  </svg>\n",
              "      </button>\n",
              "      \n",
              "  <style>\n",
              "    .colab-df-container {\n",
              "      display:flex;\n",
              "      flex-wrap:wrap;\n",
              "      gap: 12px;\n",
              "    }\n",
              "\n",
              "    .colab-df-convert {\n",
              "      background-color: #E8F0FE;\n",
              "      border: none;\n",
              "      border-radius: 50%;\n",
              "      cursor: pointer;\n",
              "      display: none;\n",
              "      fill: #1967D2;\n",
              "      height: 32px;\n",
              "      padding: 0 0 0 0;\n",
              "      width: 32px;\n",
              "    }\n",
              "\n",
              "    .colab-df-convert:hover {\n",
              "      background-color: #E2EBFA;\n",
              "      box-shadow: 0px 1px 2px rgba(60, 64, 67, 0.3), 0px 1px 3px 1px rgba(60, 64, 67, 0.15);\n",
              "      fill: #174EA6;\n",
              "    }\n",
              "\n",
              "    [theme=dark] .colab-df-convert {\n",
              "      background-color: #3B4455;\n",
              "      fill: #D2E3FC;\n",
              "    }\n",
              "\n",
              "    [theme=dark] .colab-df-convert:hover {\n",
              "      background-color: #434B5C;\n",
              "      box-shadow: 0px 1px 3px 1px rgba(0, 0, 0, 0.15);\n",
              "      filter: drop-shadow(0px 1px 2px rgba(0, 0, 0, 0.3));\n",
              "      fill: #FFFFFF;\n",
              "    }\n",
              "  </style>\n",
              "\n",
              "      <script>\n",
              "        const buttonEl =\n",
              "          document.querySelector('#df-d043927e-88ea-4fdf-9091-170f37f5824c button.colab-df-convert');\n",
              "        buttonEl.style.display =\n",
              "          google.colab.kernel.accessAllowed ? 'block' : 'none';\n",
              "\n",
              "        async function convertToInteractive(key) {\n",
              "          const element = document.querySelector('#df-d043927e-88ea-4fdf-9091-170f37f5824c');\n",
              "          const dataTable =\n",
              "            await google.colab.kernel.invokeFunction('convertToInteractive',\n",
              "                                                     [key], {});\n",
              "          if (!dataTable) return;\n",
              "\n",
              "          const docLinkHtml = 'Like what you see? Visit the ' +\n",
              "            '<a target=\"_blank\" href=https://colab.research.google.com/notebooks/data_table.ipynb>data table notebook</a>'\n",
              "            + ' to learn more about interactive tables.';\n",
              "          element.innerHTML = '';\n",
              "          dataTable['output_type'] = 'display_data';\n",
              "          await google.colab.output.renderOutput(dataTable, element);\n",
              "          const docLink = document.createElement('div');\n",
              "          docLink.innerHTML = docLinkHtml;\n",
              "          element.appendChild(docLink);\n",
              "        }\n",
              "      </script>\n",
              "    </div>\n",
              "  </div>\n",
              "  "
            ]
          },
          "metadata": {},
          "execution_count": 15
        }
      ]
    },
    {
      "cell_type": "code",
      "source": [
        "timesteps = 145\n",
        "tr_len = 4032\n",
        "train = df4[v][:tr_len].values #6weeks\n",
        "train = train.reshape(len(train),1)\n",
        "test = df4[v][tr_len-timesteps+1:tr_len+144].values #1day\n",
        "test = test.reshape(len(test),1)\n",
        "print('Training data shape: ', train.shape)\n",
        "print('Test data shape: ', test.shape)"
      ],
      "metadata": {
        "colab": {
          "base_uri": "https://localhost:8080/"
        },
        "id": "PIIepDy9gwiX",
        "outputId": "88a1231f-b410-4465-97fc-c3372f4b5ba8"
      },
      "execution_count": null,
      "outputs": [
        {
          "output_type": "stream",
          "name": "stdout",
          "text": [
            "Training data shape:  (4032, 1)\n",
            "Test data shape:  (288, 1)\n"
          ]
        }
      ]
    },
    {
      "cell_type": "code",
      "source": [
        "from sklearn.preprocessing import MinMaxScaler\n",
        "scaler_1 = MinMaxScaler()\n",
        "train = scaler_1.fit_transform(train)\n",
        "test = scaler_1.transform(test)"
      ],
      "metadata": {
        "id": "FzRngIS-hFlW"
      },
      "execution_count": null,
      "outputs": []
    },
    {
      "cell_type": "code",
      "source": [],
      "metadata": {
        "id": "eP4yLG0yTZDx"
      },
      "execution_count": null,
      "outputs": []
    },
    {
      "cell_type": "code",
      "source": [
        "def train_test_set_setting(data,timesteps):\n",
        "  data_timesteps=np.array([[j for j in data[i:i+timesteps]] for i in range(0,len(data)-timesteps+1)])[:,:,0]\n",
        "  x, y = data_timesteps[:,:timesteps-1],data_timesteps[:,[timesteps-1]]\n",
        "  print(x.shape, y.shape)\n",
        "  return x,y"
      ],
      "metadata": {
        "id": "giukbUNMhVOK"
      },
      "execution_count": null,
      "outputs": []
    },
    {
      "cell_type": "code",
      "source": [
        "train_data = train\n",
        "test_data = test\n",
        "\n",
        "x_train, y_train = train_test_set_setting(train_data,timesteps)\n",
        "x_test, y_test = train_test_set_setting(test_data,timesteps)"
      ],
      "metadata": {
        "colab": {
          "base_uri": "https://localhost:8080/"
        },
        "id": "2eMrjtG_h8RE",
        "outputId": "67157e9d-ca36-4537-b882-60740ed4918d"
      },
      "execution_count": null,
      "outputs": [
        {
          "output_type": "stream",
          "name": "stdout",
          "text": [
            "(3888, 144) (3888, 1)\n",
            "(144, 144) (144, 1)\n"
          ]
        }
      ]
    },
    {
      "cell_type": "code",
      "source": [
        "a=np.array(df4['mean'][timesteps-1:tr_len])\n",
        "a=a.reshape(len(a),1)\n",
        "a=scaler_1.transform(a)\n",
        "x_train=np.concatenate((x_train, a), axis=1)\n",
        "x_train.shape"
      ],
      "metadata": {
        "colab": {
          "base_uri": "https://localhost:8080/"
        },
        "id": "b_2POYNm5k5S",
        "outputId": "5e9b2167-455a-4e22-9bb1-f491a7e27c16"
      },
      "execution_count": null,
      "outputs": [
        {
          "output_type": "execute_result",
          "data": {
            "text/plain": [
              "(3888, 145)"
            ]
          },
          "metadata": {},
          "execution_count": 22
        }
      ]
    },
    {
      "cell_type": "code",
      "source": [
        "b=np.array(df4['mean'][tr_len-144:tr_len])\n",
        "b=b.reshape(len(b),1)\n",
        "b=scaler_1.transform(b)\n",
        "b.shape\n",
        "x_test=np.concatenate((x_test, b), axis=1)\n",
        "x_test.shape"
      ],
      "metadata": {
        "colab": {
          "base_uri": "https://localhost:8080/"
        },
        "id": "iDoEusCCEox4",
        "outputId": "4b323dab-aac1-43e0-fe10-09a9f37b58ff"
      },
      "execution_count": null,
      "outputs": [
        {
          "output_type": "execute_result",
          "data": {
            "text/plain": [
              "(144, 145)"
            ]
          },
          "metadata": {},
          "execution_count": 23
        }
      ]
    },
    {
      "cell_type": "code",
      "source": [
        "b.shape"
      ],
      "metadata": {
        "colab": {
          "base_uri": "https://localhost:8080/"
        },
        "id": "SGwLtEojTDQG",
        "outputId": "7c22b9af-2135-49b2-da76-e38264469831"
      },
      "execution_count": null,
      "outputs": [
        {
          "output_type": "execute_result",
          "data": {
            "text/plain": [
              "(144, 1)"
            ]
          },
          "metadata": {},
          "execution_count": 24
        }
      ]
    },
    {
      "cell_type": "code",
      "source": [
        "from sklearn.svm import SVR\n",
        "from sklearn.preprocessing import MinMaxScaler\n",
        "\n",
        "grid = SVR(kernel='rbf',gamma=1, C=10000, epsilon = 0.01)\n",
        "grid.fit(x_train, y_train)"
      ],
      "metadata": {
        "colab": {
          "base_uri": "https://localhost:8080/"
        },
        "id": "Zr3XqyrAiZEW",
        "outputId": "bfdb7fcf-d07a-48dd-ccb1-56b4162ec2d2"
      },
      "execution_count": null,
      "outputs": [
        {
          "output_type": "execute_result",
          "data": {
            "text/plain": [
              "SVR(C=10000, epsilon=0.01, gamma=1)"
            ]
          },
          "metadata": {},
          "execution_count": 25
        }
      ]
    },
    {
      "cell_type": "code",
      "source": [
        "y_test_pred = grid.predict(x_test)\n",
        "y_test_pred = y_test_pred.reshape(-1,1) \n",
        "\n",
        "test_timestamps = df4[tr_len:tr_len+144].index"
      ],
      "metadata": {
        "id": "w1bqUmQxkhiQ"
      },
      "execution_count": null,
      "outputs": []
    },
    {
      "cell_type": "code",
      "source": [
        "y_test = scaler_1.inverse_transform(y_test)\n",
        "y_test_pred = scaler_1.inverse_transform(y_test_pred)"
      ],
      "metadata": {
        "id": "HACqRIUykoNq"
      },
      "execution_count": null,
      "outputs": []
    },
    {
      "cell_type": "code",
      "source": [
        "plt.figure(figsize=(25,10))\n",
        "plt.plot(test_timestamps, y_test, color = 'red', linewidth=2.0, alpha = 0.6)\n",
        "plt.plot(test_timestamps, y_test_pred, color = 'blue', linewidth=0.8)\n",
        "plt.legend(['Actual','Predicted'])\n",
        "plt.xlabel('Timestamp')\n",
        "plt.title(\"Test data prediction\")\n",
        "plt.show()"
      ],
      "metadata": {
        "colab": {
          "base_uri": "https://localhost:8080/",
          "height": 621
        },
        "id": "anJ2crzGlMNL",
        "outputId": "c4578d29-762d-4dcc-8ad2-4a8d609290ae"
      },
      "execution_count": null,
      "outputs": [
        {
          "output_type": "display_data",
          "data": {
            "text/plain": [
              "<Figure size 1800x720 with 1 Axes>"
            ],
            "image/png": "[encoded data removed]"
          },
          "metadata": {
            "needs_background": "light"
          }
        }
      ]
    },
    {
      "cell_type": "code",
      "source": [
        "predictions=pd.DataFrame(y_test_pred)\n",
        "predictions.set_index(test_timestamps,inplace=True)\n",
        "predictions['actual']=y_test\n",
        "predictions.columns = ['prediction', 'actual']\n",
        "predictions"
      ],
      "metadata": {
        "colab": {
          "base_uri": "https://localhost:8080/",
          "height": 455
        },
        "id": "zariKDn0lO3w",
        "outputId": "c32388a1-e898-44d3-cecc-18aea3c37cf0"
      },
      "execution_count": null,
      "outputs": [
        {
          "output_type": "execute_result",
          "data": {
            "text/plain": [
              "                     prediction    actual\n",
              "1                                        \n",
              "2013-12-02 00:00:00    3.294514  1.425484\n",
              "2013-12-02 00:10:00    3.703536  2.374637\n",
              "2013-12-02 00:20:00    1.354546  2.008290\n",
              "2013-12-02 00:30:00    0.183486  1.565345\n",
              "2013-12-02 00:40:00    3.322671  2.268062\n",
              "...                         ...       ...\n",
              "2013-12-02 23:10:00    5.022628  4.148633\n",
              "2013-12-02 23:20:00    3.948801  3.423748\n",
              "2013-12-02 23:30:00    3.733916  2.601122\n",
              "2013-12-02 23:40:00    3.119856  2.724341\n",
              "2013-12-02 23:50:00    3.318513  3.397080\n",
              "\n",
              "[144 rows x 2 columns]"
            ],
            "text/html": [
              "\n",
              "  <div id=\"df-19aadb15-dd9d-45b0-962f-103b932d349e\">\n",
              "    <div class=\"colab-df-container\">\n",
              "      <div>\n",
              "<style scoped>\n",
              "    .dataframe tbody tr th:only-of-type {\n",
              "        vertical-align: middle;\n",
              "    }\n",
              "\n",
              "    .dataframe tbody tr th {\n",
              "        vertical-align: top;\n",
              "    }\n",
              "\n",
              "    .dataframe thead th {\n",
              "        text-align: right;\n",
              "    }\n",
              "</style>\n",
              "<table border=\"1\" class=\"dataframe\">\n",
              "  <thead>\n",
              "    <tr style=\"text-align: right;\">\n",
              "      <th></th>\n",
              "      <th>prediction</th>\n",
              "      <th>actual</th>\n",
              "    </tr>\n",
              "    <tr>\n",
              "      <th>1</th>\n",
              "      <th></th>\n",
              "      <th></th>\n",
              "    </tr>\n",
              "  </thead>\n",
              "  <tbody>\n",
              "    <tr>\n",
              "      <th>2013-12-02 00:00:00</th>\n",
              "      <td>3.294514</td>\n",
              "      <td>1.425484</td>\n",
              "    </tr>\n",
              "    <tr>\n",
              "      <th>2013-12-02 00:10:00</th>\n",
              "      <td>3.703536</td>\n",
              "      <td>2.374637</td>\n",
              "    </tr>\n",
              "    <tr>\n",
              "      <th>2013-12-02 00:20:00</th>\n",
              "      <td>1.354546</td>\n",
              "      <td>2.008290</td>\n",
              "    </tr>\n",
              "    <tr>\n",
              "      <th>2013-12-02 00:30:00</th>\n",
              "      <td>0.183486</td>\n",
              "      <td>1.565345</td>\n",
              "    </tr>\n",
              "    <tr>\n",
              "      <th>2013-12-02 00:40:00</th>\n",
              "      <td>3.322671</td>\n",
              "      <td>2.268062</td>\n",
              "    </tr>\n",
              "    <tr>\n",
              "      <th>...</th>\n",
              "      <td>...</td>\n",
              "      <td>...</td>\n",
              "    </tr>\n",
              "    <tr>\n",
              "      <th>2013-12-02 23:10:00</th>\n",
              "      <td>5.022628</td>\n",
              "      <td>4.148633</td>\n",
              "    </tr>\n",
              "    <tr>\n",
              "      <th>2013-12-02 23:20:00</th>\n",
              "      <td>3.948801</td>\n",
              "      <td>3.423748</td>\n",
              "    </tr>\n",
              "    <tr>\n",
              "      <th>2013-12-02 23:30:00</th>\n",
              "      <td>3.733916</td>\n",
              "      <td>2.601122</td>\n",
              "    </tr>\n",
              "    <tr>\n",
              "      <th>2013-12-02 23:40:00</th>\n",
              "      <td>3.119856</td>\n",
              "      <td>2.724341</td>\n",
              "    </tr>\n",
              "    <tr>\n",
              "      <th>2013-12-02 23:50:00</th>\n",
              "      <td>3.318513</td>\n",
              "      <td>3.397080</td>\n",
              "    </tr>\n",
              "  </tbody>\n",
              "</table>\n",
              "<p>144 rows × 2 columns</p>\n",
              "</div>\n",
              "      <button class=\"colab-df-convert\" onclick=\"convertToInteractive('df-19aadb15-dd9d-45b0-962f-103b932d349e')\"\n",
              "              title=\"Convert this dataframe to an interactive table.\"\n",
              "              style=\"display:none;\">\n",
              "        \n",
              "  <svg xmlns=\"http://www.w3.org/2000/svg\" height=\"24px\"viewBox=\"0 0 24 24\"\n",
              "       width=\"24px\">\n",
              "    <path d=\"M0 0h24v24H0V0z\" fill=\"none\"/>\n",
              "    <path d=\"M18.56 5.44l.94 2.06.94-2.06 2.06-.94-2.06-.94-.94-2.06-.94 2.06-2.06.94zm-11 1L8.5 8.5l.94-2.06 2.06-.94-2.06-.94L8.5 2.5l-.94 2.06-2.06.94zm10 10l.94 2.06.94-2.06 2.06-.94-2.06-.94-.94-2.06-.94 2.06-2.06.94z\"/><path d=\"M17.41 7.96l-1.37-1.37c-.4-.4-.92-.59-1.43-.59-.52 0-1.04.2-1.43.59L10.3 9.45l-7.72 7.72c-.78.78-.78 2.05 0 2.83L4 21.41c.39.39.9.59 1.41.59.51 0 1.02-.2 1.41-.59l7.78-7.78 2.81-2.81c.8-.78.8-2.07 0-2.86zM5.41 20L4 18.59l7.72-7.72 1.47 1.35L5.41 20z\"/>\n",
              "  </svg>\n",
              "      </button>\n",
              "      \n",
              "  <style>\n",
              "    .colab-df-container {\n",
              "      display:flex;\n",
              "      flex-wrap:wrap;\n",
              "      gap: 12px;\n",
              "    }\n",
              "\n",
              "    .colab-df-convert {\n",
              "      background-color: #E8F0FE;\n",
              "      border: none;\n",
              "      border-radius: 50%;\n",
              "      cursor: pointer;\n",
              "      display: none;\n",
              "      fill: #1967D2;\n",
              "      height: 32px;\n",
              "      padding: 0 0 0 0;\n",
              "      width: 32px;\n",
              "    }\n",
              "\n",
              "    .colab-df-convert:hover {\n",
              "      background-color: #E2EBFA;\n",
              "      box-shadow: 0px 1px 2px rgba(60, 64, 67, 0.3), 0px 1px 3px 1px rgba(60, 64, 67, 0.15);\n",
              "      fill: #174EA6;\n",
              "    }\n",
              "\n",
              "    [theme=dark] .colab-df-convert {\n",
              "      background-color: #3B4455;\n",
              "      fill: #D2E3FC;\n",
              "    }\n",
              "\n",
              "    [theme=dark] .colab-df-convert:hover {\n",
              "      background-color: #434B5C;\n",
              "      box-shadow: 0px 1px 3px 1px rgba(0, 0, 0, 0.15);\n",
              "      filter: drop-shadow(0px 1px 2px rgba(0, 0, 0, 0.3));\n",
              "      fill: #FFFFFF;\n",
              "    }\n",
              "  </style>\n",
              "\n",
              "      <script>\n",
              "        const buttonEl =\n",
              "          document.querySelector('#df-19aadb15-dd9d-45b0-962f-103b932d349e button.colab-df-convert');\n",
              "        buttonEl.style.display =\n",
              "          google.colab.kernel.accessAllowed ? 'block' : 'none';\n",
              "\n",
              "        async function convertToInteractive(key) {\n",
              "          const element = document.querySelector('#df-19aadb15-dd9d-45b0-962f-103b932d349e');\n",
              "          const dataTable =\n",
              "            await google.colab.kernel.invokeFunction('convertToInteractive',\n",
              "                                                     [key], {});\n",
              "          if (!dataTable) return;\n",
              "\n",
              "          const docLinkHtml = 'Like what you see? Visit the ' +\n",
              "            '<a target=\"_blank\" href=https://colab.research.google.com/notebooks/data_table.ipynb>data table notebook</a>'\n",
              "            + ' to learn more about interactive tables.';\n",
              "          element.innerHTML = '';\n",
              "          dataTable['output_type'] = 'display_data';\n",
              "          await google.colab.output.renderOutput(dataTable, element);\n",
              "          const docLink = document.createElement('div');\n",
              "          docLink.innerHTML = docLinkHtml;\n",
              "          element.appendChild(docLink);\n",
              "        }\n",
              "      </script>\n",
              "    </div>\n",
              "  </div>\n",
              "  "
            ]
          },
          "metadata": {},
          "execution_count": 70
        }
      ]
    },
    {
      "cell_type": "code",
      "source": [
        "import sklearn\n",
        "from sklearn.metrics import mean_absolute_percentage_error\n",
        "print('MAPE for testing data: ', mean_absolute_percentage_error(y_test,y_test_pred)*100, '%')"
      ],
      "metadata": {
        "colab": {
          "base_uri": "https://localhost:8080/"
        },
        "id": "IxPytribyQQl",
        "outputId": "1612cc62-f96a-4487-ce2a-b4d543eccbc5"
      },
      "execution_count": null,
      "outputs": [
        {
          "output_type": "stream",
          "name": "stdout",
          "text": [
            "MAPE for testing data:  24.837172022157084 %\n"
          ]
        }
      ]
    },
    {
      "cell_type": "code",
      "source": [
        "from sklearn.metrics import mean_squared_error,mean_absolute_error \n",
        "mae=mean_absolute_error(y_test,y_test_pred)\n",
        "mse=mean_squared_error(y_test,y_test_pred)\n",
        "rmse=np.sqrt(mse)\n",
        "\n",
        "print('mae =', mae) #mean absolute error\n",
        "print('mse  =', mse) #mean square error\n",
        "print('rmse =', rmse)"
      ],
      "metadata": {
        "colab": {
          "base_uri": "https://localhost:8080/"
        },
        "id": "3qmQBveUQYSt",
        "outputId": "9d8a70d5-87c6-43a9-f347-ebd30529e1b0"
      },
      "execution_count": null,
      "outputs": [
        {
          "output_type": "stream",
          "name": "stdout",
          "text": [
            "mae = 1.4941644315101736\n",
            "mse  = 6.175514558153351\n",
            "rmse = 2.485058260514902\n"
          ]
        }
      ]
    },
    {
      "cell_type": "markdown",
      "source": [
        "## **model without mean feature**"
      ],
      "metadata": {
        "id": "aq3hWRS-lYmD"
      }
    },
    {
      "cell_type": "code",
      "source": [
        "b = pd.DataFrame(df1[438:8502])\n",
        "what_day = []\n",
        "for i in range(8):\n",
        "  for j in range (7):\n",
        "    for k in range(144):\n",
        "      what_day.append(j+1)           #  [1=monday,2=tuesday,3=wednesday,4=thurseday,5=friday,6=saturday,7=sunday]\n",
        "\n",
        "b['date_no'] = what_day \n",
        "#same v as above mentioned                        #___________________________________________________________________cell selection\n",
        "df4 = b[[v , 'date_no']]\n",
        "df4"
      ],
      "metadata": {
        "colab": {
          "base_uri": "https://localhost:8080/",
          "height": 455
        },
        "id": "gsxl2RqAHe5y",
        "outputId": "d5a543a6-9b73-4720-d4ec-9e3dad250448"
      },
      "execution_count": null,
      "outputs": [
        {
          "output_type": "execute_result",
          "data": {
            "text/plain": [
              "                           89  date_no\n",
              "1                                     \n",
              "2013-11-04 00:00:00  2.078370        1\n",
              "2013-11-04 00:10:00  1.875145        1\n",
              "2013-11-04 00:20:00  2.041676        1\n",
              "2013-11-04 00:30:00  1.905123        1\n",
              "2013-11-04 00:40:00  1.695281        1\n",
              "...                       ...      ...\n",
              "2013-12-29 23:10:00  2.001673        7\n",
              "2013-12-29 23:20:00  1.855094        7\n",
              "2013-12-29 23:30:00  1.895097        7\n",
              "2013-12-29 23:40:00  2.114866        7\n",
              "2013-12-29 23:50:00  1.288931        7\n",
              "\n",
              "[8064 rows x 2 columns]"
            ],
            "text/html": [
              "\n",
              "  <div id=\"df-ba7326e5-701f-456c-9258-1b65f637ca8f\">\n",
              "    <div class=\"colab-df-container\">\n",
              "      <div>\n",
              "<style scoped>\n",
              "    .dataframe tbody tr th:only-of-type {\n",
              "        vertical-align: middle;\n",
              "    }\n",
              "\n",
              "    .dataframe tbody tr th {\n",
              "        vertical-align: top;\n",
              "    }\n",
              "\n",
              "    .dataframe thead th {\n",
              "        text-align: right;\n",
              "    }\n",
              "</style>\n",
              "<table border=\"1\" class=\"dataframe\">\n",
              "  <thead>\n",
              "    <tr style=\"text-align: right;\">\n",
              "      <th></th>\n",
              "      <th>89</th>\n",
              "      <th>date_no</th>\n",
              "    </tr>\n",
              "    <tr>\n",
              "      <th>1</th>\n",
              "      <th></th>\n",
              "      <th></th>\n",
              "    </tr>\n",
              "  </thead>\n",
              "  <tbody>\n",
              "    <tr>\n",
              "      <th>2013-11-04 00:00:00</th>\n",
              "      <td>2.078370</td>\n",
              "      <td>1</td>\n",
              "    </tr>\n",
              "    <tr>\n",
              "      <th>2013-11-04 00:10:00</th>\n",
              "      <td>1.875145</td>\n",
              "      <td>1</td>\n",
              "    </tr>\n",
              "    <tr>\n",
              "      <th>2013-11-04 00:20:00</th>\n",
              "      <td>2.041676</td>\n",
              "      <td>1</td>\n",
              "    </tr>\n",
              "    <tr>\n",
              "      <th>2013-11-04 00:30:00</th>\n",
              "      <td>1.905123</td>\n",
              "      <td>1</td>\n",
              "    </tr>\n",
              "    <tr>\n",
              "      <th>2013-11-04 00:40:00</th>\n",
              "      <td>1.695281</td>\n",
              "      <td>1</td>\n",
              "    </tr>\n",
              "    <tr>\n",
              "      <th>...</th>\n",
              "      <td>...</td>\n",
              "      <td>...</td>\n",
              "    </tr>\n",
              "    <tr>\n",
              "      <th>2013-12-29 23:10:00</th>\n",
              "      <td>2.001673</td>\n",
              "      <td>7</td>\n",
              "    </tr>\n",
              "    <tr>\n",
              "      <th>2013-12-29 23:20:00</th>\n",
              "      <td>1.855094</td>\n",
              "      <td>7</td>\n",
              "    </tr>\n",
              "    <tr>\n",
              "      <th>2013-12-29 23:30:00</th>\n",
              "      <td>1.895097</td>\n",
              "      <td>7</td>\n",
              "    </tr>\n",
              "    <tr>\n",
              "      <th>2013-12-29 23:40:00</th>\n",
              "      <td>2.114866</td>\n",
              "      <td>7</td>\n",
              "    </tr>\n",
              "    <tr>\n",
              "      <th>2013-12-29 23:50:00</th>\n",
              "      <td>1.288931</td>\n",
              "      <td>7</td>\n",
              "    </tr>\n",
              "  </tbody>\n",
              "</table>\n",
              "<p>8064 rows × 2 columns</p>\n",
              "</div>\n",
              "      <button class=\"colab-df-convert\" onclick=\"convertToInteractive('df-ba7326e5-701f-456c-9258-1b65f637ca8f')\"\n",
              "              title=\"Convert this dataframe to an interactive table.\"\n",
              "              style=\"display:none;\">\n",
              "        \n",
              "  <svg xmlns=\"http://www.w3.org/2000/svg\" height=\"24px\"viewBox=\"0 0 24 24\"\n",
              "       width=\"24px\">\n",
              "    <path d=\"M0 0h24v24H0V0z\" fill=\"none\"/>\n",
              "    <path d=\"M18.56 5.44l.94 2.06.94-2.06 2.06-.94-2.06-.94-.94-2.06-.94 2.06-2.06.94zm-11 1L8.5 8.5l.94-2.06 2.06-.94-2.06-.94L8.5 2.5l-.94 2.06-2.06.94zm10 10l.94 2.06.94-2.06 2.06-.94-2.06-.94-.94-2.06-.94 2.06-2.06.94z\"/><path d=\"M17.41 7.96l-1.37-1.37c-.4-.4-.92-.59-1.43-.59-.52 0-1.04.2-1.43.59L10.3 9.45l-7.72 7.72c-.78.78-.78 2.05 0 2.83L4 21.41c.39.39.9.59 1.41.59.51 0 1.02-.2 1.41-.59l7.78-7.78 2.81-2.81c.8-.78.8-2.07 0-2.86zM5.41 20L4 18.59l7.72-7.72 1.47 1.35L5.41 20z\"/>\n",
              "  </svg>\n",
              "      </button>\n",
              "      \n",
              "  <style>\n",
              "    .colab-df-container {\n",
              "      display:flex;\n",
              "      flex-wrap:wrap;\n",
              "      gap: 12px;\n",
              "    }\n",
              "\n",
              "    .colab-df-convert {\n",
              "      background-color: #E8F0FE;\n",
              "      border: none;\n",
              "      border-radius: 50%;\n",
              "      cursor: pointer;\n",
              "      display: none;\n",
              "      fill: #1967D2;\n",
              "      height: 32px;\n",
              "      padding: 0 0 0 0;\n",
              "      width: 32px;\n",
              "    }\n",
              "\n",
              "    .colab-df-convert:hover {\n",
              "      background-color: #E2EBFA;\n",
              "      box-shadow: 0px 1px 2px rgba(60, 64, 67, 0.3), 0px 1px 3px 1px rgba(60, 64, 67, 0.15);\n",
              "      fill: #174EA6;\n",
              "    }\n",
              "\n",
              "    [theme=dark] .colab-df-convert {\n",
              "      background-color: #3B4455;\n",
              "      fill: #D2E3FC;\n",
              "    }\n",
              "\n",
              "    [theme=dark] .colab-df-convert:hover {\n",
              "      background-color: #434B5C;\n",
              "      box-shadow: 0px 1px 3px 1px rgba(0, 0, 0, 0.15);\n",
              "      filter: drop-shadow(0px 1px 2px rgba(0, 0, 0, 0.3));\n",
              "      fill: #FFFFFF;\n",
              "    }\n",
              "  </style>\n",
              "\n",
              "      <script>\n",
              "        const buttonEl =\n",
              "          document.querySelector('#df-ba7326e5-701f-456c-9258-1b65f637ca8f button.colab-df-convert');\n",
              "        buttonEl.style.display =\n",
              "          google.colab.kernel.accessAllowed ? 'block' : 'none';\n",
              "\n",
              "        async function convertToInteractive(key) {\n",
              "          const element = document.querySelector('#df-ba7326e5-701f-456c-9258-1b65f637ca8f');\n",
              "          const dataTable =\n",
              "            await google.colab.kernel.invokeFunction('convertToInteractive',\n",
              "                                                     [key], {});\n",
              "          if (!dataTable) return;\n",
              "\n",
              "          const docLinkHtml = 'Like what you see? Visit the ' +\n",
              "            '<a target=\"_blank\" href=https://colab.research.google.com/notebooks/data_table.ipynb>data table notebook</a>'\n",
              "            + ' to learn more about interactive tables.';\n",
              "          element.innerHTML = '';\n",
              "          dataTable['output_type'] = 'display_data';\n",
              "          await google.colab.output.renderOutput(dataTable, element);\n",
              "          const docLink = document.createElement('div');\n",
              "          docLink.innerHTML = docLinkHtml;\n",
              "          element.appendChild(docLink);\n",
              "        }\n",
              "      </script>\n",
              "    </div>\n",
              "  </div>\n",
              "  "
            ]
          },
          "metadata": {},
          "execution_count": 73
        }
      ]
    },
    {
      "cell_type": "code",
      "source": [
        "#timesteps is the sam\n",
        "#tr_len is the same\n",
        "train = df4[v][:tr_len].values #6weeks\n",
        "train = train.reshape(len(train),1)\n",
        "test = df4[v][tr_len-timesteps+1:tr_len+144].values #1day\n",
        "test = test.reshape(len(test),1)\n",
        "print('Training data shape: ', train.shape)\n",
        "print('Test data shape: ', test.shape)"
      ],
      "metadata": {
        "colab": {
          "base_uri": "https://localhost:8080/"
        },
        "id": "ViJmUKZ4H9JT",
        "outputId": "c12cfeef-2486-4902-ce46-b411a1655ccc"
      },
      "execution_count": null,
      "outputs": [
        {
          "output_type": "stream",
          "name": "stdout",
          "text": [
            "Training data shape:  (4032, 1)\n",
            "Test data shape:  (288, 1)\n"
          ]
        }
      ]
    },
    {
      "cell_type": "code",
      "source": [
        "from sklearn.preprocessing import MinMaxScaler\n",
        "scaler_1 = MinMaxScaler()\n",
        "train = scaler_1.fit_transform(train)\n",
        "test = scaler_1.transform(test)"
      ],
      "metadata": {
        "id": "EME0flveIDR-"
      },
      "execution_count": null,
      "outputs": []
    },
    {
      "cell_type": "code",
      "source": [
        "train_data = train\n",
        "test_data = test\n",
        "\n",
        "x_train, y_train = train_test_set_setting(train_data,timesteps)\n",
        "x_test, y_test = train_test_set_setting(test_data,timesteps)"
      ],
      "metadata": {
        "colab": {
          "base_uri": "https://localhost:8080/"
        },
        "id": "eDigrq9-IIxp",
        "outputId": "f8486592-ccf1-4ca8-ecc1-c1d7f2bc6b20"
      },
      "execution_count": null,
      "outputs": [
        {
          "output_type": "stream",
          "name": "stdout",
          "text": [
            "(3888, 144) (3888, 1)\n",
            "(144, 144) (144, 1)\n"
          ]
        }
      ]
    },
    {
      "cell_type": "code",
      "source": [
        "from sklearn.svm import SVR\n",
        "from sklearn.preprocessing import MinMaxScaler\n",
        "\n",
        "grid = SVR(kernel='rbf',gamma=1, C=10000, epsilon = 0.01)\n",
        "grid.fit(x_train, y_train)"
      ],
      "metadata": {
        "colab": {
          "base_uri": "https://localhost:8080/"
        },
        "id": "ncFoHYkJIRUr",
        "outputId": "7862dea9-4359-447d-dd11-3fe4133738c5"
      },
      "execution_count": null,
      "outputs": [
        {
          "output_type": "execute_result",
          "data": {
            "text/plain": [
              "SVR(C=10000, epsilon=0.01, gamma=1)"
            ]
          },
          "metadata": {},
          "execution_count": 77
        }
      ]
    },
    {
      "cell_type": "code",
      "source": [
        "y_test_pred = grid.predict(x_test)\n",
        "y_test_pred = y_test_pred.reshape(-1,1) \n",
        "\n",
        "test_timestamps = df4[tr_len:tr_len+144].index"
      ],
      "metadata": {
        "id": "GIIwTaomIVXP"
      },
      "execution_count": null,
      "outputs": []
    },
    {
      "cell_type": "code",
      "source": [
        "y_test = scaler_1.inverse_transform(y_test)\n",
        "y_test_pred = scaler_1.inverse_transform(y_test_pred)"
      ],
      "metadata": {
        "id": "rRliLSduIZQH"
      },
      "execution_count": null,
      "outputs": []
    },
    {
      "cell_type": "code",
      "source": [
        "plt.figure(figsize=(25,10))\n",
        "plt.plot(test_timestamps, y_test, color = 'red', linewidth=2.0, alpha = 0.6)\n",
        "plt.plot(test_timestamps, y_test_pred, color = 'blue', linewidth=0.8)\n",
        "plt.legend(['Actual','Predicted'])\n",
        "plt.xlabel('Timestamp')\n",
        "plt.title(\"Test data prediction\")\n",
        "plt.show()"
      ],
      "metadata": {
        "colab": {
          "base_uri": "https://localhost:8080/",
          "height": 615
        },
        "id": "B-2FTluhIdn2",
        "outputId": "0a594f15-bfbb-469c-b626-0f5c0f20b2e6"
      },
      "execution_count": null,
      "outputs": [
        {
          "output_type": "display_data",
          "data": {
            "text/plain": [
              "<Figure size 1800x720 with 1 Axes>"
            ],
            "image/png": "[encoded data removed]"
          },
          "metadata": {
            "needs_background": "light"
          }
        }
      ]
    },
    {
      "cell_type": "code",
      "source": [
        "import sklearn\n",
        "from sklearn.metrics import mean_absolute_percentage_error\n",
        "print('MAPE for testing data: ', mean_absolute_percentage_error(y_test,y_test_pred)*100, '%')"
      ],
      "metadata": {
        "colab": {
          "base_uri": "https://localhost:8080/"
        },
        "id": "TQFC7AmKIinK",
        "outputId": "a86a6596-04e8-489a-fd7a-8dd524a412b7"
      },
      "execution_count": null,
      "outputs": [
        {
          "output_type": "stream",
          "name": "stdout",
          "text": [
            "MAPE for testing data:  25.41060045843706 %\n"
          ]
        }
      ]
    },
    {
      "cell_type": "code",
      "source": [
        "from sklearn.metrics import mean_squared_error,mean_absolute_error \n",
        "mae=mean_absolute_error(y_test,y_test_pred)\n",
        "mse=mean_squared_error(y_test,y_test_pred)\n",
        "rmse=np.sqrt(mse)\n",
        "\n",
        "print('mae =', mae) #mean absolute error\n",
        "print('mse  =', mse) #mean square error\n",
        "print('rmse =', rmse)"
      ],
      "metadata": {
        "colab": {
          "base_uri": "https://localhost:8080/"
        },
        "id": "gGv9mWigQBtH",
        "outputId": "e98b6001-4621-42d6-a663-66d58a11882a"
      },
      "execution_count": null,
      "outputs": [
        {
          "output_type": "stream",
          "name": "stdout",
          "text": [
            "mae = 1.5192035906069339\n",
            "mse  = 6.293984603138135\n",
            "rmse = 2.5087814976873006\n"
          ]
        }
      ]
    },
    {
      "cell_type": "markdown",
      "source": [
        "## **model 3**"
      ],
      "metadata": {
        "id": "pzhtUKNLHf77"
      }
    },
    {
      "cell_type": "code",
      "source": [
        "days=[]\n",
        "\n",
        "mean=[]\n",
        "for j in range(144):\n",
        "  loop=[]\n",
        "  for i in range(8): # 56 days\n",
        "    z=df4[v][(i*1008)+j:1+(i*1008)+j][0]\n",
        "    loop.append(z)\n",
        "  days.append(loop)\n",
        "\n",
        "df5=pd.DataFrame(np.array(days))\n",
        "df5"
      ],
      "metadata": {
        "colab": {
          "base_uri": "https://localhost:8080/",
          "height": 424
        },
        "id": "Yv8f56ASlbyI",
        "outputId": "5af47c17-29a4-4acf-e9ab-e1fd08188398"
      },
      "execution_count": null,
      "outputs": [
        {
          "output_type": "execute_result",
          "data": {
            "text/plain": [
              "            0         1         2         3         4         5         6  \\\n",
              "0    2.078370  1.198998  1.335551  1.991647  1.425484  1.468795  1.898406   \n",
              "1    1.875145  0.985848  4.413202  1.438818  2.374637  1.705207  1.258953   \n",
              "2    2.041676  1.258953  1.305574  0.905941  2.008290  1.785213  1.731876   \n",
              "3    1.905123  1.075780  1.412149  1.335551  1.565345  1.225667  1.838451   \n",
              "4    1.695281  1.825117  1.625300  1.055828  2.268062  2.024933  1.169021   \n",
              "..        ...       ...       ...       ...       ...       ...       ...   \n",
              "139  2.667794  1.948335  2.997447  3.656851  4.148633  3.497236  3.796911   \n",
              "140  2.974186  2.581170  2.101531  2.870919  3.423748  3.789003  2.614556   \n",
              "141  2.857585  3.840024  2.038268  2.597813  2.601122  2.880945  2.427974   \n",
              "142  3.207289  2.597813  1.455461  3.123974  2.724341  2.564527  1.878454   \n",
              "143  1.991647  2.711006  1.931692  2.298039  3.397080  3.280578  1.668612   \n",
              "\n",
              "            7  \n",
              "0    2.477904  \n",
              "1    1.575371  \n",
              "2    1.638635  \n",
              "3    1.092423  \n",
              "4    1.871737  \n",
              "..        ...  \n",
              "139  1.611966  \n",
              "140  2.554502  \n",
              "141  2.008290  \n",
              "142  1.765162  \n",
              "143  2.184846  \n",
              "\n",
              "[144 rows x 8 columns]"
            ],
            "text/html": [
              "\n",
              "  <div id=\"df-a6c3aca4-f0ba-4c5b-9ea5-bd08c16536b9\">\n",
              "    <div class=\"colab-df-container\">\n",
              "      <div>\n",
              "<style scoped>\n",
              "    .dataframe tbody tr th:only-of-type {\n",
              "        vertical-align: middle;\n",
              "    }\n",
              "\n",
              "    .dataframe tbody tr th {\n",
              "        vertical-align: top;\n",
              "    }\n",
              "\n",
              "    .dataframe thead th {\n",
              "        text-align: right;\n",
              "    }\n",
              "</style>\n",
              "<table border=\"1\" class=\"dataframe\">\n",
              "  <thead>\n",
              "    <tr style=\"text-align: right;\">\n",
              "      <th></th>\n",
              "      <th>0</th>\n",
              "      <th>1</th>\n",
              "      <th>2</th>\n",
              "      <th>3</th>\n",
              "      <th>4</th>\n",
              "      <th>5</th>\n",
              "      <th>6</th>\n",
              "      <th>7</th>\n",
              "    </tr>\n",
              "  </thead>\n",
              "  <tbody>\n",
              "    <tr>\n",
              "      <th>0</th>\n",
              "      <td>2.078370</td>\n",
              "      <td>1.198998</td>\n",
              "      <td>1.335551</td>\n",
              "      <td>1.991647</td>\n",
              "      <td>1.425484</td>\n",
              "      <td>1.468795</td>\n",
              "      <td>1.898406</td>\n",
              "      <td>2.477904</td>\n",
              "    </tr>\n",
              "    <tr>\n",
              "      <th>1</th>\n",
              "      <td>1.875145</td>\n",
              "      <td>0.985848</td>\n",
              "      <td>4.413202</td>\n",
              "      <td>1.438818</td>\n",
              "      <td>2.374637</td>\n",
              "      <td>1.705207</td>\n",
              "      <td>1.258953</td>\n",
              "      <td>1.575371</td>\n",
              "    </tr>\n",
              "    <tr>\n",
              "      <th>2</th>\n",
              "      <td>2.041676</td>\n",
              "      <td>1.258953</td>\n",
              "      <td>1.305574</td>\n",
              "      <td>0.905941</td>\n",
              "      <td>2.008290</td>\n",
              "      <td>1.785213</td>\n",
              "      <td>1.731876</td>\n",
              "      <td>1.638635</td>\n",
              "    </tr>\n",
              "    <tr>\n",
              "      <th>3</th>\n",
              "      <td>1.905123</td>\n",
              "      <td>1.075780</td>\n",
              "      <td>1.412149</td>\n",
              "      <td>1.335551</td>\n",
              "      <td>1.565345</td>\n",
              "      <td>1.225667</td>\n",
              "      <td>1.838451</td>\n",
              "      <td>1.092423</td>\n",
              "    </tr>\n",
              "    <tr>\n",
              "      <th>4</th>\n",
              "      <td>1.695281</td>\n",
              "      <td>1.825117</td>\n",
              "      <td>1.625300</td>\n",
              "      <td>1.055828</td>\n",
              "      <td>2.268062</td>\n",
              "      <td>2.024933</td>\n",
              "      <td>1.169021</td>\n",
              "      <td>1.871737</td>\n",
              "    </tr>\n",
              "    <tr>\n",
              "      <th>...</th>\n",
              "      <td>...</td>\n",
              "      <td>...</td>\n",
              "      <td>...</td>\n",
              "      <td>...</td>\n",
              "      <td>...</td>\n",
              "      <td>...</td>\n",
              "      <td>...</td>\n",
              "      <td>...</td>\n",
              "    </tr>\n",
              "    <tr>\n",
              "      <th>139</th>\n",
              "      <td>2.667794</td>\n",
              "      <td>1.948335</td>\n",
              "      <td>2.997447</td>\n",
              "      <td>3.656851</td>\n",
              "      <td>4.148633</td>\n",
              "      <td>3.497236</td>\n",
              "      <td>3.796911</td>\n",
              "      <td>1.611966</td>\n",
              "    </tr>\n",
              "    <tr>\n",
              "      <th>140</th>\n",
              "      <td>2.974186</td>\n",
              "      <td>2.581170</td>\n",
              "      <td>2.101531</td>\n",
              "      <td>2.870919</td>\n",
              "      <td>3.423748</td>\n",
              "      <td>3.789003</td>\n",
              "      <td>2.614556</td>\n",
              "      <td>2.554502</td>\n",
              "    </tr>\n",
              "    <tr>\n",
              "      <th>141</th>\n",
              "      <td>2.857585</td>\n",
              "      <td>3.840024</td>\n",
              "      <td>2.038268</td>\n",
              "      <td>2.597813</td>\n",
              "      <td>2.601122</td>\n",
              "      <td>2.880945</td>\n",
              "      <td>2.427974</td>\n",
              "      <td>2.008290</td>\n",
              "    </tr>\n",
              "    <tr>\n",
              "      <th>142</th>\n",
              "      <td>3.207289</td>\n",
              "      <td>2.597813</td>\n",
              "      <td>1.455461</td>\n",
              "      <td>3.123974</td>\n",
              "      <td>2.724341</td>\n",
              "      <td>2.564527</td>\n",
              "      <td>1.878454</td>\n",
              "      <td>1.765162</td>\n",
              "    </tr>\n",
              "    <tr>\n",
              "      <th>143</th>\n",
              "      <td>1.991647</td>\n",
              "      <td>2.711006</td>\n",
              "      <td>1.931692</td>\n",
              "      <td>2.298039</td>\n",
              "      <td>3.397080</td>\n",
              "      <td>3.280578</td>\n",
              "      <td>1.668612</td>\n",
              "      <td>2.184846</td>\n",
              "    </tr>\n",
              "  </tbody>\n",
              "</table>\n",
              "<p>144 rows × 8 columns</p>\n",
              "</div>\n",
              "      <button class=\"colab-df-convert\" onclick=\"convertToInteractive('df-a6c3aca4-f0ba-4c5b-9ea5-bd08c16536b9')\"\n",
              "              title=\"Convert this dataframe to an interactive table.\"\n",
              "              style=\"display:none;\">\n",
              "        \n",
              "  <svg xmlns=\"http://www.w3.org/2000/svg\" height=\"24px\"viewBox=\"0 0 24 24\"\n",
              "       width=\"24px\">\n",
              "    <path d=\"M0 0h24v24H0V0z\" fill=\"none\"/>\n",
              "    <path d=\"M18.56 5.44l.94 2.06.94-2.06 2.06-.94-2.06-.94-.94-2.06-.94 2.06-2.06.94zm-11 1L8.5 8.5l.94-2.06 2.06-.94-2.06-.94L8.5 2.5l-.94 2.06-2.06.94zm10 10l.94 2.06.94-2.06 2.06-.94-2.06-.94-.94-2.06-.94 2.06-2.06.94z\"/><path d=\"M17.41 7.96l-1.37-1.37c-.4-.4-.92-.59-1.43-.59-.52 0-1.04.2-1.43.59L10.3 9.45l-7.72 7.72c-.78.78-.78 2.05 0 2.83L4 21.41c.39.39.9.59 1.41.59.51 0 1.02-.2 1.41-.59l7.78-7.78 2.81-2.81c.8-.78.8-2.07 0-2.86zM5.41 20L4 18.59l7.72-7.72 1.47 1.35L5.41 20z\"/>\n",
              "  </svg>\n",
              "      </button>\n",
              "      \n",
              "  <style>\n",
              "    .colab-df-container {\n",
              "      display:flex;\n",
              "      flex-wrap:wrap;\n",
              "      gap: 12px;\n",
              "    }\n",
              "\n",
              "    .colab-df-convert {\n",
              "      background-color: #E8F0FE;\n",
              "      border: none;\n",
              "      border-radius: 50%;\n",
              "      cursor: pointer;\n",
              "      display: none;\n",
              "      fill: #1967D2;\n",
              "      height: 32px;\n",
              "      padding: 0 0 0 0;\n",
              "      width: 32px;\n",
              "    }\n",
              "\n",
              "    .colab-df-convert:hover {\n",
              "      background-color: #E2EBFA;\n",
              "      box-shadow: 0px 1px 2px rgba(60, 64, 67, 0.3), 0px 1px 3px 1px rgba(60, 64, 67, 0.15);\n",
              "      fill: #174EA6;\n",
              "    }\n",
              "\n",
              "    [theme=dark] .colab-df-convert {\n",
              "      background-color: #3B4455;\n",
              "      fill: #D2E3FC;\n",
              "    }\n",
              "\n",
              "    [theme=dark] .colab-df-convert:hover {\n",
              "      background-color: #434B5C;\n",
              "      box-shadow: 0px 1px 3px 1px rgba(0, 0, 0, 0.15);\n",
              "      filter: drop-shadow(0px 1px 2px rgba(0, 0, 0, 0.3));\n",
              "      fill: #FFFFFF;\n",
              "    }\n",
              "  </style>\n",
              "\n",
              "      <script>\n",
              "        const buttonEl =\n",
              "          document.querySelector('#df-a6c3aca4-f0ba-4c5b-9ea5-bd08c16536b9 button.colab-df-convert');\n",
              "        buttonEl.style.display =\n",
              "          google.colab.kernel.accessAllowed ? 'block' : 'none';\n",
              "\n",
              "        async function convertToInteractive(key) {\n",
              "          const element = document.querySelector('#df-a6c3aca4-f0ba-4c5b-9ea5-bd08c16536b9');\n",
              "          const dataTable =\n",
              "            await google.colab.kernel.invokeFunction('convertToInteractive',\n",
              "                                                     [key], {});\n",
              "          if (!dataTable) return;\n",
              "\n",
              "          const docLinkHtml = 'Like what you see? Visit the ' +\n",
              "            '<a target=\"_blank\" href=https://colab.research.google.com/notebooks/data_table.ipynb>data table notebook</a>'\n",
              "            + ' to learn more about interactive tables.';\n",
              "          element.innerHTML = '';\n",
              "          dataTable['output_type'] = 'display_data';\n",
              "          await google.colab.output.renderOutput(dataTable, element);\n",
              "          const docLink = document.createElement('div');\n",
              "          docLink.innerHTML = docLinkHtml;\n",
              "          element.appendChild(docLink);\n",
              "        }\n",
              "      </script>\n",
              "    </div>\n",
              "  </div>\n",
              "  "
            ]
          },
          "metadata": {},
          "execution_count": 83
        }
      ]
    }
  ]
}