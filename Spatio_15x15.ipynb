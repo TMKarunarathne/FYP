{
  "nbformat": 4,
  "nbformat_minor": 0,
  "metadata": {
    "colab": {
      "provenance": [],
      "authorship_tag": "ABX9TyMUD+nGKtxbkjyaSaqo5fvo",
      "include_colab_link": true
    },
    "kernelspec": {
      "name": "python3",
      "display_name": "Python 3"
    },
    "language_info": {
      "name": "python"
    }
  },
  "cells": [
    {
      "cell_type": "markdown",
      "metadata": {
        "id": "view-in-github",
        "colab_type": "text"
      },
      "source": [
        "<a href=\"https://colab.research.google.com/github/TMKarunarathne/FYP/blob/main/Spatio_15x15.ipynb\" target=\"_parent\"><img src=\"https://colab.research.google.com/assets/colab-badge.svg\" alt=\"Open In Colab\"/></a>"
      ]
    },
    {
      "cell_type": "markdown",
      "source": [
        "#**Spatio-temporal 15x15**\n"
      ],
      "metadata": {
        "id": "kXN8HbhFKzXX"
      }
    },
    {
      "cell_type": "code",
      "execution_count": null,
      "metadata": {
        "id": "C1UKCwB9KKOV"
      },
      "outputs": [],
      "source": [
        "import pandas as pd\n",
        "import numpy as np\n",
        "import tensorflow as tf\n",
        "import scipy.io\n",
        "import warnings\n",
        "from keras.models import Sequential\n",
        "from keras.layers import LSTM, Input, Dropout, Flatten\n",
        "from keras.layers import Dense\n",
        "from keras.layers import RepeatVector\n",
        "from keras.layers import TimeDistributed\n",
        "from matplotlib import pyplot as plt\n",
        "from sklearn.preprocessing import MinMaxScaler, StandardScaler\n",
        "from keras.models import Model\n",
        "from tensorflow.keras.layers import Conv2D,ConvLSTM2D,BatchNormalization,Conv3D, Conv1D\n",
        "from tensorflow.keras.layers import MaxPooling2D\n",
        "from tensorflow.keras.layers import Conv2DTranspose\n",
        "from tensorflow.keras.layers import concatenate,Reshape\n",
        "from tensorflow.keras.initializers import random_uniform, glorot_uniform, constant, identity\n",
        "from tensorflow.keras.layers import Input, Add, Dense, Activation, ZeroPadding2D, BatchNormalization, Flatten, Conv2D, AveragePooling2D, MaxPooling2D, GlobalMaxPooling2D\n",
        "from tensorflow.keras.models import Model, load_model\n",
        "#from test_utils import summary, comparator\n",
        "import seaborn as sns\n",
        "warnings.filterwarnings('ignore')"
      ]
    },
    {
      "cell_type": "code",
      "source": [
        "import io\n",
        "import imageio\n",
        "from IPython.display import Image, display\n",
        "from ipywidgets import widgets, Layout, HBox"
      ],
      "metadata": {
        "id": "AlzuBUZxn3N0"
      },
      "execution_count": null,
      "outputs": []
    },
    {
      "cell_type": "code",
      "source": [
        "from google.colab import drive\n",
        "drive.mount('/content/gdrive')\n",
        "drive.mount(\"/content/gdrive\", force_remount=True)\n",
        "\n",
        "rand_state =1000"
      ],
      "metadata": {
        "colab": {
          "base_uri": "https://localhost:8080/"
        },
        "id": "jT0WajF0KyM-",
        "outputId": "cce5d72c-4ed1-4c17-d827-1cd0fa086553"
      },
      "execution_count": null,
      "outputs": [
        {
          "output_type": "stream",
          "name": "stdout",
          "text": [
            "Mounted at /content/gdrive\n",
            "Mounted at /content/gdrive\n"
          ]
        }
      ]
    },
    {
      "cell_type": "code",
      "source": [
        "#mat_file = '/content/gdrive/MyDrive/Data_Set/FV_10000x8928_01.mat'\n",
        "#mat = scipy.io.loadmat(mat_file)"
      ],
      "metadata": {
        "id": "DuODzfq2L4ML"
      },
      "execution_count": null,
      "outputs": []
    },
    {
      "cell_type": "code",
      "source": [
        "#mat"
      ],
      "metadata": {
        "id": "4_0X6IE0MGbh"
      },
      "execution_count": null,
      "outputs": []
    },
    {
      "cell_type": "code",
      "source": [
        "#mat('df')"
      ],
      "metadata": {
        "id": "GY_JKFocMGc6"
      },
      "execution_count": null,
      "outputs": []
    },
    {
      "cell_type": "code",
      "source": [
        "path = '/content/gdrive/MyDrive/Data_Set/FV_all_in_one.csv'\n",
        "df = pd.read_csv(path)\n",
        "df = df.drop(df.columns[[0]], axis=1)\n"
      ],
      "metadata": {
        "id": "d3gxvPbSMGeY"
      },
      "execution_count": null,
      "outputs": []
    },
    {
      "cell_type": "code",
      "source": [
        "df['Datetime'] = pd.to_datetime(df['Datetime'] , unit=\"s\")\n",
        "#df.set_index(df['Datetime'] ,inplace=True)\n",
        "#df = df.drop(df.columns[[0]], axis=1)\n",
        "#df.head()"
      ],
      "metadata": {
        "id": "kDt4y1RgNm_P"
      },
      "execution_count": null,
      "outputs": []
    },
    {
      "cell_type": "code",
      "source": [
        "cell_no = 4098 # select a cell\n",
        "cell_data = df.iloc[:,cell_no]\n",
        "plt.plot( df['Datetime'],cell_data ,color = 'blue', linewidth=0.8)"
      ],
      "metadata": {
        "colab": {
          "base_uri": "https://localhost:8080/",
          "height": 282
        },
        "id": "yPEGVKSnMGfd",
        "outputId": "2975f459-5ed3-444a-820a-747532a2dc02"
      },
      "execution_count": null,
      "outputs": [
        {
          "output_type": "execute_result",
          "data": {
            "text/plain": [
              "[<matplotlib.lines.Line2D at 0x7f8580894430>]"
            ]
          },
          "metadata": {},
          "execution_count": 10
        },
        {
          "output_type": "display_data",
          "data": {
            "text/plain": [
              "<Figure size 432x288 with 1 Axes>"
            ],
            "image/png": "[encoded data removed]"
          },
          "metadata": {
            "needs_background": "light"
          }
        }
      ]
    },
    {
      "cell_type": "code",
      "source": [
        "dfdata = df.iloc[:,1:10001].to_numpy()\n",
        "dfdata.shape"
      ],
      "metadata": {
        "colab": {
          "base_uri": "https://localhost:8080/"
        },
        "id": "8WMwJP-cQLpU",
        "outputId": "91b32132-f736-4072-c1f7-796e69dba627"
      },
      "execution_count": null,
      "outputs": [
        {
          "output_type": "execute_result",
          "data": {
            "text/plain": [
              "(8928, 10000)"
            ]
          },
          "metadata": {},
          "execution_count": 11
        }
      ]
    },
    {
      "cell_type": "code",
      "source": [
        "dd = dfdata[0:3,0:3]"
      ],
      "metadata": {
        "id": "bhQ3p2JTRccm"
      },
      "execution_count": null,
      "outputs": []
    },
    {
      "cell_type": "code",
      "source": [
        "dd.reshape(-1)\n",
        "dd"
      ],
      "metadata": {
        "colab": {
          "base_uri": "https://localhost:8080/"
        },
        "id": "ZVwbj4bDTufC",
        "outputId": "720be434-f6a3-4a8b-c636-418c195b5035"
      },
      "execution_count": null,
      "outputs": [
        {
          "output_type": "execute_result",
          "data": {
            "text/plain": [
              "array([[11.02836638, 11.05822481, 11.09000792],\n",
              "       [11.12710088, 11.16792632, 11.21138339],\n",
              "       [10.8927706 , 10.91563796, 10.93997935]])"
            ]
          },
          "metadata": {},
          "execution_count": 13
        }
      ]
    },
    {
      "cell_type": "code",
      "source": [
        "arr3d = dfdata.reshape(8928, 100, 100)\n",
        "#arr3d"
      ],
      "metadata": {
        "id": "HUx-0DW2PgZ4"
      },
      "execution_count": null,
      "outputs": []
    },
    {
      "cell_type": "code",
      "source": [
        "shapeData = arr3d.shape"
      ],
      "metadata": {
        "id": "JwWuaDicU0R0"
      },
      "execution_count": null,
      "outputs": []
    },
    {
      "cell_type": "code",
      "source": [
        "arr3d[1,0,0]"
      ],
      "metadata": {
        "colab": {
          "base_uri": "https://localhost:8080/"
        },
        "id": "YxQ97AupVmKm",
        "outputId": "ec49057e-b1b5-4d9c-ad2b-1e4e406c8901"
      },
      "execution_count": null,
      "outputs": [
        {
          "output_type": "execute_result",
          "data": {
            "text/plain": [
              "11.1271008756737"
            ]
          },
          "metadata": {},
          "execution_count": 16
        }
      ]
    },
    {
      "cell_type": "code",
      "source": [
        "numInps = 5\n",
        "length = shapeData[0]"
      ],
      "metadata": {
        "id": "q-vXBrgEuIyu"
      },
      "execution_count": null,
      "outputs": []
    },
    {
      "cell_type": "code",
      "source": [
        "ss = np.zeros((2,2))\n",
        "ss[1,1]  = arr3d[1,0,0]\n",
        "ss[1,1]"
      ],
      "metadata": {
        "colab": {
          "base_uri": "https://localhost:8080/"
        },
        "id": "5cbS0qqYwyc1",
        "outputId": "435c049e-43a7-47a5-9d00-702f640bedc2"
      },
      "execution_count": null,
      "outputs": [
        {
          "output_type": "execute_result",
          "data": {
            "text/plain": [
              "11.1271008756737"
            ]
          },
          "metadata": {},
          "execution_count": 18
        }
      ]
    },
    {
      "cell_type": "code",
      "source": [
        "def shapingInputs( arr3d , numInps ):\n",
        "  shapeData = arr3d.shape\n",
        "  X = np.zeros(( shapeData[0]-numInps , numInps , shapeData[1] , shapeData[2] ))\n",
        "  Y = arr3d[numInps :]\n",
        "\n",
        "  for i in range(0,shapeData[0]-numInps):\n",
        "    X[i] = arr3d[i:i+numInps]\n",
        "\n",
        "  return X/2000 , Y/2000"
      ],
      "metadata": {
        "id": "6AZ2zhPkv3ow"
      },
      "execution_count": null,
      "outputs": []
    },
    {
      "cell_type": "code",
      "source": [
        "X ,Y = shapingInputs( arr3d[:,40:55,40:55] , numInps )"
      ],
      "metadata": {
        "id": "C4EHFO8Ht6ou"
      },
      "execution_count": null,
      "outputs": []
    },
    {
      "cell_type": "code",
      "source": [
        "X.shape"
      ],
      "metadata": {
        "id": "z4y39Tpgs2cU",
        "colab": {
          "base_uri": "https://localhost:8080/"
        },
        "outputId": "96103508-d135-4120-dd7d-63e4508b9208"
      },
      "execution_count": null,
      "outputs": [
        {
          "output_type": "execute_result",
          "data": {
            "text/plain": [
              "(8923, 5, 15, 15)"
            ]
          },
          "metadata": {},
          "execution_count": 21
        }
      ]
    },
    {
      "cell_type": "code",
      "source": [
        "Y.shape"
      ],
      "metadata": {
        "id": "f2ZIowAl0Gmo",
        "colab": {
          "base_uri": "https://localhost:8080/"
        },
        "outputId": "362bf236-fde2-4a74-c2bf-60de78485af6"
      },
      "execution_count": null,
      "outputs": [
        {
          "output_type": "execute_result",
          "data": {
            "text/plain": [
              "(8923, 15, 15)"
            ]
          },
          "metadata": {},
          "execution_count": 22
        }
      ]
    },
    {
      "cell_type": "code",
      "source": [
        "Y1 = Y.reshape(-1, 15, 15,1)\n",
        "Y1.shape"
      ],
      "metadata": {
        "colab": {
          "base_uri": "https://localhost:8080/"
        },
        "id": "__n-wrDe4tqt",
        "outputId": "8dddd981-ad49-45ea-b39f-22440f497973"
      },
      "execution_count": null,
      "outputs": [
        {
          "output_type": "execute_result",
          "data": {
            "text/plain": [
              "(8923, 15, 15, 1)"
            ]
          },
          "metadata": {},
          "execution_count": 23
        }
      ]
    },
    {
      "cell_type": "markdown",
      "source": [
        "### Trim 15x15 cells"
      ],
      "metadata": {
        "id": "Ynfbbg42La0q"
      }
    },
    {
      "cell_type": "code",
      "source": [
        "Xtrim = X[:,:,40:55,40:55]\n",
        "Ytrim = Y1[:,40:55,40:55,:]\n",
        "print(Xtrim.shape , Ytrim.shape)"
      ],
      "metadata": {
        "colab": {
          "base_uri": "https://localhost:8080/"
        },
        "id": "nGjW1romLj8q",
        "outputId": "84b3d96f-14cc-4f3b-bf9a-6b9fd5af5123"
      },
      "execution_count": null,
      "outputs": [
        {
          "output_type": "stream",
          "name": "stdout",
          "text": [
            "(8923, 5, 0, 0) (8923, 0, 0, 1)\n"
          ]
        }
      ]
    },
    {
      "cell_type": "markdown",
      "source": [
        "## **3D array was created...**"
      ],
      "metadata": {
        "id": "QEXjd1mRZH8B"
      }
    },
    {
      "cell_type": "code",
      "source": [
        "# Make sure images have shape (28, 28, 1)\n",
        "x_train = X.transpose((0,2,1,3))\n",
        "#x_test = np.expand_dims(x_test, -1)\n",
        "print(\"x_train shape:\", x_train.shape)\n",
        "print(x_train.shape[0], \"train samples\")\n",
        "#print(x_test.shape[0], \"test samples\")\n"
      ],
      "metadata": {
        "colab": {
          "base_uri": "https://localhost:8080/"
        },
        "id": "jTQZoe1iHxux",
        "outputId": "0e9dd666-1bff-42e3-ca7f-628ea01eeb55"
      },
      "execution_count": null,
      "outputs": [
        {
          "output_type": "stream",
          "name": "stdout",
          "text": [
            "x_train shape: (8923, 15, 5, 15)\n",
            "8923 train samples\n"
          ]
        }
      ]
    },
    {
      "cell_type": "code",
      "source": [],
      "metadata": {
        "id": "ezpt7T6sZFVC"
      },
      "execution_count": null,
      "outputs": []
    },
    {
      "cell_type": "code",
      "source": [
        "#Z = arr3d[1,:,:]\n",
        "Z = x_train[1,:,4,:]"
      ],
      "metadata": {
        "id": "YOeT-3LSb629"
      },
      "execution_count": null,
      "outputs": []
    },
    {
      "cell_type": "code",
      "source": [
        "import matplotlib.pyplot as plt\n",
        "plt.imshow(Z)\n",
        "plt.title(\"Internet Traffic\")\n",
        "plt.colorbar()\n",
        "plt.show()\n"
      ],
      "metadata": {
        "colab": {
          "base_uri": "https://localhost:8080/",
          "height": 281
        },
        "id": "kfD9Sb0DbrFo",
        "outputId": "16fff801-e9d7-4252-c144-5b12cf27f9d6"
      },
      "execution_count": null,
      "outputs": [
        {
          "output_type": "display_data",
          "data": {
            "text/plain": [
              "<Figure size 432x288 with 2 Axes>"
            ],
            "image/png": "[encoded data removed]"
          },
          "metadata": {
            "needs_background": "light"
          }
        }
      ]
    },
    {
      "cell_type": "code",
      "source": [
        "Z1 = Y1[0,:,:,0]\n",
        "plt.imshow(Z1)\n",
        "plt.title(\"Internet Traffic\")\n",
        "plt.colorbar()\n",
        "plt.show()"
      ],
      "metadata": {
        "id": "ul_r-yoI4D2i",
        "colab": {
          "base_uri": "https://localhost:8080/",
          "height": 281
        },
        "outputId": "1fbad5d7-c88a-4107-c377-40a74648973e"
      },
      "execution_count": null,
      "outputs": [
        {
          "output_type": "display_data",
          "data": {
            "text/plain": [
              "<Figure size 432x288 with 2 Axes>"
            ],
            "image/png": "[encoded data removed]"
          },
          "metadata": {
            "needs_background": "light"
          }
        }
      ]
    },
    {
      "cell_type": "markdown",
      "source": [
        "## **Move to CNN**"
      ],
      "metadata": {
        "id": "P5buMNGygb0a"
      }
    },
    {
      "cell_type": "code",
      "source": [
        "def convBlock(X, f, filters, training=True, initializer=random_uniform):\n",
        "    \n",
        "    F1, F2 = filters\n",
        "    \n",
        "    # First component of main path\n",
        "    X = Reshape((15,15,1))(X)\n",
        "\n",
        "    X = Conv2D(filters = F1, kernel_size = 3, strides = 2, padding = 'valid', kernel_initializer = initializer(seed=0))(X) #7x7\n",
        "    X = BatchNormalization(axis = 3)(X, training = training) # Default axis\n",
        "    X = Activation('relu')(X)\n",
        "\n",
        "    X = Conv2D(filters = F2, kernel_size = 3, strides = 2, padding = 'valid', kernel_initializer = initializer(seed=0))(X)  #3x3\n",
        "    X = BatchNormalization(axis = 3)(X, training = training) # Default axis\n",
        "    X = Activation('relu')(X)\n",
        "\n",
        "    return X"
      ],
      "metadata": {
        "id": "Ihtk3KhZQyGW"
      },
      "execution_count": null,
      "outputs": []
    },
    {
      "cell_type": "code",
      "source": [
        "def MySpatio(input_shape = (15, 5, 15)):\n",
        "\n",
        "    X_input = Input(input_shape)\n",
        "    X1 = X_input[:,:,0]\n",
        "    X2 = X_input[:,:,1]\n",
        "    X3 = X_input[:,:,2]\n",
        "    X4 = X_input[:,:,3]\n",
        "    X5 = X_input[:,:,4]\n",
        "\n",
        "    X1 = convBlock(X1, 3, [8, 8])\n",
        "    X2 = convBlock(X2, 3, [8, 8])\n",
        "    X3 = convBlock(X3, 3, [8, 8])\n",
        "    X4 = convBlock(X4, 3, [8, 8])\n",
        "    X5 = convBlock(X5, 3, [8, 8])\n",
        "\n",
        "    X1 = Flatten()(X1)\n",
        "    X2 = Flatten()(X2)\n",
        "    X3 = Flatten()(X3)\n",
        "    X4 = Flatten()(X4)\n",
        "    X5 = Flatten()(X5)\n",
        "    #print(X1.shape)\n",
        "\n",
        "    X = concatenate([X1, X2, X3, X4, X5], axis=1 )\n",
        "    #print(X.shape)\n",
        "\n",
        "    X = Reshape((72,5))(X)\n",
        "    #print(X.shape)\n",
        "\n",
        "    X = LSTM(50, return_sequences=True)(X) \n",
        "    #print('Hi 1')\n",
        "    #print(X.shape)\n",
        "    X = LSTM(225)(X)\n",
        "    #print('Hi 2')\n",
        "    #print(X.shape)\n",
        "    X = Reshape((15,15))(X)\n",
        "\n",
        "    # The Fully Connected (Dense) layer reduces its input to the number of classes using a softmax activation.\n",
        "    model = Model(inputs = X_input, outputs = X)\n",
        "\n",
        "    return model"
      ],
      "metadata": {
        "id": "9J75EzG3glFl",
        "cellView": "code"
      },
      "execution_count": null,
      "outputs": []
    },
    {
      "cell_type": "code",
      "source": [
        "model = MySpatio(input_shape = (15,5,15))\n",
        "model.summary()"
      ],
      "metadata": {
        "id": "lXNIFn0u32qs",
        "colab": {
          "base_uri": "https://localhost:8080/"
        },
        "outputId": "b1f5d59c-9044-4294-f41e-07efe011b6ba"
      },
      "execution_count": null,
      "outputs": [
        {
          "output_type": "stream",
          "name": "stdout",
          "text": [
            "Model: \"model_1\"\n",
            "__________________________________________________________________________________________________\n",
            " Layer (type)                   Output Shape         Param #     Connected to                     \n",
            "==================================================================================================\n",
            " input_39 (InputLayer)          [(None, 15, 5, 15)]  0           []                               \n",
            "                                                                                                  \n",
            " tf.__operators__.getitem_190 (  (None, 15, 15)      0           ['input_39[0][0]']               \n",
            " SlicingOpLambda)                                                                                 \n",
            "                                                                                                  \n",
            " tf.__operators__.getitem_191 (  (None, 15, 15)      0           ['input_39[0][0]']               \n",
            " SlicingOpLambda)                                                                                 \n",
            "                                                                                                  \n",
            " tf.__operators__.getitem_192 (  (None, 15, 15)      0           ['input_39[0][0]']               \n",
            " SlicingOpLambda)                                                                                 \n",
            "                                                                                                  \n",
            " tf.__operators__.getitem_193 (  (None, 15, 15)      0           ['input_39[0][0]']               \n",
            " SlicingOpLambda)                                                                                 \n",
            "                                                                                                  \n",
            " tf.__operators__.getitem_194 (  (None, 15, 15)      0           ['input_39[0][0]']               \n",
            " SlicingOpLambda)                                                                                 \n",
            "                                                                                                  \n",
            " reshape_92 (Reshape)           (None, 15, 15, 1)    0           ['tf.__operators__.getitem_190[0]\n",
            "                                                                 [0]']                            \n",
            "                                                                                                  \n",
            " reshape_93 (Reshape)           (None, 15, 15, 1)    0           ['tf.__operators__.getitem_191[0]\n",
            "                                                                 [0]']                            \n",
            "                                                                                                  \n",
            " reshape_94 (Reshape)           (None, 15, 15, 1)    0           ['tf.__operators__.getitem_192[0]\n",
            "                                                                 [0]']                            \n",
            "                                                                                                  \n",
            " reshape_95 (Reshape)           (None, 15, 15, 1)    0           ['tf.__operators__.getitem_193[0]\n",
            "                                                                 [0]']                            \n",
            "                                                                                                  \n",
            " reshape_96 (Reshape)           (None, 15, 15, 1)    0           ['tf.__operators__.getitem_194[0]\n",
            "                                                                 [0]']                            \n",
            "                                                                                                  \n",
            " conv2d_168 (Conv2D)            (None, 7, 7, 8)      80          ['reshape_92[0][0]']             \n",
            "                                                                                                  \n",
            " conv2d_170 (Conv2D)            (None, 7, 7, 8)      80          ['reshape_93[0][0]']             \n",
            "                                                                                                  \n",
            " conv2d_172 (Conv2D)            (None, 7, 7, 8)      80          ['reshape_94[0][0]']             \n",
            "                                                                                                  \n",
            " conv2d_174 (Conv2D)            (None, 7, 7, 8)      80          ['reshape_95[0][0]']             \n",
            "                                                                                                  \n",
            " conv2d_176 (Conv2D)            (None, 7, 7, 8)      80          ['reshape_96[0][0]']             \n",
            "                                                                                                  \n",
            " batch_normalization_166 (Batch  (None, 7, 7, 8)     32          ['conv2d_168[0][0]']             \n",
            " Normalization)                                                                                   \n",
            "                                                                                                  \n",
            " batch_normalization_168 (Batch  (None, 7, 7, 8)     32          ['conv2d_170[0][0]']             \n",
            " Normalization)                                                                                   \n",
            "                                                                                                  \n",
            " batch_normalization_170 (Batch  (None, 7, 7, 8)     32          ['conv2d_172[0][0]']             \n",
            " Normalization)                                                                                   \n",
            "                                                                                                  \n",
            " batch_normalization_172 (Batch  (None, 7, 7, 8)     32          ['conv2d_174[0][0]']             \n",
            " Normalization)                                                                                   \n",
            "                                                                                                  \n",
            " batch_normalization_174 (Batch  (None, 7, 7, 8)     32          ['conv2d_176[0][0]']             \n",
            " Normalization)                                                                                   \n",
            "                                                                                                  \n",
            " activation_160 (Activation)    (None, 7, 7, 8)      0           ['batch_normalization_166[0][0]']\n",
            "                                                                                                  \n",
            " activation_162 (Activation)    (None, 7, 7, 8)      0           ['batch_normalization_168[0][0]']\n",
            "                                                                                                  \n",
            " activation_164 (Activation)    (None, 7, 7, 8)      0           ['batch_normalization_170[0][0]']\n",
            "                                                                                                  \n",
            " activation_166 (Activation)    (None, 7, 7, 8)      0           ['batch_normalization_172[0][0]']\n",
            "                                                                                                  \n",
            " activation_168 (Activation)    (None, 7, 7, 8)      0           ['batch_normalization_174[0][0]']\n",
            "                                                                                                  \n",
            " conv2d_169 (Conv2D)            (None, 3, 3, 8)      584         ['activation_160[0][0]']         \n",
            "                                                                                                  \n",
            " conv2d_171 (Conv2D)            (None, 3, 3, 8)      584         ['activation_162[0][0]']         \n",
            "                                                                                                  \n",
            " conv2d_173 (Conv2D)            (None, 3, 3, 8)      584         ['activation_164[0][0]']         \n",
            "                                                                                                  \n",
            " conv2d_175 (Conv2D)            (None, 3, 3, 8)      584         ['activation_166[0][0]']         \n",
            "                                                                                                  \n",
            " conv2d_177 (Conv2D)            (None, 3, 3, 8)      584         ['activation_168[0][0]']         \n",
            "                                                                                                  \n",
            " batch_normalization_167 (Batch  (None, 3, 3, 8)     32          ['conv2d_169[0][0]']             \n",
            " Normalization)                                                                                   \n",
            "                                                                                                  \n",
            " batch_normalization_169 (Batch  (None, 3, 3, 8)     32          ['conv2d_171[0][0]']             \n",
            " Normalization)                                                                                   \n",
            "                                                                                                  \n",
            " batch_normalization_171 (Batch  (None, 3, 3, 8)     32          ['conv2d_173[0][0]']             \n",
            " Normalization)                                                                                   \n",
            "                                                                                                  \n",
            " batch_normalization_173 (Batch  (None, 3, 3, 8)     32          ['conv2d_175[0][0]']             \n",
            " Normalization)                                                                                   \n",
            "                                                                                                  \n",
            " batch_normalization_175 (Batch  (None, 3, 3, 8)     32          ['conv2d_177[0][0]']             \n",
            " Normalization)                                                                                   \n",
            "                                                                                                  \n",
            " activation_161 (Activation)    (None, 3, 3, 8)      0           ['batch_normalization_167[0][0]']\n",
            "                                                                                                  \n",
            " activation_163 (Activation)    (None, 3, 3, 8)      0           ['batch_normalization_169[0][0]']\n",
            "                                                                                                  \n",
            " activation_165 (Activation)    (None, 3, 3, 8)      0           ['batch_normalization_171[0][0]']\n",
            "                                                                                                  \n",
            " activation_167 (Activation)    (None, 3, 3, 8)      0           ['batch_normalization_173[0][0]']\n",
            "                                                                                                  \n",
            " activation_169 (Activation)    (None, 3, 3, 8)      0           ['batch_normalization_175[0][0]']\n",
            "                                                                                                  \n",
            " flatten_80 (Flatten)           (None, 72)           0           ['activation_161[0][0]']         \n",
            "                                                                                                  \n",
            " flatten_81 (Flatten)           (None, 72)           0           ['activation_163[0][0]']         \n",
            "                                                                                                  \n",
            " flatten_82 (Flatten)           (None, 72)           0           ['activation_165[0][0]']         \n",
            "                                                                                                  \n",
            " flatten_83 (Flatten)           (None, 72)           0           ['activation_167[0][0]']         \n",
            "                                                                                                  \n",
            " flatten_84 (Flatten)           (None, 72)           0           ['activation_169[0][0]']         \n",
            "                                                                                                  \n",
            " concatenate_15 (Concatenate)   (None, 360)          0           ['flatten_80[0][0]',             \n",
            "                                                                  'flatten_81[0][0]',             \n",
            "                                                                  'flatten_82[0][0]',             \n",
            "                                                                  'flatten_83[0][0]',             \n",
            "                                                                  'flatten_84[0][0]']             \n",
            "                                                                                                  \n",
            " reshape_97 (Reshape)           (None, 72, 5)        0           ['concatenate_15[0][0]']         \n",
            "                                                                                                  \n",
            " lstm_19 (LSTM)                 (None, 72, 50)       11200       ['reshape_97[0][0]']             \n",
            "                                                                                                  \n",
            " lstm_20 (LSTM)                 (None, 225)          248400      ['lstm_19[0][0]']                \n",
            "                                                                                                  \n",
            " reshape_98 (Reshape)           (None, 15, 15)       0           ['lstm_20[0][0]']                \n",
            "                                                                                                  \n",
            "==================================================================================================\n",
            "Total params: 263,240\n",
            "Trainable params: 263,080\n",
            "Non-trainable params: 160\n",
            "__________________________________________________________________________________________________\n"
          ]
        }
      ]
    },
    {
      "cell_type": "code",
      "source": [
        "x_train.shape"
      ],
      "metadata": {
        "colab": {
          "base_uri": "https://localhost:8080/"
        },
        "id": "wsAL_z7N3Skp",
        "outputId": "aa349730-4aaa-4638-cd77-b2159001e86a"
      },
      "execution_count": null,
      "outputs": [
        {
          "output_type": "execute_result",
          "data": {
            "text/plain": [
              "(8923, 15, 15, 5)"
            ]
          },
          "metadata": {},
          "execution_count": 118
        }
      ]
    },
    {
      "cell_type": "code",
      "source": [
        "#model.compile(loss=\"mse\", optimizer=\"adam\", metrics=[\"MeanAbsolutePercentageError\"])\n",
        "model.compile(loss=\"mse\", optimizer=\"adam\", metrics=[\"MeanSquaredError\"])"
      ],
      "metadata": {
        "id": "4WNu9-hK7QOU"
      },
      "execution_count": null,
      "outputs": []
    },
    {
      "cell_type": "code",
      "source": [
        "batch_size = 16\n",
        "epochs = 5"
      ],
      "metadata": {
        "id": "uZI5ZZ3AGJMM"
      },
      "execution_count": null,
      "outputs": []
    },
    {
      "cell_type": "code",
      "source": [
        "#model_cnn.fit( x_train, Y, batch_size=batch_size, epochs=epochs, validation_split=0.4)\n",
        "#model_cnn.fit( x_train , Y1, batch_size=batch_size, epochs=epochs, validation_split=0.4)\n",
        "model.fit( x_train , Y1, batch_size=batch_size, epochs=epochs, validation_split=0.4)"
      ],
      "metadata": {
        "id": "eplX-fEdGJPZ",
        "colab": {
          "base_uri": "https://localhost:8080/"
        },
        "outputId": "d32e1368-9e1c-4af8-b862-12635e671fec"
      },
      "execution_count": null,
      "outputs": [
        {
          "output_type": "stream",
          "name": "stdout",
          "text": [
            "Epoch 1/5\n",
            "335/335 [==============================] - 116s 291ms/step - loss: 9.7649e-04 - mean_squared_error: 9.7649e-04 - val_loss: 0.0032 - val_mean_squared_error: 0.0032\n",
            "Epoch 2/5\n",
            "335/335 [==============================] - 95s 285ms/step - loss: 9.5110e-04 - mean_squared_error: 9.5110e-04 - val_loss: 0.0037 - val_mean_squared_error: 0.0037\n",
            "Epoch 3/5\n",
            "335/335 [==============================] - 98s 292ms/step - loss: 9.2080e-04 - mean_squared_error: 9.2080e-04 - val_loss: 0.0038 - val_mean_squared_error: 0.0038\n",
            "Epoch 4/5\n",
            "335/335 [==============================] - 97s 288ms/step - loss: 9.0943e-04 - mean_squared_error: 9.0943e-04 - val_loss: 0.0033 - val_mean_squared_error: 0.0033\n",
            "Epoch 5/5\n",
            "335/335 [==============================] - 95s 285ms/step - loss: 8.9423e-04 - mean_squared_error: 8.9423e-04 - val_loss: 0.0032 - val_mean_squared_error: 0.0032\n"
          ]
        },
        {
          "output_type": "execute_result",
          "data": {
            "text/plain": [
              "<keras.callbacks.History at 0x7f8569547c10>"
            ]
          },
          "metadata": {},
          "execution_count": 33
        }
      ]
    },
    {
      "cell_type": "code",
      "source": [
        "#model.save('/content/gdrive/MyDrive/Data_Set/Spatio15x5_0218_01.model')\n",
        "#model = tf.keras.models.load_model(\"/content/gdrive/MyDrive/Data_Set/Spatio15x5_0216_01.model\")"
      ],
      "metadata": {
        "id": "kztmIowNvTMx",
        "colab": {
          "base_uri": "https://localhost:8080/"
        },
        "outputId": "da5f832d-14b5-45ae-f021-f29987bddbfa"
      },
      "execution_count": null,
      "outputs": [
        {
          "output_type": "stream",
          "name": "stderr",
          "text": [
            "WARNING:absl:Found untraced functions such as _jit_compiled_convolution_op, _jit_compiled_convolution_op, _jit_compiled_convolution_op, _jit_compiled_convolution_op, _jit_compiled_convolution_op while saving (showing 5 of 15). These functions will not be directly callable after loading.\n"
          ]
        }
      ]
    },
    {
      "cell_type": "code",
      "source": [
        "X.shape"
      ],
      "metadata": {
        "colab": {
          "base_uri": "https://localhost:8080/"
        },
        "id": "zxYM_rcKGJUj",
        "outputId": "ec4c98cc-aec8-4373-d434-d9c4c26cd6be"
      },
      "execution_count": null,
      "outputs": [
        {
          "output_type": "execute_result",
          "data": {
            "text/plain": [
              "(8923, 5, 15, 15)"
            ]
          },
          "metadata": {},
          "execution_count": 40
        }
      ]
    },
    {
      "cell_type": "code",
      "source": [
        "valPredict = model.predict(x_train[7200:720+7200])"
      ],
      "metadata": {
        "colab": {
          "base_uri": "https://localhost:8080/"
        },
        "id": "_pOjyNjLiX-7",
        "outputId": "0f39ca53-50c7-4692-c61f-8fdeae0cd3bb"
      },
      "execution_count": null,
      "outputs": [
        {
          "output_type": "stream",
          "name": "stdout",
          "text": [
            "23/23 [==============================] - 2s 80ms/step\n"
          ]
        }
      ]
    },
    {
      "cell_type": "code",
      "source": [
        "valPredict.shape"
      ],
      "metadata": {
        "colab": {
          "base_uri": "https://localhost:8080/"
        },
        "id": "SgeEMacGjPbI",
        "outputId": "12c92246-e696-4a80-afd2-ac700da2bfe5"
      },
      "execution_count": null,
      "outputs": [
        {
          "output_type": "execute_result",
          "data": {
            "text/plain": [
              "(720, 15, 15)"
            ]
          },
          "metadata": {},
          "execution_count": 42
        }
      ]
    },
    {
      "cell_type": "code",
      "source": [
        "Y.shape"
      ],
      "metadata": {
        "colab": {
          "base_uri": "https://localhost:8080/"
        },
        "id": "-VesEkOAjvW0",
        "outputId": "7406fced-501e-4959-8942-276f5012f1ee"
      },
      "execution_count": null,
      "outputs": [
        {
          "output_type": "execute_result",
          "data": {
            "text/plain": [
              "(8923, 15, 15)"
            ]
          },
          "metadata": {},
          "execution_count": 43
        }
      ]
    },
    {
      "cell_type": "code",
      "source": [
        "fig = plt.figure(figsize=(16, 4))\n",
        "plt.subplot(1, 3, 1)\n",
        "Z1 = Y[7200,:,:]\n",
        "plt.imshow(Z1,cmap=\"hot\")\n",
        "plt.title(\"Original Internet Traffic\")\n",
        "plt.clim( 0,.5)\n",
        "plt.colorbar()\n",
        "#plt.show()\n",
        "\n",
        "plt.subplot(1, 3, 2)\n",
        "Z2 = valPredict[0,:,:]\n",
        "plt.imshow(Z2,cmap=\"hot\")\n",
        "plt.title(\"Predicted Internet Traffic\")\n",
        "plt.clim( 0,.5)\n",
        "plt.colorbar()\n",
        "\n",
        "plt.subplot(1, 3, 3)\n",
        "Z3 = Z2-Z1\n",
        "plt.imshow(Z3,cmap=\"hot\")\n",
        "plt.title(\"Error of The Predicted Internet Traffic\")\n",
        "plt.clim( 0,.5)\n",
        "plt.colorbar()\n",
        "#plt.savefig('/content/gdrive/MyDrive/Data_Set/plots_mid_2/Spatio15x15_01_compare.png',transparent=True)\n",
        "plt.show()\n",
        "\n"
      ],
      "metadata": {
        "colab": {
          "base_uri": "https://localhost:8080/",
          "height": 274
        },
        "id": "iByb91eisluq",
        "outputId": "3a3141da-abeb-4152-a12c-62f5966bd39d"
      },
      "execution_count": null,
      "outputs": [
        {
          "output_type": "display_data",
          "data": {
            "text/plain": [
              "<Figure size 1152x288 with 6 Axes>"
            ],
            "image/png": "[encoded data removed]"
          },
          "metadata": {
            "needs_background": "light"
          }
        }
      ]
    },
    {
      "cell_type": "code",
      "source": [
        "print(Z3.max())"
      ],
      "metadata": {
        "colab": {
          "base_uri": "https://localhost:8080/"
        },
        "id": "l0E0XttI5ADx",
        "outputId": "11a751db-1c59-4ea8-b869-d346653a1618"
      },
      "execution_count": null,
      "outputs": [
        {
          "output_type": "stream",
          "name": "stdout",
          "text": [
            "0.22922276003210956\n"
          ]
        }
      ]
    },
    {
      "cell_type": "code",
      "source": [
        "yout = Y[7200:7200 + valPredict.shape[0]]\n",
        "print('pred shape = ',valPredict.shape)\n",
        "print('Y shape = ',yout.shape)"
      ],
      "metadata": {
        "id": "o9Tg-SJgi7tf",
        "colab": {
          "base_uri": "https://localhost:8080/"
        },
        "outputId": "8c637cbb-3493-4a3b-dd7a-a90774e56ab0"
      },
      "execution_count": null,
      "outputs": [
        {
          "output_type": "stream",
          "name": "stdout",
          "text": [
            "pred shape =  (720, 15, 15)\n",
            "Y shape =  (720, 15, 15)\n"
          ]
        }
      ]
    },
    {
      "cell_type": "code",
      "source": [
        "def absError(y , ypred):\n",
        "  i = 1\n",
        "  y[np.where(y<0.0005*i)] = 0.0005*i\n",
        "  dif = (np.divide( np.absolute(ypred - y) , y))/(ypred.shape[1] * ypred.shape[2])/ypred.shape[0]\n",
        "  return np.sum(dif)\n",
        "\n",
        "\n",
        "def msep(y , ypred):\n",
        "  i = 1\n",
        "  y[np.where(y<0.0005*i)] = 0.0005*i\n",
        "  dif = (np.divide( np.square(ypred - y) , np.square(y) ))/(ypred.shape[1] * ypred.shape[2])/ypred.shape[0]\n",
        "  return np.sum(dif)"
      ],
      "metadata": {
        "id": "hlRIcGGYqFb_"
      },
      "execution_count": null,
      "outputs": []
    },
    {
      "cell_type": "code",
      "source": [
        "print('Absolute percentage error is = ' , absError(yout , valPredict))\n",
        "print('Absolute percentage mse is = ' , msep(yout , valPredict))"
      ],
      "metadata": {
        "colab": {
          "base_uri": "https://localhost:8080/"
        },
        "id": "K7EPCAEcqFfc",
        "outputId": "81a43954-6288-4bad-a4bd-3139b2026f9c"
      },
      "execution_count": null,
      "outputs": [
        {
          "output_type": "stream",
          "name": "stdout",
          "text": [
            "Absolute percentage error is =  0.5043607397101132\n",
            "Absolute percentage mse is =  1.7211857945859659\n"
          ]
        }
      ]
    }
  ]
}